{
 "cells": [
  {
   "cell_type": "markdown",
   "id": "64adcbee-35dc-40ad-815a-91b9cfca7348",
   "metadata": {},
   "source": [
    "# CCLE BRAF prediction validation in TCGA"
   ]
  },
  {
   "cell_type": "code",
   "execution_count": 1,
   "id": "d020b2e4-9b73-4505-ab9c-1bfbf877a664",
   "metadata": {},
   "outputs": [],
   "source": [
    "from pnet import pnet_loader, Pnet\n",
    "from util import util, sankey_diag\n",
    "\n",
    "import torch\n",
    "import seaborn as sns\n",
    "import pandas as pd\n",
    "import numpy as np\n",
    "import random\n",
    "from sklearn import metrics\n",
    "import matplotlib.pyplot as plt\n",
    "from sklearn.metrics import roc_auc_score\n",
    "from sklearn.ensemble import RandomForestClassifier\n",
    "from sklearn.mixture import GaussianMixture\n",
    "from sklearn.decomposition import PCA\n",
    "import torch.nn.functional as F\n",
    "import torch.nn as nn\n",
    "import os\n",
    "\n",
    "%load_ext autoreload\n",
    "%autoreload 2"
   ]
  },
  {
   "cell_type": "markdown",
   "id": "b3e87985-d7b1-4565-a950-e120aa580760",
   "metadata": {},
   "source": [
    "## Load CCLE"
   ]
  },
  {
   "cell_type": "code",
   "execution_count": 2,
   "id": "0324683b-5cc9-4f67-a521-4abca383c01b",
   "metadata": {},
   "outputs": [
    {
     "name": "stderr",
     "output_type": "stream",
     "text": [
      "/opt/conda/lib/python3.7/site-packages/IPython/core/interactiveshell.py:3524: DtypeWarning: Columns (5,21,27,28,29,30,31,32,33) have mixed types.Specify dtype option on import or set low_memory=False.\n",
      "  exec(code_obj, self.user_global_ns, self.user_ns)\n"
     ]
    }
   ],
   "source": [
    "gene_cn = pd.read_csv('/mnt/disks/pancan/CCLE/CCLE_gene_cn.csv').set_index('Unnamed: 0')\n",
    "gene_cn.rename(columns=dict(zip(gene_cn.columns, [x.split(' ')[0] for x in gene_cn.columns])), inplace=True)\n",
    "\n",
    "muts = pd.read_csv('/mnt/disks/pancan/CCLE/CCLE_mutations.csv')\n",
    "muts.dropna(subset=['Variant_Classification'], inplace=True)\n",
    "\n",
    "MUTATIONS_DICT = util.MUTATIONS_DICT\n",
    "\n",
    "grouped_muts = muts[muts['Variant_Classification'].apply(lambda x: MUTATIONS_DICT[x]) != 'Silent'][['Hugo_Symbol',\n",
    "                                                                                                    'Variant_Classification',\n",
    "                                                                                                    'Tumor_Sample_Barcode']].groupby(['Tumor_Sample_Barcode',\n",
    "                                                                                                                                          'Hugo_Symbol']).count()\n",
    "mut = grouped_muts.unstack(level=-1).fillna(0).droplevel(0, axis=1)\n",
    "\n",
    "v600e_mut_samples_ccle = muts[muts['Protein_Change']=='p.V600E']['Tumor_Sample_Barcode'].values\n",
    "\n",
    "v600_target_ccle = pd.DataFrame(index=mut.index)\n",
    "v600_target_ccle['v600_mut'] = [int(x in v600e_mut_samples_ccle) for x in mut.index]\n",
    "\n",
    "rna = pd.read_csv('/mnt/disks/pancan/CCLE/CCLE_expression_full.csv').set_index('Unnamed: 0')\n",
    "rna.rename(columns=dict(zip(rna.columns, [x.split(' ')[0] for x in rna.columns])), inplace=True)\n",
    "\n",
    "genetic_data_ccle = {'rna': rna, 'mut': mut}"
   ]
  },
  {
   "cell_type": "markdown",
   "id": "d15c7390-009d-4180-b77c-113bae32086e",
   "metadata": {},
   "source": [
    "Let's check which tumor type from CCLE has the most V600E mutations:"
   ]
  },
  {
   "cell_type": "code",
   "execution_count": 9,
   "id": "2b542bd4-2ac7-4c85-9877-2a8c1bf4d860",
   "metadata": {},
   "outputs": [
    {
     "data": {
      "text/html": [
       "<div>\n",
       "<style scoped>\n",
       "    .dataframe tbody tr th:only-of-type {\n",
       "        vertical-align: middle;\n",
       "    }\n",
       "\n",
       "    .dataframe tbody tr th {\n",
       "        vertical-align: top;\n",
       "    }\n",
       "\n",
       "    .dataframe thead th {\n",
       "        text-align: right;\n",
       "    }\n",
       "</style>\n",
       "<table border=\"1\" class=\"dataframe\">\n",
       "  <thead>\n",
       "    <tr style=\"text-align: right;\">\n",
       "      <th></th>\n",
       "      <th>Category</th>\n",
       "      <th>Count</th>\n",
       "    </tr>\n",
       "  </thead>\n",
       "  <tbody>\n",
       "    <tr>\n",
       "      <th>0</th>\n",
       "      <td>melanoma</td>\n",
       "      <td>53</td>\n",
       "    </tr>\n",
       "    <tr>\n",
       "      <th>1</th>\n",
       "      <td>colorectal</td>\n",
       "      <td>10</td>\n",
       "    </tr>\n",
       "    <tr>\n",
       "      <th>2</th>\n",
       "      <td>thyroid</td>\n",
       "      <td>7</td>\n",
       "    </tr>\n",
       "    <tr>\n",
       "      <th>3</th>\n",
       "      <td>glioma</td>\n",
       "      <td>6</td>\n",
       "    </tr>\n",
       "    <tr>\n",
       "      <th>4</th>\n",
       "      <td>breast</td>\n",
       "      <td>2</td>\n",
       "    </tr>\n",
       "    <tr>\n",
       "      <th>5</th>\n",
       "      <td>ovary</td>\n",
       "      <td>2</td>\n",
       "    </tr>\n",
       "    <tr>\n",
       "      <th>6</th>\n",
       "      <td>lung_NSC</td>\n",
       "      <td>2</td>\n",
       "    </tr>\n",
       "    <tr>\n",
       "      <th>7</th>\n",
       "      <td>AML</td>\n",
       "      <td>2</td>\n",
       "    </tr>\n",
       "    <tr>\n",
       "      <th>8</th>\n",
       "      <td>Ewings_sarcoma</td>\n",
       "      <td>1</td>\n",
       "    </tr>\n",
       "    <tr>\n",
       "      <th>9</th>\n",
       "      <td>soft_tissue</td>\n",
       "      <td>1</td>\n",
       "    </tr>\n",
       "    <tr>\n",
       "      <th>10</th>\n",
       "      <td>liver</td>\n",
       "      <td>1</td>\n",
       "    </tr>\n",
       "    <tr>\n",
       "      <th>11</th>\n",
       "      <td>meningioma</td>\n",
       "      <td>1</td>\n",
       "    </tr>\n",
       "  </tbody>\n",
       "</table>\n",
       "</div>"
      ],
      "text/plain": [
       "          Category  Count\n",
       "0         melanoma     53\n",
       "1       colorectal     10\n",
       "2          thyroid      7\n",
       "3           glioma      6\n",
       "4           breast      2\n",
       "5            ovary      2\n",
       "6         lung_NSC      2\n",
       "7              AML      2\n",
       "8   Ewings_sarcoma      1\n",
       "9      soft_tissue      1\n",
       "10           liver      1\n",
       "11      meningioma      1"
      ]
     },
     "execution_count": 9,
     "metadata": {},
     "output_type": "execute_result"
    }
   ],
   "source": [
    "value_counts"
   ]
  },
  {
   "cell_type": "code",
   "execution_count": 17,
   "id": "e173a6c8-0191-409a-9c1f-916c36f7338e",
   "metadata": {},
   "outputs": [
    {
     "data": {
      "image/png": "[encoded data removed]",
      "text/plain": [
       "<Figure size 432x288 with 1 Axes>"
      ]
     },
     "metadata": {
      "needs_background": "light"
     },
     "output_type": "display_data"
    }
   ],
   "source": [
    "ccle_ann = pd.read_csv('/mnt/disks/pancan/CCLE/Cell_lines_annotations_20181226.txt', delimiter='\\t')\n",
    "annot_target = ccle_ann.join(v600_target_ccle, on='depMapID')\n",
    "\n",
    "value_counts = annot_target[annot_target['v600_mut'] == 1]['type_refined'].value_counts().reset_index()\n",
    "value_counts.columns = ['Category', 'Count']\n",
    "\n",
    "sns.barplot(data=value_counts, y='Category', x='Count')\n",
    "plt.ylabel('Cancer type')\n",
    "plt.xlabel('Count')\n",
    "sns.despine()"
   ]
  },
  {
   "cell_type": "markdown",
   "id": "2d440bef-9830-4498-8f44-9c86d9ab24f1",
   "metadata": {},
   "source": [
    "We see that Melanoma is the most appropriate cancer to validate our predictions on."
   ]
  },
  {
   "cell_type": "markdown",
   "id": "9a338db5-8e01-4cdc-b073-e77719af67ba",
   "metadata": {},
   "source": [
    "## Load TCGA"
   ]
  },
  {
   "cell_type": "code",
   "execution_count": 18,
   "id": "4bb0d1ca-c7cf-4577-bd91-9b8f090c8087",
   "metadata": {},
   "outputs": [
    {
     "name": "stderr",
     "output_type": "stream",
     "text": [
      "/opt/conda/lib/python3.7/site-packages/ipykernel_launcher.py:2: DtypeWarning: Columns (4,38,39,43,84) have mixed types.Specify dtype option on import or set low_memory=False.\n",
      "  \n",
      "/opt/conda/lib/python3.7/site-packages/IPython/core/interactiveshell.py:3524: DtypeWarning: Columns (4,38,39,43,84) have mixed types.Specify dtype option on import or set low_memory=False.\n",
      "  exec(code_obj, self.user_global_ns, self.user_ns)\n"
     ]
    }
   ],
   "source": [
    "datapath='/mnt/disks/pancan/data/'\n",
    "rna, cna, tumor_type, mut = util.load_tcga_dataset(datapath+'skcm_tcga_pan_can_atlas_2018', load_mut=True)\n",
    "\n",
    "muts = pd.read_csv('/mnt/disks/pancan/data/skcm_tcga_pan_can_atlas_2018/data_mutations.txt', delimiter='\\t')\n",
    "muts.dropna(subset=['Variant_Classification'], inplace=True)\n",
    "\n",
    "MUTATIONS_DICT = util.MUTATIONS_DICT\n",
    "\n",
    "grouped_muts = muts[muts['Variant_Classification'].apply(lambda x: MUTATIONS_DICT[x]) != 'Silent'][['Hugo_Symbol',\n",
    "                                                                                                    'Variant_Classification',\n",
    "                                                                                                    'Tumor_Sample_Barcode']].groupby(['Tumor_Sample_Barcode',\n",
    "                                                                                                                                          'Hugo_Symbol']).count()\n",
    "mut = grouped_muts.unstack(level=-1).fillna(0).droplevel(0, axis=1)\n",
    "\n",
    "v600e_mut_samples_tcga = muts[muts['HGVSp_Short']=='p.V600E']['Tumor_Sample_Barcode'].values\n",
    "\n",
    "v600_target_tcga = pd.DataFrame(index=mut.index)\n",
    "v600_target_tcga['v600_mut'] = [int(x in v600e_mut_samples_tcga) for x in mut.index]\n",
    "\n",
    "genetic_data_tcga = {'rna': rna, 'mut': mut}"
   ]
  },
  {
   "cell_type": "code",
   "execution_count": 19,
   "id": "1c7b8ae6-c0ec-4949-ad74-73a5e2ae519e",
   "metadata": {},
   "outputs": [],
   "source": [
    "canc_genes = list(pd.read_csv('../../pnet_database/genes/cancer_genes.txt').values.reshape(-1))\n",
    "canc_genes.remove('TP53')\n",
    "canc_genes.remove('BRAF')\n",
    "gene_overlap = set.intersection(set(genetic_data_ccle['rna'].columns), set(genetic_data_ccle['mut'].columns),\n",
    "                                set(genetic_data_tcga['rna'].columns), set(genetic_data_tcga['mut'].columns),\n",
    "                                canc_genes)"
   ]
  },
  {
   "cell_type": "code",
   "execution_count": 20,
   "id": "98130d79-05f1-4964-ba41-4483a847bb62",
   "metadata": {},
   "outputs": [
    {
     "name": "stdout",
     "output_type": "stream",
     "text": [
      "Found 439 overlapping indicies\n",
      "Found 673 overlapping genes\n",
      "generated input DataFrame of size (439, 1346)\n"
     ]
    }
   ],
   "source": [
    "inds = pnet_loader.get_indicies(genetic_data = genetic_data_tcga,\n",
    "                                target=v600_target_tcga)\n",
    "ext_val_dataset = pnet_loader.PnetDataset(genetic_data = genetic_data_tcga,\n",
    "                                          target=v600_target_tcga, indicies=inds, gene_set=gene_overlap)"
   ]
  },
  {
   "cell_type": "code",
   "execution_count": null,
   "id": "ae208989-0198-48c2-81ee-dbebf5e87b92",
   "metadata": {},
   "outputs": [
    {
     "name": "stdout",
     "output_type": "stream",
     "text": [
      "Task defined: BC \n",
      " if this is not the intended task please specify task\n",
      "Given 2 Input modalities\n",
      "Found 1183 overlapping indicies\n",
      "Initializing Train Dataset\n",
      "Found 673 overlapping genes\n",
      "generated input DataFrame of size (947, 1346)\n",
      "Initializing Test Dataset\n",
      "Found 673 overlapping genes\n",
      "generated input DataFrame of size (236, 1346)\n",
      "Found 673 overlapping genes\n",
      "We are sending to cuda\n",
      "Hit early stopping criteria\n",
      "Task defined: BC \n",
      " if this is not the intended task please specify task\n",
      "Given 2 Input modalities\n",
      "Found 1183 overlapping indicies\n",
      "Initializing Train Dataset\n",
      "Found 673 overlapping genes\n",
      "generated input DataFrame of size (947, 1346)\n",
      "Initializing Test Dataset\n",
      "Found 673 overlapping genes\n",
      "generated input DataFrame of size (236, 1346)\n",
      "Found 673 overlapping genes\n",
      "We are sending to cuda\n",
      "Hit early stopping criteria\n"
     ]
    }
   ],
   "source": [
    "class_weights = util.get_class_weights(torch.tensor(v600_target_ccle.values).view(-1))\n",
    "for i in range(10):\n",
    "    model, train_scores, test_scores, train_dataset, test_dataset = Pnet.run(genetic_data_ccle, v600_target_ccle, seed=0,\n",
    "                                                                                         dropout=0.2, input_dropout=0.5, lr=1e-3,\n",
    "                                                                             weight_decay=1e-3, batch_size=64, epochs=400, early_stopping=True, \n",
    "                                                                             loss_weight=class_weights,\n",
    "                                                                             save_path='../results/ccle_braf/model',\n",
    "                                                                             loss_fn=nn.BCEWithLogitsLoss(reduce=None), gene_set=gene_overlap)\n",
    "    plt.clf()\n",
    "    Pnet.evaluate_interpret_save(model, test_dataset, '../results/ccle_braf/run{}'.format(i))\n",
    "    Pnet.evaluate_interpret_save(model, ext_val_dataset, '../results/tcga_braf/run{}'.format(i))"
   ]
  },
  {
   "cell_type": "code",
   "execution_count": null,
   "id": "c0981966-360b-479b-992d-87b6e4139dce",
   "metadata": {},
   "outputs": [],
   "source": [
    "data_sets = ['tcga_braf', 'ccle_braf']\n",
    "listl = []\n",
    "for ds in data_sets:\n",
    "    for i in range(10):\n",
    "        auc = torch.load('../results/{}/run{}/AUC.pt'.format(ds, i))\n",
    "        rf = ds.split('_')[-1]\n",
    "        ds_ = ds.split('_')[0]\n",
    "        if rf == 'rf':\n",
    "            listl.append([auc.item(), ds_, 'RF'])\n",
    "        else:\n",
    "            listl.append([auc.item(), ds_, 'P-Net'])\n",
    "\n",
    "auc_df = pd.DataFrame(listl, columns=['AUC', 'Data Set', 'Model'])\n",
    "auc_df['Data Set'] = auc_df['Data Set'].apply(lambda x: x.upper() if x=='tcga' else x.upper())"
   ]
  },
  {
   "cell_type": "code",
   "execution_count": null,
   "id": "e0cb98aa-a0c2-48c0-abb3-52815328e719",
   "metadata": {},
   "outputs": [],
   "source": [
    "median_values = auc_df.groupby('Data Set')['AUC'].median().sort_values(ascending=False)\n",
    "median_order = median_values.index.tolist()\n",
    "\n",
    "custom_colors = {'P-Net': '#41B6E6', 'RF': '#FFA300'}\n",
    "sns.boxplot(data=auc_df, y='AUC', x='Data Set', hue='Model', showfliers=False, palette=custom_colors,\n",
    "                      whiskerprops={'color': 'gainsboro'},\n",
    "                      capprops={'color': 'gainsboro'},\n",
    "                        boxprops={'edgecolor': 'none'},\n",
    "                      medianprops={'color': 'dimgrey'},\n",
    "           order = median_order)\n",
    "ax = plt.gca()\n",
    "\n",
    "ax.spines[['top', 'right']].set_visible(False)\n",
    "ax.set_ylabel('AUC-ROC', size=14)\n",
    "ax.set_xlabel('Data Set', size=14)\n",
    "ax.set_ylim((0.5,1))\n",
    "plt.savefig('../figures/SKCM_BRAF_CCLE_vs_TCGA.pdf')\n",
    "plt.show()"
   ]
  },
  {
   "cell_type": "code",
   "execution_count": null,
   "id": "46c73a83-a4ce-45e9-8b7a-9593a5a38f57",
   "metadata": {},
   "outputs": [],
   "source": []
  }
 ],
 "metadata": {
  "environment": {
   "kernel": "conda-root-py",
   "name": "pytorch-gpu.1-10.m90",
   "type": "gcloud",
   "uri": "gcr.io/deeplearning-platform-release/pytorch-gpu.1-10:m90"
  },
  "kernelspec": {
   "display_name": "Python [conda env:root] *",
   "language": "python",
   "name": "conda-root-py"
  },
  "language_info": {
   "codemirror_mode": {
    "name": "ipython",
    "version": 3
   },
   "file_extension": ".py",
   "mimetype": "text/x-python",
   "name": "python",
   "nbconvert_exporter": "python",
   "pygments_lexer": "ipython3",
   "version": "3.7.12"
  }
 },
 "nbformat": 4,
 "nbformat_minor": 5
}
