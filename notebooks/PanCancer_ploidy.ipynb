{
 "cells": [
  {
   "cell_type": "code",
   "execution_count": 12,
   "id": "7556505a",
   "metadata": {},
   "outputs": [],
   "source": [
    "from pnet import pnet_loader, Pnet\n",
    "from util import util, sankey_diag\n",
    "\n",
    "import torch\n",
    "import seaborn as sns\n",
    "import pandas as pd\n",
    "import numpy as np\n",
    "import random\n",
    "from sklearn import metrics\n",
    "import matplotlib.pyplot as plt\n",
    "from sklearn.metrics import roc_auc_score\n",
    "from sklearn.ensemble import RandomForestClassifier\n",
    "from sklearn.mixture import GaussianMixture\n",
    "from sklearn.decomposition import PCA\n",
    "import torch.nn.functional as F\n",
    "import torch.nn as nn\n",
    "import os\n",
    "import scipy\n",
    "\n",
    "%load_ext autoreload\n",
    "%autoreload 2"
   ]
  },
  {
   "cell_type": "code",
   "execution_count": 2,
   "id": "f50d9af5-b861-48ad-87f3-3460ec8ddf97",
   "metadata": {},
   "outputs": [],
   "source": [
    "datapath='/mnt/disks/pancan/data/'\n",
    "#datapath='../data/'"
   ]
  },
  {
   "cell_type": "code",
   "execution_count": 3,
   "id": "a84647d2-5376-4ee3-913d-516f5c8ba6c6",
   "metadata": {},
   "outputs": [],
   "source": [
    "directories = [datapath + x for x in os.listdir(datapath) if 'tcga_pan_can_atlas' in x]\n",
    "#directories = ['../data/' + x for x in os.listdir('../data/') if 'tcga_pan_can_atlas' in x]"
   ]
  },
  {
   "cell_type": "code",
   "execution_count": 4,
   "id": "3436fc3f",
   "metadata": {},
   "outputs": [],
   "source": [
    "def load_single_dataset(directory_path):\n",
    "    rna_exp = pd.read_csv(directory_path + '/data_mrna_seq_v2_rsem.txt',\n",
    "                           sep='\\t').dropna().set_index('Hugo_Symbol').drop(['Entrez_Gene_Id'], axis=1).T\n",
    "    rna_exp = rna_exp.loc[:,~rna_exp.columns.duplicated()].astype(float).copy()\n",
    "    cna = pd.read_csv(directory_path + '/data_cna.txt',\n",
    "                      sep='\\t').dropna().set_index('Hugo_Symbol').drop(['Entrez_Gene_Id'], axis=1).T\n",
    "    cna.drop('Cytoband', errors='ignore', inplace=True)\n",
    "    cna = cna.loc[:,~cna.columns.duplicated()].astype(float).copy()\n",
    "    \n",
    "    genes = list(set(rna_exp.columns).intersection(cna.columns))\n",
    "    indices = list(set(rna_exp.index).intersection(cna.index))\n",
    "    tumor_type = pd.DataFrame(len(indices)*[directory_path.split('/')[-1].split('_')[0]],\n",
    "                              index = indices, columns=['tumor'])\n",
    "    return rna_exp[genes], cna[genes], tumor_type"
   ]
  },
  {
   "cell_type": "code",
   "execution_count": 5,
   "id": "01f00eed",
   "metadata": {},
   "outputs": [],
   "source": [
    "# For All data sets\n",
    "rna, cna, tumor = pd.DataFrame(), pd.DataFrame(), pd.DataFrame()\n",
    "for path in directories:\n",
    "    rna_, cna_, tumor_ = load_single_dataset(path)\n",
    "    rna = pd.concat([rna_, rna])\n",
    "    cna = pd.concat([cna_, cna])\n",
    "    tumor = pd.concat([tumor_, tumor])\n",
    "    \n",
    "rna.dropna(axis=1, inplace=True)\n",
    "cna.dropna(axis=1, inplace=True)\n",
    "rna = (rna-rna.mean())/rna.std()"
   ]
  },
  {
   "cell_type": "code",
   "execution_count": 6,
   "id": "07427f3a-be56-4e00-825a-f12396a32c0a",
   "metadata": {},
   "outputs": [],
   "source": [
    "# For MESO data only\n",
    "# rna, cna, tumor = util.load_tcga_dataset(directories[19], load_mut=False)"
   ]
  },
  {
   "cell_type": "markdown",
   "id": "0f67d5e4",
   "metadata": {},
   "source": [
    "### External validation dataset"
   ]
  },
  {
   "cell_type": "code",
   "execution_count": 7,
   "id": "09905926",
   "metadata": {},
   "outputs": [
    {
     "name": "stderr",
     "output_type": "stream",
     "text": [
      "/opt/conda/lib/python3.7/site-packages/IPython/core/interactiveshell.py:3524: DtypeWarning: Columns (14) have mixed types.Specify dtype option on import or set low_memory=False.\n",
      "  exec(code_obj, self.user_global_ns, self.user_ns)\n"
     ]
    }
   ],
   "source": [
    "rna_ext_val = pd.read_csv('/mnt/disks/pancan/data/mel_dfci_2019/data_RNA_Seq_expression_tpm_all_sample_Zscores.txt',\n",
    "                          delimiter='\\t').set_index('Hugo_Symbol').T.drop('Entrez_Gene_Id').dropna(axis=1)\n",
    "cna_ext_val = pd.read_csv('/mnt/disks/pancan/data/mel_dfci_2019/data_CNA.txt',\n",
    "                          delimiter='\\t').set_index('Hugo_Symbol').T.dropna(axis=1)\n",
    "mut_ext_val = pd.read_csv('/mnt/disks/pancan/data/all_muts_12_1_2020_ref_alt_counts_added.maf', sep='\\t')\n",
    "mut_ext_val['Patient'] = mut_ext_val['Patient'].apply(lambda x: x.replace('Patient', 'Sample'))\n",
    "grouped_mut_ext_val = mut_ext_val[mut_ext_val['Variant_Classification'].apply(lambda x: util.MUTATIONS_DICT[x]) != 'Silent'][['Hugo_Symbol',\n",
    "                                                                                                'Variant_Classification',\n",
    "                                                                                                'Patient']].groupby(['Patient','Hugo_Symbol']).count()\n",
    "mut_ext_val = grouped_mut_ext_val.unstack(level=-1).fillna(0).droplevel(0, axis=1)\n",
    "\n",
    "# genes = list(set.intersection(set(rna.columns), set(cna.columns),\n",
    "#                               set(rna_ext_val.columns), set(cna_ext_val.columns),\n",
    "#                               set(mut.columns), set(mut_ext_val.columns)))\n",
    "\n",
    "genes = list(set.intersection(set(rna.columns), set(cna.columns),\n",
    "                              set(rna_ext_val.columns), set(cna_ext_val.columns)\n",
    "                              ))\n",
    "\n",
    "rna = rna[genes].copy()\n",
    "cna = cna[genes].copy()\n",
    "rna_ext_val = rna_ext_val[genes].copy()\n",
    "cna_ext_val = cna_ext_val[genes].copy()"
   ]
  },
  {
   "cell_type": "code",
   "execution_count": 8,
   "id": "8d2707b1",
   "metadata": {},
   "outputs": [],
   "source": [
    "genetic_data = {'rna': rna}"
   ]
  },
  {
   "cell_type": "code",
   "execution_count": 9,
   "id": "af32a747",
   "metadata": {},
   "outputs": [],
   "source": [
    "absolute_TCGA = pd.read_csv('/mnt/disks/pancan/data/m1000/TCGA_mastercalls.abs_tables_JSedit.fixed.txt',\n",
    "                            delimiter='\\t', index_col='array')\n",
    "absolute_ploidy = absolute_TCGA[['ploidy']].join(rna, how='inner')['ploidy']\n",
    "absolute_ploidy.dropna(inplace=True)"
   ]
  },
  {
   "cell_type": "code",
   "execution_count": 10,
   "id": "e8782086",
   "metadata": {},
   "outputs": [],
   "source": [
    "gm = GaussianMixture(n_components=2, random_state=0).fit(absolute_ploidy.values.reshape(-1, 1))\n",
    "y = gm.predict_proba(np.linspace(0,absolute_ploidy.max(),1000).reshape(-1,1))\n",
    "ma = np.linspace(0,absolute_ploidy.max(),1000)[y[:,1] < 0.5].max()\n",
    "absolute_ploidy_y = pd.DataFrame(index=absolute_ploidy.index, columns=['dichtomized_ploidy'],\n",
    "                               data=[int(p > 2.4) \n",
    "                                     for p in absolute_ploidy.values])"
   ]
  },
  {
   "cell_type": "code",
   "execution_count": 11,
   "id": "c32423e9",
   "metadata": {},
   "outputs": [
    {
     "data": {
      "image/png": "[encoded data removed]",
      "text/plain": [
       "<Figure size 432x288 with 1 Axes>"
      ]
     },
     "metadata": {
      "needs_background": "light"
     },
     "output_type": "display_data"
    }
   ],
   "source": [
    "plt.rcParams[\"figure.figsize\"] = (6,4)\n",
    "plt.hist(absolute_ploidy, bins=80)\n",
    "plt.vlines([2.4], color='r', ymin=0, ymax=50)\n",
    "plt.savefig('../figures/ploidy_cutoff_selection.pdf')\n",
    "plt.show()"
   ]
  },
  {
   "cell_type": "code",
   "execution_count": 12,
   "id": "b366fc42",
   "metadata": {},
   "outputs": [
    {
     "data": {
      "text/plain": [
       "dichtomized_ploidy    0.355367\n",
       "dtype: float64"
      ]
     },
     "execution_count": 12,
     "metadata": {},
     "output_type": "execute_result"
    }
   ],
   "source": [
    "absolute_ploidy_y.sum()/absolute_ploidy_y.count()"
   ]
  },
  {
   "cell_type": "code",
   "execution_count": 13,
   "id": "f55bba8f",
   "metadata": {},
   "outputs": [],
   "source": [
    "tumor_order = list(tumor.join(absolute_ploidy).groupby('tumor').median().sort_values('ploidy', ascending=False).index)"
   ]
  },
  {
   "cell_type": "code",
   "execution_count": 14,
   "id": "b0d93e16",
   "metadata": {},
   "outputs": [],
   "source": [
    "coloring = (tumor.join(absolute_ploidy).groupby('tumor').median().sort_values('ploidy', ascending=False) > 2.5)"
   ]
  },
  {
   "cell_type": "code",
   "execution_count": 15,
   "id": "b1006ce6",
   "metadata": {},
   "outputs": [],
   "source": [
    "coloring['color'] = coloring['ploidy'].apply(lambda x: 'aquamarine' if x else 'whitesmoke')"
   ]
  },
  {
   "cell_type": "code",
   "execution_count": 16,
   "id": "ca09b649",
   "metadata": {},
   "outputs": [
    {
     "data": {
      "image/png": "[encoded data removed]",
      "text/plain": [
       "<Figure size 576x864 with 1 Axes>"
      ]
     },
     "metadata": {
      "needs_background": "light"
     },
     "output_type": "display_data"
    }
   ],
   "source": [
    "df = tumor.join(absolute_ploidy)\n",
    "df['tumor'] = [x.upper() for x in list(df['tumor'].values)]\n",
    "df['coloring'] = coloring['ploidy']\n",
    "tumor_order = list(df.groupby('tumor').median().sort_values('ploidy', ascending=False).index)\n",
    "plt.rcParams[\"figure.figsize\"] = (8,12)\n",
    "sns.boxplot(data=df, x='ploidy', y='tumor', order=tumor_order, color='w', palette=coloring['color'], showfliers=False)\n",
    "plt.axvline(2, color='orangered', linestyle='--', linewidth=2)\n",
    "plt.tick_params(axis='y', which='both',  left=False, top=False, labelleft=True)\n",
    "sns.despine()\n",
    "plt.savefig('../figures/ploidy_by_tumortype.pdf')"
   ]
  },
  {
   "cell_type": "code",
   "execution_count": 17,
   "id": "86793982-8bde-4e53-9a1f-3c8269af9729",
   "metadata": {},
   "outputs": [
    {
     "data": {
      "image/png": "[encoded data removed]",
      "text/plain": [
       "<Figure size 432x288 with 1 Axes>"
      ]
     },
     "metadata": {
      "needs_background": "light"
     },
     "output_type": "display_data"
    }
   ],
   "source": [
    "plt.rcParams[\"figure.figsize\"] = (6,4)\n",
    "plt.hist(df[df['tumor'] == 'MESO']['ploidy'], bins=30)\n",
    "plt.vlines([2.4], color='r', ymin=0, ymax=50)\n",
    "# plt.savefig('../figures/ploidy_cutoff_selection.pdf')\n",
    "plt.show()"
   ]
  },
  {
   "cell_type": "code",
   "execution_count": 18,
   "id": "46748e8c",
   "metadata": {},
   "outputs": [],
   "source": [
    "# heterogeneity = pd.read_csv('/mnt/disks/pancan/data/heterogeneity.tsv', delimiter=' ')\n",
    "# heterogeneity"
   ]
  },
  {
   "cell_type": "markdown",
   "id": "efbd2915",
   "metadata": {},
   "source": [
    "## Select genes"
   ]
  },
  {
   "cell_type": "code",
   "execution_count": 20,
   "id": "42d8debe-160e-4dde-9ac1-08f062ce5a90",
   "metadata": {},
   "outputs": [],
   "source": [
    "rna = rna.dropna(axis=1)"
   ]
  },
  {
   "cell_type": "code",
   "execution_count": 21,
   "id": "927ddd76",
   "metadata": {},
   "outputs": [
    {
     "data": {
      "text/plain": [
       "PCA(n_components=50)"
      ]
     },
     "execution_count": 21,
     "metadata": {},
     "output_type": "execute_result"
    }
   ],
   "source": [
    "pca = PCA(n_components=50)\n",
    "pca.fit(rna.values)"
   ]
  },
  {
   "cell_type": "code",
   "execution_count": 22,
   "id": "908b0c7c",
   "metadata": {},
   "outputs": [],
   "source": [
    "pca_loadings = pd.DataFrame(pca.components_.T * np.sqrt(pca.explained_variance_), index=rna.columns)"
   ]
  },
  {
   "cell_type": "code",
   "execution_count": 23,
   "id": "1809464a",
   "metadata": {},
   "outputs": [],
   "source": [
    "genes_pca = abs(pca_loadings).sum(axis=1).nlargest(1000)"
   ]
  },
  {
   "cell_type": "code",
   "execution_count": 24,
   "id": "ff470149",
   "metadata": {},
   "outputs": [
    {
     "data": {
      "image/png": "[encoded data removed]",
      "text/plain": [
       "<Figure size 432x432 with 1 Axes>"
      ]
     },
     "metadata": {
      "needs_background": "light"
     },
     "output_type": "display_data"
    }
   ],
   "source": [
    "plt.rcParams[\"figure.figsize\"] = (6,6)\n",
    "plt.hist(abs(pca_loadings).sum(axis=1), bins=80)\n",
    "plt.show()"
   ]
  },
  {
   "cell_type": "markdown",
   "id": "3ca670b3",
   "metadata": {},
   "source": [
    "## Run pnet"
   ]
  },
  {
   "cell_type": "code",
   "execution_count": null,
   "id": "7b1a89e0-385b-4034-bd97-7cf6aeef567f",
   "metadata": {},
   "outputs": [],
   "source": [
    "# from sklearn.model_selection import StratifiedKFold\n",
    "\n",
    "# ploidy_inds = pnet_loader.get_indicies(genetic_data, absolute_ploidy_y)\n",
    "# y = list(absolute_ploidy_y.loc[ploidy_inds]['dichtomized_ploidy'])\n",
    "# # Assuming `y` contains the labels for your training data\n",
    "# # and `prostate_inds` contains the indices of the training data\n",
    "# # Make sure `y` and `prostate_inds` have the same length\n",
    "\n",
    "# # Create an instance of StratifiedKFold with 10 splits\n",
    "# skf = StratifiedKFold(n_splits=10)\n",
    "\n",
    "# # Initialize an empty list to store the sublists of indices\n",
    "# sublists = []\n",
    "\n",
    "# # Split the indices into sublists stratified by labels\n",
    "# for train_index, _ in skf.split(ploidy_inds, y):\n",
    "#     sublist = [ploidy_inds[i] for i in train_index]\n",
    "#     sublists.append(sublist)\n",
    "    \n",
    "# for i, s in enumerate(sublists):\n",
    "#     s_ = [x for x in ploidy_inds if x not in s]\n",
    "#     train_dataset, test_dataset = pnet_loader.generate_train_test(genetic_data, absolute_ploidy_y, train_inds=s, test_inds=s_)\n",
    "#     train_dataset.save_indicies('../data/splits/skcm_ploidy/train_set_{}.csv'.format(i))\n",
    "#     test_dataset.save_indicies('../data/splits/skcm_ploidy/test_set_{}.csv'.format(i))"
   ]
  },
  {
   "cell_type": "code",
   "execution_count": null,
   "id": "1bc53d07-7230-4b46-b3e9-58d56bac64b8",
   "metadata": {},
   "outputs": [],
   "source": [
    "canc_genes = list(pd.read_csv('../../pnet_database/genes/cancer_genes.txt').values.reshape(-1))"
   ]
  },
  {
   "cell_type": "code",
   "execution_count": 26,
   "id": "3d5f0728-b948-4bf3-962c-335884bbf295",
   "metadata": {},
   "outputs": [
    {
     "name": "stdout",
     "output_type": "stream",
     "text": [
      "Found 81 overlapping indicies\n",
      "Found 13472 overlapping genes\n",
      "generated input DataFrame of size (81, 13472)\n"
     ]
    }
   ],
   "source": [
    "meso_val_target = tumor.join(absolute_ploidy_y)[tumor.join(absolute_ploidy_y)['tumor'] == 'meso'][['dichtomized_ploidy']]\n",
    "\n",
    "inds = pnet_loader.get_indicies(genetic_data = genetic_data,\n",
    "                                target=meso_val_target)\n",
    "\n",
    "meso_val_dataset = pnet_loader.PnetDataset(genetic_data = genetic_data,\n",
    "                                          target=meso_val_target, indicies=inds)"
   ]
  },
  {
   "cell_type": "code",
   "execution_count": 27,
   "id": "43da456f-2ee1-4a42-8ad4-c7c3be91d956",
   "metadata": {},
   "outputs": [],
   "source": [
    "genetic_data = {'rna': rna[rna.join(tumor)['tumor'] != 'meso']}"
   ]
  },
  {
   "cell_type": "code",
   "execution_count": 28,
   "id": "3cac151d-e43d-400f-9fa1-2b30eab96a71",
   "metadata": {
    "tags": []
   },
   "outputs": [
    {
     "name": "stdout",
     "output_type": "stream",
     "text": [
      "Found 121 overlapping indicies\n"
     ]
    },
    {
     "ename": "NameError",
     "evalue": "name 'canc_genes' is not defined",
     "output_type": "error",
     "traceback": [
      "\u001b[0;31m---------------------------------------------------------------------------\u001b[0m",
      "\u001b[0;31mNameError\u001b[0m                                 Traceback (most recent call last)",
      "\u001b[0;32m/tmp/ipykernel_4147/1662679311.py\u001b[0m in \u001b[0;36m<module>\u001b[0;34m\u001b[0m\n\u001b[1;32m      7\u001b[0m                                 target=ext_val_target)\n\u001b[1;32m      8\u001b[0m ext_val_dataset = pnet_loader.PnetDataset(genetic_data = ext_val_genetic_data,\n\u001b[0;32m----> 9\u001b[0;31m                                           target=ext_val_target, indicies=inds, gene_set=canc_genes)\n\u001b[0m",
      "\u001b[0;31mNameError\u001b[0m: name 'canc_genes' is not defined"
     ]
    }
   ],
   "source": [
    "ext_val_genetic_data = {'rna': rna_ext_val, 'mut': mut_ext_val}\n",
    "ext_val_ploidy = pd.read_csv('/mnt/disks/pancan/data/mel_dfci_2019/data_clinical_sample.txt',\n",
    "                             delimiter='\\t').set_index('Sample Identifier').iloc[4:]\n",
    "ext_val_target = pd.DataFrame(ext_val_ploidy['Ploidy'].astype('float') > 2.4).astype('int')\n",
    "\n",
    "inds = pnet_loader.get_indicies(genetic_data = ext_val_genetic_data,\n",
    "                                target=ext_val_target)\n",
    "ext_val_dataset = pnet_loader.PnetDataset(genetic_data = ext_val_genetic_data,\n",
    "                                          target=ext_val_target, indicies=inds, gene_set=canc_genes)"
   ]
  },
  {
   "cell_type": "code",
   "execution_count": null,
   "id": "bb5f4dd5-a13b-4206-88f7-cbef478e6fe6",
   "metadata": {
    "tags": []
   },
   "outputs": [],
   "source": [
    "class_weights = util.get_class_weights(torch.tensor(absolute_ploidy_y.values).view(-1))\n",
    "for i in range(10):\n",
    "    model, train_scores, test_scores, train_dataset, test_dataset = Pnet.run(genetic_data, absolute_ploidy_y,seed=0, dropout=0.2, input_dropout=0.5, lr=1e-3,\n",
    "                                                                             weight_decay=1e-3, batch_size=64, epochs=400, early_stopping=True,\n",
    "                                                                             loss_weight=class_weights, save_path='../results/ploidy/model',\n",
    "                                                                             loss_fn=nn.BCEWithLogitsLoss(reduce=None), gene_set=canc_genes)\n",
    "    plt.clf()\n",
    "    Pnet.evaluate_interpret_save(model, test_dataset, '../results/ploidy/tcga/run{}'.format(i))\n",
    "    Pnet.evaluate_interpret_save(model, meso_val_dataset, '../results/ploidy/tcga_meso/run{}'.format(i))"
   ]
  },
  {
   "cell_type": "code",
   "execution_count": null,
   "id": "2a3357e3-b372-46c9-a706-9b64f97d9632",
   "metadata": {},
   "outputs": [],
   "source": [
    "all_imps = pd.DataFrame(columns=['SNR', 'Model', 'Layer', 'imp_mean', 'imp_std'])\n",
    "for l in ['gene_feature', 'gene', 'layer_0', 'layer_1', 'layer_2', 'layer_3']:\n",
    "    df_imps = pd.DataFrame()\n",
    "    df_ranks = pd.DataFrame()\n",
    "    for i in range(10):\n",
    "        imps = pd.read_csv('../results/ploidy/tcga/run{}/{}_importances.csv'.format(i, l)).set_index('Unnamed: 0')\n",
    "        imps = abs(imps.join(meso_val_target).groupby('dichtomized_ploidy').mean().diff(axis=0).iloc[1])\n",
    "        ranks = imps.rank(ascending=False)\n",
    "        df_imps['run{}'.format(i)] = imps\n",
    "        df_ranks['run{}'.format(i)] = ranks\n",
    "\n",
    "    imp_mean = df_imps.mean(axis=1)\n",
    "    imp_std = df_imps.std(axis=1)\n",
    "    snr = imp_mean/(imp_std+1e-9)\n",
    "    melted_imps = snr.to_frame('SNR')\n",
    "    melted_imps['imp_mean'] = imp_mean\n",
    "    melted_imps['imp_std'] = imp_std\n",
    "    melted_imps['Model'] = 'P-Net'\n",
    "    melted_imps['Layer'] = l\n",
    "    all_imps = pd.concat([all_imps, melted_imps])\n",
    "\n",
    "        \n",
    "layer_numeric = {'gene_feature':-1, 'gene':0, 'layer_0':1, 'layer_1':2, 'layer_2':3, 'layer_3':4}\n",
    "all_imps['Numeric Layer'] = all_imps['Layer'].apply(lambda x: layer_numeric[x])\n",
    "\n",
    "all_imps['Z'] = all_imps.groupby('Layer')['SNR'].transform(lambda x: (x - x.mean()) / x.std())\n",
    "all_imps['p_val'] = scipy.stats.norm.sf(abs(all_imps['Z']))\n",
    "all_imps[all_imps['Z'] > 5]"
   ]
  },
  {
   "cell_type": "code",
   "execution_count": null,
   "id": "1114e73e-c95b-4c8f-b2e7-21c7a14039f5",
   "metadata": {},
   "outputs": [],
   "source": [
    "all_imps[(all_imps['Z'] > 5) & (all_imps['Layer'] == 'gene')]"
   ]
  },
  {
   "cell_type": "code",
   "execution_count": 29,
   "id": "9267012f-85f3-44e2-90b1-79dd63419e77",
   "metadata": {
    "tags": []
   },
   "outputs": [
    {
     "name": "stdout",
     "output_type": "stream",
     "text": [
      "Given 1 Input modalities\n"
     ]
    },
    {
     "name": "stderr",
     "output_type": "stream",
     "text": [
      "/opt/conda/lib/python3.7/site-packages/pandas/util/_decorators.py:311: SettingWithCopyWarning: \n",
      "A value is trying to be set on a copy of a slice from a DataFrame\n",
      "\n",
      "See the caveats in the documentation: https://pandas.pydata.org/pandas-docs/stable/user_guide/indexing.html#returning-a-view-versus-a-copy\n",
      "  return func(*args, **kwargs)\n"
     ]
    },
    {
     "name": "stdout",
     "output_type": "stream",
     "text": [
      "Found 9011 overlapping indicies\n",
      "Initializing Train Dataset\n",
      "Found 13472 overlapping genes\n",
      "generated input DataFrame of size (6308, 13472)\n",
      "Initializing Test Dataset\n",
      "Found 13472 overlapping genes\n",
      "generated input DataFrame of size (2703, 13472)\n",
      "Given 1 Input modalities\n",
      "Found 9011 overlapping indicies\n",
      "Initializing Train Dataset\n",
      "Found 13472 overlapping genes\n",
      "generated input DataFrame of size (6308, 13472)\n",
      "Initializing Test Dataset\n",
      "Found 13472 overlapping genes\n",
      "generated input DataFrame of size (2703, 13472)\n",
      "Given 1 Input modalities\n",
      "Found 9011 overlapping indicies\n",
      "Initializing Train Dataset\n",
      "Found 13472 overlapping genes\n",
      "generated input DataFrame of size (6308, 13472)\n",
      "Initializing Test Dataset\n",
      "Found 13472 overlapping genes\n",
      "generated input DataFrame of size (2703, 13472)\n",
      "Given 1 Input modalities\n",
      "Found 9011 overlapping indicies\n",
      "Initializing Train Dataset\n",
      "Found 13472 overlapping genes\n",
      "generated input DataFrame of size (6308, 13472)\n",
      "Initializing Test Dataset\n",
      "Found 13472 overlapping genes\n",
      "generated input DataFrame of size (2703, 13472)\n",
      "Given 1 Input modalities\n",
      "Found 9011 overlapping indicies\n",
      "Initializing Train Dataset\n",
      "Found 13472 overlapping genes\n",
      "generated input DataFrame of size (6308, 13472)\n",
      "Initializing Test Dataset\n",
      "Found 13472 overlapping genes\n",
      "generated input DataFrame of size (2703, 13472)\n",
      "Given 1 Input modalities\n",
      "Found 9011 overlapping indicies\n",
      "Initializing Train Dataset\n",
      "Found 13472 overlapping genes\n",
      "generated input DataFrame of size (6308, 13472)\n",
      "Initializing Test Dataset\n",
      "Found 13472 overlapping genes\n",
      "generated input DataFrame of size (2703, 13472)\n",
      "Given 1 Input modalities\n",
      "Found 9011 overlapping indicies\n",
      "Initializing Train Dataset\n",
      "Found 13472 overlapping genes\n",
      "generated input DataFrame of size (6308, 13472)\n",
      "Initializing Test Dataset\n",
      "Found 13472 overlapping genes\n",
      "generated input DataFrame of size (2703, 13472)\n",
      "Given 1 Input modalities\n",
      "Found 9011 overlapping indicies\n",
      "Initializing Train Dataset\n",
      "Found 13472 overlapping genes\n",
      "generated input DataFrame of size (6308, 13472)\n",
      "Initializing Test Dataset\n",
      "Found 13472 overlapping genes\n",
      "generated input DataFrame of size (2703, 13472)\n",
      "Given 1 Input modalities\n",
      "Found 9011 overlapping indicies\n",
      "Initializing Train Dataset\n",
      "Found 13472 overlapping genes\n",
      "generated input DataFrame of size (6308, 13472)\n",
      "Initializing Test Dataset\n",
      "Found 13472 overlapping genes\n",
      "generated input DataFrame of size (2703, 13472)\n",
      "Given 1 Input modalities\n",
      "Found 9011 overlapping indicies\n",
      "Initializing Train Dataset\n",
      "Found 13472 overlapping genes\n",
      "generated input DataFrame of size (6308, 13472)\n",
      "Initializing Test Dataset\n",
      "Found 13472 overlapping genes\n",
      "generated input DataFrame of size (2703, 13472)\n"
     ]
    },
    {
     "data": {
      "image/png": "[encoded data removed]",
      "text/plain": [
       "<Figure size 432x432 with 1 Axes>"
      ]
     },
     "metadata": {
      "needs_background": "light"
     },
     "output_type": "display_data"
    }
   ],
   "source": [
    "for i in range(10):\n",
    "    path = '../results/ploidy/tcga_rf/run{}'.format(i)\n",
    "    if not os.path.exists(path):\n",
    "        os.makedirs(path)\n",
    "    train_dataset, test_dataset = pnet_loader.generate_train_test(genetic_data, target=absolute_ploidy_y)\n",
    "    \n",
    "    x_train = train_dataset.x\n",
    "    additional_train = train_dataset.additional\n",
    "    y_train = train_dataset.y.ravel()\n",
    "    x_test = test_dataset.x\n",
    "    additional_test = test_dataset.additional\n",
    "    y_test = test_dataset.y.ravel()\n",
    "    \n",
    "    rfc = RandomForestClassifier(max_depth=None, random_state=0)\n",
    "    rfc.fit(x_train, y_train)\n",
    "    preds = rfc.predict(x_test)\n",
    "    preds_prob = rfc.predict_proba(x_test)\n",
    "    plt.clf()\n",
    "    auc = util.get_auc(torch.tensor(preds_prob[:,1], dtype=torch.float), y_test, save=path+'/auc_curve.pdf')\n",
    "    auc_prc = util.get_auc_prc(torch.tensor(preds_prob[:,1], dtype=torch.float), y_test)\n",
    "    f1_score = util.get_f1(torch.tensor(preds, dtype=torch.float), y_test)\n",
    "    importances = rfc.feature_importances_\n",
    "    forest_importances = pd.Series(importances, index=test_dataset.input_df.columns)\n",
    "    forest_importances.to_csv(path+'/gene_feature_importances.csv')\n",
    "    torch.save(auc, path+'/AUC.pt')\n",
    "    torch.save(auc_prc, path+'/AUC_PRC.pt')\n",
    "    torch.save(f1_score, path+'/F1.pt')\n",
    "    \n",
    "    # Val Data evaluation:\n",
    "    path = '../results/ploidy/tcga_meso_rf/run{}'.format(i)\n",
    "    if not os.path.exists(path):\n",
    "        os.makedirs(path)\n",
    "    x_val = meso_val_dataset.x\n",
    "    additional_val = meso_val_dataset.additional\n",
    "    y_val = meso_val_dataset.y.ravel()\n",
    "\n",
    "    preds = rfc.predict(x_val)\n",
    "    preds_prob = rfc.predict_proba(x_val)\n",
    "    plt.clf()\n",
    "    auc = util.get_auc(torch.tensor(preds_prob[:,1], dtype=torch.float), y_val, save=path+'/auc_curve.pdf')\n",
    "    auc_prc = util.get_auc_prc(torch.tensor(preds_prob[:,1], dtype=torch.float), y_val)\n",
    "    f1_score = util.get_f1(torch.tensor(preds, dtype=torch.float), y_val)\n",
    "    importances = rfc.feature_importances_\n",
    "    forest_importances = pd.Series(importances, index=meso_val_dataset.input_df.columns)\n",
    "    forest_importances.to_csv(path+'/gene_feature_importances.csv')\n",
    "    torch.save(auc, path+'/AUC.pt')\n",
    "    torch.save(auc_prc, path+'/AUC_PRC.pt')\n",
    "    torch.save(f1_score, path+'/F1.pt')"
   ]
  },
  {
   "cell_type": "code",
   "execution_count": null,
   "id": "432e37c6-bb44-42aa-8a41-8191b7673bdd",
   "metadata": {},
   "outputs": [],
   "source": [
    "num_sections = 1\n",
    "rf_imps = pd.DataFrame()\n",
    "rf_ranks = pd.DataFrame()\n",
    "for i in range(10):\n",
    "    imps = pd.read_csv('../results/ploidy/tcga_rf/run{}/gene_feature_importances.csv'.format(i)).set_index('Unnamed: 0')\n",
    "    ranks = imps.rank(ascending=False)\n",
    "    rf_imps['run{}'.format(i)] = imps\n",
    "    rf_ranks['run{}'.format(i)] = ranks\n",
    "    \n",
    "imp_mean = rf_imps.mean(axis=1)\n",
    "imp_std = rf_imps.std(axis=1)\n",
    "snr = imp_mean/(imp_std+1e-9)\n",
    "# melted_imps = snr.to_frame('SNR')\n",
    "# melted_imps['imp_mean'] = imp_mean\n",
    "# melted_imps['imp_std'] = imp_std\n",
    "# melted_imps['Model'] = 'P-Net'\n",
    "# melted_imps['Layer'] = l\n",
    "# all_imps = pd.concat([all_imps, melted_imps])\n",
    "    \n",
    "# rf_imps.mean(axis=1).nlargest(10)\n",
    "\n",
    "# rf_imps['Z'] = rf_imps.groupby('Layer')['SNR'].transform(lambda x: (x - x.mean()) / x.std())\n",
    "# all_imps['p_val'] = scipy.stats.norm.sf(abs(all_imps['Z']))\n",
    "# all_imps[all_imps['Z'] > 5]\n",
    "z = (snr - snr.mean()) / snr.std()\n",
    "p_val = scipy.stats.norm.sf(abs(z))\n",
    "z[z > 5]"
   ]
  },
  {
   "cell_type": "code",
   "execution_count": null,
   "id": "dffad02e-55d3-49a2-93d6-a26fd8e9424e",
   "metadata": {},
   "outputs": [],
   "source": [
    "z.nlargest(10)"
   ]
  },
  {
   "cell_type": "code",
   "execution_count": 34,
   "id": "af666115-9171-40e3-9fee-4bef5e3ba9b8",
   "metadata": {},
   "outputs": [],
   "source": [
    "data_sets = ['tcga_rf', 'tcga_meso_rf']\n",
    "listl = []\n",
    "for ds in data_sets:\n",
    "    for i in range(10):\n",
    "        auc = torch.load('../results/ploidy/{}/run{}/AUC.pt'.format(ds, i))\n",
    "        rf = ds.split('_')[-1]\n",
    "        ds_ = ds\n",
    "        if rf == 'rf':\n",
    "            listl.append([auc.item(), ds_, 'RF'])\n",
    "        else:\n",
    "            listl.append([auc.item(), ds_, 'P-Net'])\n",
    "\n",
    "auc_df = pd.DataFrame(listl, columns=['AUC', 'Data Set', 'Model'])\n",
    "auc_df['Data Set'] = auc_df['Data Set'].apply(lambda x: x.upper())"
   ]
  },
  {
   "cell_type": "code",
   "execution_count": 35,
   "id": "0290397b-4939-462b-ab53-499022e66ca3",
   "metadata": {},
   "outputs": [
    {
     "data": {
      "text/html": [
       "<div>\n",
       "<style scoped>\n",
       "    .dataframe tbody tr th:only-of-type {\n",
       "        vertical-align: middle;\n",
       "    }\n",
       "\n",
       "    .dataframe tbody tr th {\n",
       "        vertical-align: top;\n",
       "    }\n",
       "\n",
       "    .dataframe thead th {\n",
       "        text-align: right;\n",
       "    }\n",
       "</style>\n",
       "<table border=\"1\" class=\"dataframe\">\n",
       "  <thead>\n",
       "    <tr style=\"text-align: right;\">\n",
       "      <th></th>\n",
       "      <th></th>\n",
       "      <th>AUC</th>\n",
       "    </tr>\n",
       "    <tr>\n",
       "      <th>Data Set</th>\n",
       "      <th>Model</th>\n",
       "      <th></th>\n",
       "    </tr>\n",
       "  </thead>\n",
       "  <tbody>\n",
       "    <tr>\n",
       "      <th>TCGA_MESO_RF</th>\n",
       "      <th>RF</th>\n",
       "      <td>0.669457</td>\n",
       "    </tr>\n",
       "    <tr>\n",
       "      <th>TCGA_RF</th>\n",
       "      <th>RF</th>\n",
       "      <td>0.823176</td>\n",
       "    </tr>\n",
       "  </tbody>\n",
       "</table>\n",
       "</div>"
      ],
      "text/plain": [
       "                         AUC\n",
       "Data Set     Model          \n",
       "TCGA_MESO_RF RF     0.669457\n",
       "TCGA_RF      RF     0.823176"
      ]
     },
     "execution_count": 35,
     "metadata": {},
     "output_type": "execute_result"
    }
   ],
   "source": [
    "auc_df.groupby(['Data Set', 'Model']).mean()"
   ]
  },
  {
   "cell_type": "code",
   "execution_count": 36,
   "id": "e4e6b9d5-b642-4fe2-b215-4564a325f14e",
   "metadata": {},
   "outputs": [
    {
     "data": {
      "image/png": "[encoded data removed]",
      "text/plain": [
       "<Figure size 432x432 with 1 Axes>"
      ]
     },
     "metadata": {
      "needs_background": "light"
     },
     "output_type": "display_data"
    }
   ],
   "source": [
    "custom_colors = {'P-Net': '#41B6E6', 'RF': '#FFA300'}\n",
    "sns.boxplot(data=auc_df, y='AUC', x='Data Set', hue='Model', showfliers=False, palette=custom_colors,\n",
    "                      whiskerprops={'color': 'gainsboro'},\n",
    "                      capprops={'color': 'gainsboro'},\n",
    "                        boxprops={'edgecolor': 'none'},\n",
    "                      medianprops={'color': 'dimgrey'})\n",
    "ax = plt.gca()\n",
    "\n",
    "ax.spines[['top', 'right']].set_visible(False)\n",
    "ax.set_ylabel('AUC-ROC', size=14)\n",
    "ax.set_xlabel('Data Set', size=14)\n",
    "ax.set_ylim((0.5,1))\n",
    "#plt.savefig('../figures/SKCM_ploidy_TCGA_vs_Liu.pdf')\n",
    "plt.show()"
   ]
  },
  {
   "cell_type": "code",
   "execution_count": null,
   "id": "45d6e9b3-2306-4acf-849f-21e0cd336a98",
   "metadata": {},
   "outputs": [],
   "source": [
    "imps_dir = '/mnt/disks/pancan/pnet/results/ploidy/tcga_skcm/'\n",
    "savepath = '/mnt/disks/pancan/pnet/figures/skcm_ploidy_sankey_diagram.html'\n",
    "sk = sankey_diag.SankeyDiag(imps_dir, runs=10)\n",
    "fig = sk.get_sankey_diag(savepath)"
   ]
  },
  {
   "cell_type": "code",
   "execution_count": null,
   "id": "2552be0b-0cbb-46ff-9288-64aacf57963d",
   "metadata": {},
   "outputs": [],
   "source": [
    "absolute_ploidy_y"
   ]
  },
  {
   "cell_type": "code",
   "execution_count": null,
   "id": "d1f14e76-976c-4a73-9a80-ffc011854eca",
   "metadata": {},
   "outputs": [],
   "source": [
    "all_imps = {}\n",
    "for m in ['tcga_skcm']:\n",
    "    for l in ['gene_feature', 'gene', 'layer_0', 'layer_1', 'layer_2', 'layer_3', 'layer_4']:\n",
    "        df_imps = pd.DataFrame()\n",
    "        for i in range(10):\n",
    "            imps = pd.read_csv('../results/ploidy/{}/run{}/{}_importances.csv'.format(m, i, l)).set_index('Unnamed: 0')\n",
    "            imps = abs(imps.join(absolute_ploidy_y).groupby('dichtomized_ploidy').mean().diff(axis=0).iloc[1])\n",
    "            df_imps['run{}_{}'.format(i, l)] = imps\n",
    "        all_imps[l] = df_imps\n",
    "        all_imps[l] = (all_imps[l]-all_imps[l].mean())/all_imps[l].std()"
   ]
  },
  {
   "cell_type": "code",
   "execution_count": null,
   "id": "017f866b-446d-4107-9240-2fc2ec52fdeb",
   "metadata": {},
   "outputs": [],
   "source": [
    "for k in all_imps:\n",
    "    column_means = all_imps[k].T.mean()\n",
    "    sorted_columns = column_means.sort_values(ascending=False)\n",
    "    top_10_columns = sorted_columns[:10].index\n",
    "    top_columns_df = all_imps[k].T[top_10_columns[::-1]]\n",
    "    top_columns_df.boxplot(vert=False, showfliers=False)\n",
    "    plt.xlabel('Mean Importance')\n",
    "    sns.despine()\n",
    "    plt.grid(False)\n",
    "    plt.show()"
   ]
  },
  {
   "cell_type": "code",
   "execution_count": null,
   "id": "95387d76-2b1a-4b1d-8699-38d8a03fbb7a",
   "metadata": {},
   "outputs": [],
   "source": []
  },
  {
   "cell_type": "code",
   "execution_count": null,
   "id": "9f9764d9-7419-4005-9704-f3a6218f270c",
   "metadata": {},
   "outputs": [],
   "source": [
    "pnet_imps = pd.DataFrame()\n",
    "pnet_ranks = pd.DataFrame()\n",
    "for i in range(10):\n",
    "    imps = pd.read_csv('../results/ploidy/liu_val_skcm/run{}/gene_importances.csv'.format(i)).set_index('Unnamed: 0')\n",
    "    imps = abs(imps.join(ext_val_target).groupby('Ploidy').mean().diff(axis=0).iloc[1])\n",
    "    ranks = imps.rank(ascending=False)\n",
    "    pnet_imps['run{}'.format(i)] = imps\n",
    "    pnet_ranks['run{}'.format(i)] = ranks\n",
    "    \n",
    "pnet_imps = (pnet_imps-pnet_imps.mean())/pnet_imps.std()"
   ]
  },
  {
   "cell_type": "code",
   "execution_count": null,
   "id": "68d73a5e-e084-4e8f-b3b6-b6edbe34884a",
   "metadata": {},
   "outputs": [],
   "source": [
    "num_sections = 2\n",
    "rf_imps = pd.DataFrame()\n",
    "rf_ranks = pd.DataFrame()\n",
    "for i in range(10):\n",
    "    imps = pd.read_csv('../results/ploidy/liu_val_skcm_rf/run{}/gene_feature_importances.csv'.format(i)).set_index('Unnamed: 0')\n",
    "    section_size = len(imps) // num_sections\n",
    "    dfs = [imps[i * section_size : (i + 1) * section_size] for i in range(num_sections)]\n",
    "    for df in dfs:\n",
    "        df.index = [ind.split('_')[0] for ind in dfs[1].index]\n",
    "    imps = dfs[0] + dfs[1]\n",
    "    ranks = imps.rank(ascending=False)\n",
    "    rf_imps['run{}'.format(i)] = imps\n",
    "    rf_ranks['run{}'.format(i)] = ranks\n",
    "    \n",
    "rf_imps = (rf_imps-rf_imps.mean())/rf_imps.std()"
   ]
  },
  {
   "cell_type": "code",
   "execution_count": null,
   "id": "4da5e21a-347a-426a-ae5e-94884c7a88b7",
   "metadata": {},
   "outputs": [],
   "source": [
    "data = {'rf_imps': rf_imps.mean(axis=1), 'pnet_imps': pnet_imps.mean(axis=1)}\n",
    "df = pd.DataFrame(data)\n",
    "\n",
    "y_threshold = 2\n",
    "x_threshold = 2\n",
    "\n",
    "plt.scatter(df['rf_imps'], df['pnet_imps'], s=1000/(1+pnet_ranks.std(axis=1)).values, alpha=0.3, color='#00629B')\n",
    "\n",
    "for index, row in df.iterrows():\n",
    "    if row['pnet_imps'] > y_threshold and row['rf_imps'] > x_threshold:\n",
    "        plt.annotate(index, (row['rf_imps'], row['pnet_imps']),\n",
    "                     textcoords=\"offset points\", xytext=(0, 10), ha='center')\n",
    "    if row['pnet_imps'] > 3.5 or row['rf_imps'] > 3.5:\n",
    "        plt.annotate(index, (row['rf_imps'], row['pnet_imps']),\n",
    "                     textcoords=\"offset points\", xytext=(0, 10), ha='center')\n",
    "        \n",
    "    if index == 'TP53' or index == 'PTEN':\n",
    "        plt.annotate(index, (row['rf_imps'], row['pnet_imps']),\n",
    "                     textcoords=\"offset points\", xytext=(0, 10), ha='center')\n",
    "plt.xlabel('RF Importance scores', size=14)\n",
    "plt.ylabel('P-Net Importance scores', size=14)       \n",
    "sns.despine()\n",
    "plt.savefig('../figures/SKCM_ploidy_LIU_imp_genes_scatter.pdf')\n"
   ]
  },
  {
   "cell_type": "code",
   "execution_count": null,
   "id": "cd9562dd-04fc-4556-a936-14ffad1d452a",
   "metadata": {},
   "outputs": [],
   "source": [
    "all_imps = {}\n",
    "for m in ['tcga_skcm']:\n",
    "    for l in ['gene_feature', 'gene', 'layer_0', 'layer_1', 'layer_2', 'layer_3', 'layer_4']:\n",
    "        df_imps = pd.DataFrame()\n",
    "        for i in range(10):\n",
    "            imps = pd.read_csv('../results/ploidy/{}/run{}/{}_importances.csv'.format(m, i, l)).set_index('Unnamed: 0')\n",
    "            imps = abs(imps.join(absolute_ploidy_y).groupby('dichtomized_ploidy').mean().diff(axis=0).iloc[1])\n",
    "            df_imps['run{}_{}'.format(i, l)] = imps\n",
    "        all_imps[l] = df_imps\n",
    "        all_imps[l] = (all_imps[l]-all_imps[l].mean())/all_imps[l].std()"
   ]
  },
  {
   "cell_type": "code",
   "execution_count": null,
   "id": "50180590-cea1-4e2f-a566-a34926829dde",
   "metadata": {},
   "outputs": [],
   "source": [
    "for k in all_imps:\n",
    "    column_means = all_imps[k].T.mean()\n",
    "    sorted_columns = column_means.sort_values(ascending=False)\n",
    "    top_10_columns = sorted_columns[:10].index\n",
    "    top_columns_df = all_imps[k].T[top_10_columns[::-1]]\n",
    "    top_columns_df.boxplot(vert=False, showfliers=False)\n",
    "    plt.xlabel('Mean Importance')\n",
    "    sns.despine()\n",
    "    plt.grid(False)\n",
    "    plt.show()"
   ]
  },
  {
   "cell_type": "code",
   "execution_count": null,
   "id": "08f0789f-3ca7-43bf-9f0e-ca8ec18d50c0",
   "metadata": {},
   "outputs": [],
   "source": [
    "import gseapy as gp"
   ]
  },
  {
   "cell_type": "code",
   "execution_count": null,
   "id": "79d86b45-5e04-4552-9e6e-e12d7bb6655d",
   "metadata": {},
   "outputs": [],
   "source": [
    "from gmt_reader import GMT"
   ]
  },
  {
   "cell_type": "code",
   "execution_count": null,
   "id": "bfadcb99-c7ea-4dc3-9c34-15802d6ac70d",
   "metadata": {},
   "outputs": [],
   "source": [
    "reactome_gmt = GMT()"
   ]
  },
  {
   "cell_type": "code",
   "execution_count": null,
   "id": "51d1a8b0-69d1-4b73-801b-b3ca6e35d98b",
   "metadata": {},
   "outputs": [],
   "source": [
    "reactome_pathways = reactome_gmt.load_data(filename='/mnt/disks/pancan/data/reactome/ReactomePathways.gmt', )"
   ]
  },
  {
   "cell_type": "code",
   "execution_count": null,
   "id": "f46867fb-e159-43d8-98d1-915ec111ea51",
   "metadata": {},
   "outputs": [],
   "source": [
    "layer_pathways = list(all_imps['layer_4'].index)\n",
    "filtered_df = reactome_pathways[reactome_pathways['group'].isin(layer_pathways)]\n",
    "grouped_dict = filtered_df.groupby('group')['gene'].apply(list).to_dict()"
   ]
  },
  {
   "cell_type": "code",
   "execution_count": null,
   "id": "85a33b53-7272-4239-880d-7307b2d8d383",
   "metadata": {},
   "outputs": [],
   "source": [
    "reactome_gmt.write_dict_to_file(grouped_dict, '/mnt/disks/pancan/data/reactome/ReactomePathways_l4.gmt')"
   ]
  },
  {
   "cell_type": "code",
   "execution_count": null,
   "id": "6ee0cf38-0593-49d6-be2d-7ff50cdc2299",
   "metadata": {},
   "outputs": [],
   "source": [
    "rf_imps"
   ]
  },
  {
   "cell_type": "code",
   "execution_count": null,
   "id": "f5446ed6-d887-451f-a962-01645dc71034",
   "metadata": {},
   "outputs": [],
   "source": [
    "rf_all_imps = {}\n",
    "for i in range(5):\n",
    "    rf_layer_imps = pd.DataFrame()\n",
    "    for j in range(10):\n",
    "        pre_res = gp.prerank(rnk=rf_imps['run{}'.format(j)], # or rnk = rnk,\n",
    "                         gene_sets='/mnt/disks/pancan/data/reactome/ReactomePathways_l{}.gmt'.format(i),\n",
    "                         threads=4,\n",
    "                         min_size=5,\n",
    "                         max_size=1000,\n",
    "                         permutation_num=1000, # reduce number to speed up testing\n",
    "                         outdir=None, # don't write to disk\n",
    "                         seed=6,\n",
    "                         verbose=False, # see what's going on behind the scenes\n",
    "                        )\n",
    "        pre_res = pd.DataFrame(pre_res.res2d.set_index('Term')['NES'])\n",
    "        rf_layer_imps['run{}'.format(j)] = pre_res\n",
    "    rf_all_imps['layer_{}'.format(i)] = rf_layer_imps"
   ]
  },
  {
   "cell_type": "code",
   "execution_count": null,
   "id": "cefdf401-20cb-442b-aa93-ba45313033fe",
   "metadata": {},
   "outputs": [],
   "source": [
    "rf_all_imps['layer_0']"
   ]
  },
  {
   "cell_type": "code",
   "execution_count": null,
   "id": "06f753cb-b803-4663-a864-52005b55d955",
   "metadata": {},
   "outputs": [],
   "source": [
    "data = {'rf_imps': rf_all_imps['layer_4'].mean(axis=1), 'pnet_imps': all_imps['layer_4'].mean(axis=1)}\n",
    "df = pd.DataFrame(data)\n",
    "\n",
    "y_threshold = 1\n",
    "x_threshold = 0.5\n",
    "\n",
    "plt.scatter(df['rf_imps'], df['pnet_imps'], alpha=0.3, color='#00629B')\n",
    "\n",
    "for index, row in df.iterrows():\n",
    "    if row['pnet_imps'] > y_threshold and row['rf_imps'] > x_threshold:\n",
    "        plt.annotate(index, (row['rf_imps'], row['pnet_imps']),\n",
    "                     textcoords=\"offset points\", xytext=(0, 10), ha='center')\n",
    "    if row['pnet_imps'] > 1.5 or row['rf_imps'] > 1.2:\n",
    "        plt.annotate(index, (row['rf_imps'], row['pnet_imps']),\n",
    "                     textcoords=\"offset points\", xytext=(0, 10), ha='center')\n",
    "        \n",
    "    if index == 'TP53' or index == 'PTEN':\n",
    "        plt.annotate(index, (row['rf_imps'], row['pnet_imps']),\n",
    "                     textcoords=\"offset points\", xytext=(0, 10), ha='center')\n",
    "plt.xlabel('RF Importance scores', size=14)\n",
    "plt.ylabel('P-Net Importance scores', size=14)       \n",
    "sns.despine()\n",
    "plt.savefig('../figures/SKCM_ploidy_LIU_imp_layer_4_scatter.pdf')\n"
   ]
  },
  {
   "cell_type": "markdown",
   "id": "a7f5674f-c7d2-4b5e-9239-11b5c75802d0",
   "metadata": {},
   "source": [
    "### Hallmark Gene set predictions"
   ]
  },
  {
   "cell_type": "code",
   "execution_count": null,
   "id": "902ae605-21df-4775-a6cc-950635fd0d20",
   "metadata": {},
   "outputs": [],
   "source": [
    "class_weights = util.get_class_weights(torch.tensor(absolute_ploidy_y.values).view(-1))\n",
    "for i in range(10):\n",
    "    train_inds = list(pd.read_csv('../data/splits/skcm_ploidy/train_set_{}.csv'.format(i))['indicies'])\n",
    "    test_inds = list(pd.read_csv('../data/splits/skcm_ploidy/test_set_{}.csv'.format(i))['indicies'])\n",
    "    model, train_scores, test_scores, train_dataset, test_dataset = Pnet.run_geneset(genetic_data, absolute_ploidy_y, \n",
    "                                                                                     geneset_path='/mnt/disks/pancan/pnet/data/hallmark/h.all.v2022.1.Hs.symbols.gmt',\n",
    "                                                                                     seed=0, dropout=0.2, input_dropout=0.5, lr=1e-3, weight_decay=1e-3,\n",
    "                                                                               batch_size=64, epochs=400, early_stopping=True, train_inds=train_inds,\n",
    "                                                                               test_inds=test_inds, loss_weight=class_weights, \n",
    "                                                                                     save_path='../results/ploidy_hallmark/model',\n",
    "                                                                             loss_fn=nn.BCEWithLogitsLoss(reduce=None), genes=canc_genes)\n",
    "    plt.clf()\n",
    "    Pnet.evaluate_interpret_save(model, test_dataset, '../results/ploidy_hallmark/run{}'.format(i))\n",
    "    Pnet.evaluate_interpret_save(model, ext_val_dataset, '../results/ploidy_hallmark/liu_val_skcm/run{}'.format(i))"
   ]
  },
  {
   "cell_type": "code",
   "execution_count": null,
   "id": "b64fc683-eec7-43d9-b7ea-dd37ae47b166",
   "metadata": {},
   "outputs": [],
   "source": [
    "data_sets = ['', '/liu_val_skcm']\n",
    "listl = []\n",
    "for ds in data_sets:\n",
    "    for i in range(10):\n",
    "        auc = torch.load('../results/ploidy_hallmark{}/run{}/AUC.pt'.format(ds, i))\n",
    "        if ds == '':\n",
    "            listl.append([auc.item(), 'liu', 'Hallmark-Net'])\n",
    "        else:\n",
    "            listl.append([auc.item(), 'tcga', 'Hallmark-Net'])\n",
    "\n",
    "auc_df_ = pd.DataFrame(listl, columns=['AUC', 'Data Set', 'Model'])\n",
    "auc_df_['Data Set'] = auc_df_['Data Set'].apply(lambda x: x.upper() if x=='tcga' else x.upper()+' 2019')\n",
    "auc_df = pd.concat([auc_df, auc_df_])"
   ]
  },
  {
   "cell_type": "code",
   "execution_count": null,
   "id": "b92578da-029c-479f-8930-69484d87ab8a",
   "metadata": {},
   "outputs": [],
   "source": [
    "auc_df.groupby(['Data Set', 'Model']).mean()"
   ]
  },
  {
   "cell_type": "code",
   "execution_count": null,
   "id": "7bf476ca-1206-4f7e-b205-dba9f02a1e26",
   "metadata": {},
   "outputs": [],
   "source": [
    "custom_colors = {'P-Net': '#41B6E6', 'RF': '#FFA300', 'Hallmark-Net': '#00629B'}\n",
    "sns.boxplot(data=auc_df, y='AUC', x='Data Set', hue='Model', showfliers=False, palette=custom_colors,\n",
    "                      whiskerprops={'color': 'gainsboro'},\n",
    "                      capprops={'color': 'gainsboro'},\n",
    "                        boxprops={'edgecolor': 'none'},\n",
    "                      medianprops={'color': 'dimgrey'})\n",
    "ax = plt.gca()\n",
    "\n",
    "ax.spines[['top', 'right']].set_visible(False)\n",
    "ax.set_ylabel('AUC-ROC', size=14)\n",
    "ax.set_xlabel('Data Set', size=14)\n",
    "ax.set_ylim((0.5,1))\n",
    "plt.savefig('../figures/SKCM_ploidy_TCGA_vs_Liu.pdf')\n",
    "plt.show()"
   ]
  },
  {
   "cell_type": "code",
   "execution_count": null,
   "id": "355c2ffa-1ebf-4729-ab29-125d66039ba9",
   "metadata": {},
   "outputs": [],
   "source": [
    "hallmark_imps = pd.DataFrame()\n",
    "hallmark_ranks = pd.DataFrame()\n",
    "for i in range(10):\n",
    "    imps = pd.read_csv('../results/ploidy_hallmark/liu_val_skcm/run{}/gene_importances.csv'.format(i)).set_index('Unnamed: 0')\n",
    "    imps = abs(imps.join(ext_val_target).groupby('Ploidy').mean().diff(axis=0).iloc[1])\n",
    "    ranks = imps.rank(ascending=False)\n",
    "    hallmark_imps['run{}'.format(i)] = imps\n",
    "    hallmark_ranks['run{}'.format(i)] = ranks\n",
    "    \n",
    "hallmark_imps = (hallmark_imps-hallmark_imps.mean())/hallmark_imps.std()"
   ]
  },
  {
   "cell_type": "code",
   "execution_count": null,
   "id": "947bb20e-0cab-4dfd-9500-f1efae5210b7",
   "metadata": {},
   "outputs": [],
   "source": [
    "data = {'hallmark_imps': hallmark_imps.mean(axis=1), 'pnet_imps': pnet_imps.mean(axis=1)}\n",
    "df = pd.DataFrame(data)\n",
    "\n",
    "y_threshold = 2\n",
    "x_threshold = 2\n",
    "\n",
    "plt.scatter(df['hallmark_imps'], df['pnet_imps'], s=1000/(1+pnet_ranks.std(axis=1)).values, alpha=0.3, color='#00629B')\n",
    "\n",
    "for index, row in df.iterrows():\n",
    "    if row['pnet_imps'] > y_threshold and row['hallmark_imps'] > x_threshold:\n",
    "        plt.annotate(index, (row['hallmark_imps'], row['pnet_imps']),\n",
    "                     textcoords=\"offset points\", xytext=(0, 10), ha='center')\n",
    "    if row['pnet_imps'] > 3.5 or row['hallmark_imps'] > 3.5:\n",
    "        plt.annotate(index, (row['hallmark_imps'], row['pnet_imps']),\n",
    "                     textcoords=\"offset points\", xytext=(0, 10), ha='center')\n",
    "        \n",
    "    if index == 'TP53' or index == 'PTEN':\n",
    "        plt.annotate(index, (row['hallmark_imps'], row['pnet_imps']),\n",
    "                     textcoords=\"offset points\", xytext=(0, 10), ha='center')\n",
    "plt.xlabel('Hallmark Importance scores', size=14)\n",
    "plt.ylabel('P-Net Importance scores', size=14)       \n",
    "sns.despine()\n",
    "plt.savefig('../figures/SKCM_ploidy_LIU_imp_genes_scatter_hallmark.pdf')\n"
   ]
  },
  {
   "cell_type": "code",
   "execution_count": null,
   "id": "3d62d8ac-3005-466d-94cf-99f8dbcb3fae",
   "metadata": {},
   "outputs": [],
   "source": [
    "all_hallmark_imps = {}\n",
    "for m in ['']:\n",
    "    for l in ['gene_feature', 'gene', 'layer_0', 'layer_1', 'layer_2']:\n",
    "        df_imps = pd.DataFrame()\n",
    "        for i in range(10):\n",
    "            imps = pd.read_csv('../results/ploidy_hallmark/liu_val_skcm/run{}/{}_importances.csv'.format(i, l)).set_index('Unnamed: 0')\n",
    "            imps = abs(imps.join(ext_val_target).groupby('Ploidy').mean().diff(axis=0).iloc[1])\n",
    "            df_imps['run{}_{}'.format(i, l)] = imps\n",
    "        all_hallmark_imps[l] = df_imps\n",
    "        all_hallmark_imps[l] = (all_hallmark_imps[l]-all_hallmark_imps[l].mean())/all_hallmark_imps[l].std()"
   ]
  },
  {
   "cell_type": "code",
   "execution_count": null,
   "id": "8c7ac4b0-1961-49a7-8e5f-0a50ed985c1a",
   "metadata": {},
   "outputs": [],
   "source": [
    "rf_layer_imps = pd.DataFrame()\n",
    "for j in range(10):\n",
    "    pre_res = gp.prerank(rnk=rf_imps['run{}'.format(j)], # or rnk = rnk,\n",
    "                     gene_sets='/mnt/disks/pancan/data/hallmark/h.all.v2022.1.Hs.symbols.gmt',\n",
    "                     threads=4,\n",
    "                     min_size=5,\n",
    "                     max_size=1000,\n",
    "                     permutation_num=1000, # reduce number to speed up testing\n",
    "                     outdir=None, # don't write to disk\n",
    "                     seed=6,\n",
    "                     verbose=False, # see what's going on behind the scenes\n",
    "                    )\n",
    "    pre_res = pd.DataFrame(pre_res.res2d.set_index('Term')['NES'])\n",
    "    rf_layer_imps['run{}'.format(j)] = pre_res\n",
    "rf_all_imps['layer_hallmark'.format(i)] = rf_layer_imps"
   ]
  },
  {
   "cell_type": "code",
   "execution_count": null,
   "id": "c035e385-f2f7-43d1-87c2-adb967d321ef",
   "metadata": {},
   "outputs": [],
   "source": [
    "data = {'rf_imps': rf_all_imps['layer_hallmark'].mean(axis=1), 'hallmark_imps': all_hallmark_imps['layer_0'].mean(axis=1)}\n",
    "df = pd.DataFrame(data)\n",
    "\n",
    "y_threshold = 0.3\n",
    "x_threshold = 0.5\n",
    "\n",
    "plt.scatter(df['rf_imps'], df['hallmark_imps'], alpha=0.3, color='#00629B')\n",
    "\n",
    "for index, row in df.iterrows():\n",
    "    if row['hallmark_imps'] > y_threshold and row['rf_imps'] > x_threshold:\n",
    "        plt.annotate(index, (row['rf_imps'], row['hallmark_imps']),\n",
    "                     textcoords=\"offset points\", xytext=(0, 10), ha='center')\n",
    "    if row['hallmark_imps'] > 0.5 or row['rf_imps'] > 1:\n",
    "        plt.annotate(index, (row['rf_imps'], row['hallmark_imps']),\n",
    "                     textcoords=\"offset points\", xytext=(0, 10), ha='center')\n",
    "        \n",
    "    if index == 'TP53' or index == 'PTEN':\n",
    "        plt.annotate(index, (row['rf_imps'], row['hallmark_imps']),\n",
    "                     textcoords=\"offset points\", xytext=(0, 10), ha='center')\n",
    "plt.xlabel('RF Importance scores', size=14)\n",
    "plt.ylabel('Hallmark-Net Importance scores', size=14)       \n",
    "sns.despine()\n",
    "plt.savefig('../figures/SKCM_ploidy_LIU_imp_layer_0_hallmark_scatter.pdf')\n"
   ]
  },
  {
   "cell_type": "code",
   "execution_count": null,
   "id": "18ea8590-2324-4a0a-a6bb-13f98102847f",
   "metadata": {},
   "outputs": [],
   "source": []
  },
  {
   "cell_type": "markdown",
   "id": "754d2472",
   "metadata": {},
   "source": [
    "## Leave one (cancer type) out training"
   ]
  },
  {
   "cell_type": "code",
   "execution_count": null,
   "id": "f88b98aa",
   "metadata": {},
   "outputs": [],
   "source": [
    "cancer_types = tumor['tumor'].unique()"
   ]
  },
  {
   "cell_type": "code",
   "execution_count": null,
   "id": "203933ae",
   "metadata": {
    "tags": []
   },
   "outputs": [],
   "source": [
    "leave_one_out_auc = {}\n",
    "for cancer in cancer_types:\n",
    "    test_inds = list(tumor[tumor['tumor'] == cancer].index)\n",
    "    model, train_scores, test_scores, train_dataset, test_dataset = Pnet.run(genetic_data,\n",
    "                                                                         absolute_ploidy_y,\n",
    "                                                                         verbose=True,\n",
    "                                                                         early_stopping=True,\n",
    "                                                                            test_inds=test_inds)\n",
    "    x_test = test_dataset.x\n",
    "    additional_test = test_dataset.additional\n",
    "    y_test = test_dataset.y\n",
    "    model.to('cpu')\n",
    "\n",
    "    pred = model(x_test, additional_test).detach()\n",
    "    auc = util.get_auc(pred, y_test)\n",
    "    leave_one_out_auc[cancer] = auc"
   ]
  },
  {
   "cell_type": "code",
   "execution_count": null,
   "id": "3f652f06",
   "metadata": {},
   "outputs": [],
   "source": [
    "leave_one_out_auc = pd.DataFrame.from_dict(leave_one_out_auc, orient='index')\n",
    "leave_one_out_auc.columns = ['AUC']\n",
    "leave_one_out_auc['AUC'] = leave_one_out_auc['AUC'].astype(float)\n",
    "leave_one_out_auc.index.names = ['tumor']\n",
    "\n",
    "tvc = pd.DataFrame(tumor.value_counts(), columns=['samples']).reset_index()\n",
    "tvc = tvc.set_index('tumor')\n",
    "\n",
    "\n",
    "df = tumor.join(absolute_ploidy)\n",
    "tmp = df.groupby('tumor').mean()\n",
    "\n",
    "leave_one_out_auc = leave_one_out_auc.join(tmp, how='inner')\n",
    "leave_one_out_auc = leave_one_out_auc.join(tvc, how='inner')"
   ]
  },
  {
   "cell_type": "code",
   "execution_count": null,
   "id": "6e66ba80",
   "metadata": {},
   "outputs": [],
   "source": [
    "leave_one_out_auc.sort_values('AUC').plot.barh(y='AUC')\n",
    "plt.xlabel('Leave-one-out-AUC')\n",
    "plt.axvline(0.5, color='orangered', linestyle='--', linewidth=2)\n",
    "plt.show()"
   ]
  },
  {
   "cell_type": "code",
   "execution_count": null,
   "id": "fddeed08",
   "metadata": {},
   "outputs": [],
   "source": [
    "leave_one_out_auc.sort_values('ploidy').plot.barh(y='AUC')\n",
    "plt.xlabel('Leave-one-out-AUC')\n",
    "plt.axvline(0.5, color='orangered', linestyle='--', linewidth=2)\n",
    "plt.show()"
   ]
  },
  {
   "cell_type": "code",
   "execution_count": null,
   "id": "e16e17a2",
   "metadata": {},
   "outputs": [],
   "source": [
    "leave_one_out_auc.sort_values('samples').plot.barh(y='AUC')\n",
    "plt.xlabel('Leave-one-out-AUC')\n",
    "plt.axvline(0.5, color='orangered', linestyle='--', linewidth=2)\n",
    "plt.show()"
   ]
  },
  {
   "cell_type": "code",
   "execution_count": null,
   "id": "af8eace6",
   "metadata": {},
   "outputs": [],
   "source": []
  },
  {
   "cell_type": "code",
   "execution_count": null,
   "id": "d32baf78",
   "metadata": {},
   "outputs": [],
   "source": []
  },
  {
   "cell_type": "code",
   "execution_count": null,
   "id": "61d84b49-7166-497a-a24f-d5d80c529b9f",
   "metadata": {},
   "outputs": [],
   "source": [
    "feature_importances, additional_importances = model.integrated_gradients(test_dataset)"
   ]
  },
  {
   "cell_type": "code",
   "execution_count": null,
   "id": "6bb4ea29-8d37-4e9e-b0b1-a9a49ce8be38",
   "metadata": {},
   "outputs": [],
   "source": [
    "feature_importances.sum().nlargest(20)"
   ]
  },
  {
   "cell_type": "code",
   "execution_count": null,
   "id": "35479f10",
   "metadata": {},
   "outputs": [],
   "source": [
    "layerwise_imps = model.layerwise_importance(test_dataset)"
   ]
  },
  {
   "cell_type": "code",
   "execution_count": null,
   "id": "7f44f8f0",
   "metadata": {},
   "outputs": [],
   "source": [
    "for l in layerwise_imps:\n",
    "    print(l.nlargest(5))"
   ]
  },
  {
   "cell_type": "code",
   "execution_count": null,
   "id": "439faa6f",
   "metadata": {},
   "outputs": [],
   "source": [
    "sns.histplot(data=rna.join(absolute_ploidy_y), x='POC5', hue='dichtomized_ploidy',bins=80,\n",
    "             stat='density', kde=True, common_norm=False)"
   ]
  },
  {
   "cell_type": "code",
   "execution_count": null,
   "id": "0363b40b",
   "metadata": {},
   "outputs": [],
   "source": [
    "gene_order = high_ploidy_importances.median().sort_values(ascending=True).index\n",
    "gene_order"
   ]
  },
  {
   "cell_type": "code",
   "execution_count": null,
   "id": "78d5af80",
   "metadata": {},
   "outputs": [],
   "source": [
    "high_ploidy_importances = gene_importances[gene_importances.join(absolute_ploidy_y)['dichtomized_ploidy'] == 1]"
   ]
  },
  {
   "cell_type": "code",
   "execution_count": null,
   "id": "a8838f3b",
   "metadata": {},
   "outputs": [],
   "source": [
    "plt.rcParams[\"figure.figsize\"] = (6,8)\n",
    "high_ploidy_importances[list(gene_order[-20:])].plot(kind='box', vert=False, showfliers=False)\n",
    "plt.savefig('../figures/genes_ploidy.pdf')\n",
    "plt.show()"
   ]
  },
  {
   "cell_type": "code",
   "execution_count": null,
   "id": "36a4c038",
   "metadata": {},
   "outputs": [],
   "source": [
    "pathway_importances = model.layerwise_importance(test_dataset)"
   ]
  },
  {
   "cell_type": "code",
   "execution_count": null,
   "id": "99592bf0",
   "metadata": {},
   "outputs": [],
   "source": [
    "for l in pathway_importances:\n",
    "    print(l.nlargest(5))"
   ]
  },
  {
   "cell_type": "code",
   "execution_count": null,
   "id": "a07c3d7a-977c-466b-a23b-8087369b518e",
   "metadata": {},
   "outputs": [],
   "source": [
    "some_genes = ['CBFA2T2', 'DNMT3B', 'MYL9', 'POLR2K', 'RPS27A']\n",
    "fig, axs = plt.subplots(1, 5, figsize=((15, 5)))\n",
    "for i, gene in enumerate(some_genes):\n",
    "    gene = gene.split('_')[0]\n",
    "    sns.boxplot(data=cna.join(absolute_ploidy), x=gene, y='ploidy', ax=axs[i], showfliers=False)\n",
    "plt.savefig('../figures/cna_vs_ploiy_top_genes.pdf')\n",
    "plt.show()"
   ]
  },
  {
   "cell_type": "code",
   "execution_count": null,
   "id": "e8497ed2",
   "metadata": {},
   "outputs": [],
   "source": [
    "pred = torch.sigmoid(model(x_test, additional_test))"
   ]
  },
  {
   "cell_type": "code",
   "execution_count": null,
   "id": "7dfc801f",
   "metadata": {},
   "outputs": [],
   "source": [
    "pred_ = pd.DataFrame(pred.detach().numpy(), index=test_dataset.input_df.index, columns=['prediction'])"
   ]
  },
  {
   "cell_type": "code",
   "execution_count": null,
   "id": "855c2bb2",
   "metadata": {},
   "outputs": [],
   "source": [
    "pred_.join(tumor)"
   ]
  },
  {
   "cell_type": "code",
   "execution_count": null,
   "id": "d35ed24b",
   "metadata": {},
   "outputs": [],
   "source": [
    "df['tumor'].values[0].upper()"
   ]
  },
  {
   "cell_type": "code",
   "execution_count": null,
   "id": "28e85c19",
   "metadata": {},
   "outputs": [],
   "source": [
    "df = pred_.join(tumor)\n",
    "df['tumor'] = [str(x).upper() for x in df['tumor'].values]\n",
    "tumor_order = list(df.groupby('tumor').median().sort_values('prediction', ascending=False).index)\n",
    "plt.rcParams[\"figure.figsize\"] = (8,12)\n",
    "sns.boxplot(df, x='prediction', y='tumor', order=tumor_order, color='w', showfliers=False)\n",
    "plt.axvline(0.5, color='orangered', linestyle='--', linewidth=2)\n",
    "plt.tick_params(axis='y', which='both',  left=False, top=False, labelleft=True)\n",
    "sns.despine()\n",
    "plt.savefig('../figures/prediction_by_tumortype.pdf')"
   ]
  },
  {
   "cell_type": "code",
   "execution_count": null,
   "id": "7cc4d323",
   "metadata": {},
   "outputs": [],
   "source": [
    "missclass_df.groupby('tumor').mean()"
   ]
  },
  {
   "cell_type": "code",
   "execution_count": null,
   "id": "bc3ef834",
   "metadata": {},
   "outputs": [],
   "source": [
    "plt.rcParams[\"figure.figsize\"] = (6,6)\n",
    "missclass_df = pred_.join(tumor).join(test_dataset.target)\n",
    "missclass_df['misclass'] = missclass_df.apply(lambda x: 1-int(round(x['prediction'])==x['dichtomized_ploidy']), axis=1)\n",
    "sns.scatterplot(missclass_df.groupby('tumor').mean(), x='dichtomized_ploidy', y='misclass')\n",
    "for tum in missclass_df.groupby('tumor').mean().index:\n",
    "    plt.annotate(missclass_df.groupby('tumor').mean().loc[tum].name,\n",
    "                (missclass_df.groupby('tumor').mean().loc[tum]['dichtomized_ploidy'],\n",
    "                 missclass_df.groupby('tumor').mean().loc[tum]['misclass']))\n",
    "plt.savefig('../figures/ploidy_vs_misclass_by_tumortype.pdf')"
   ]
  },
  {
   "cell_type": "markdown",
   "id": "8a1d6bc9-406c-423a-b396-ad43692968ec",
   "metadata": {},
   "source": [
    "## Ploidy by cancer type training"
   ]
  },
  {
   "cell_type": "code",
   "execution_count": null,
   "id": "e2781445-4247-415c-839a-37136b8d3a00",
   "metadata": {},
   "outputs": [],
   "source": [
    "ploidy_range = absolute_ploidy_y.join(tumor).groupby('tumor').mean()['dichtomized_ploidy'].between(0.35,0.65)\n",
    "cancer_types = tumor['tumor'].unique()\n",
    "cancer_types = [ct for ct in cancer_types if ploidy_range[ct]]\n",
    "training_cancer_types = [x for x in cancer_types if (tumor['tumor'].value_counts() > 200)[x]]\n",
    "\n",
    "df = pd.DataFrame()\n",
    "df['WGD'] = tumor.join(absolute_ploidy_y).groupby('tumor').sum()['dichtomized_ploidy']\n",
    "df['DP'] = tumor.join(absolute_ploidy_y).groupby('tumor').count()['dichtomized_ploidy'] - df['WGD']\n",
    "min_samples = df.loc[training_cancer_types].min().min()"
   ]
  },
  {
   "cell_type": "code",
   "execution_count": null,
   "id": "5b362d5c-3d11-4e72-8b51-b22c8126a694",
   "metadata": {},
   "outputs": [],
   "source": [
    "def stratified_inds(tumor_inds, target, samples_nbr):\n",
    "    target = target.loc[set(tumor_inds).intersection(target.index)]\n",
    "    pos_samples = list(target[target[target.columns[0]] == 1].index)\n",
    "    neg_samples = list(target[target[target.columns[0]] == 0].index)\n",
    "    random.shuffle(pos_samples)\n",
    "    random.shuffle(neg_samples)\n",
    "    train_inds = pos_samples[:samples_nbr] + neg_samples[:samples_nbr]\n",
    "    test_inds = pos_samples[samples_nbr:] + neg_samples[samples_nbr:]\n",
    "    return train_inds, test_inds"
   ]
  },
  {
   "cell_type": "code",
   "execution_count": null,
   "id": "cbc6c9e1",
   "metadata": {
    "tags": []
   },
   "outputs": [],
   "source": [
    "canc_spec_auc = {}\n",
    "for train_cancer in training_cancer_types:\n",
    "    inds = list(tumor[tumor['tumor'] == train_cancer].index)\n",
    "    train_inds, test_inds = stratified_inds(inds, absolute_ploidy_y, 100)\n",
    "    model, train_scores, test_scores, train_dataset, test_dataset = Pnet.run(genetic_data,\n",
    "                                                                         absolute_ploidy_y,\n",
    "                                                                         verbose=False,\n",
    "                                                                         early_stopping=True,\n",
    "                                                                                 train_inds=train_inds,\n",
    "                                                                        test_inds=test_inds)\n",
    "    val_aucs = []\n",
    "    for val_cancer in cancer_types:\n",
    "        print(val_cancer)\n",
    "        val_inds = list(tumor[tumor['tumor'] == val_cancer].index)\n",
    "        val_inds = set(val_inds).intersection(pnet_loader.get_indicies(genetic_data, absolute_ploidy_y))\n",
    "        val_dataset = pnet_loader.PnetDataset(genetic_data, absolute_ploidy_y, val_inds,\n",
    "                                              additional_data=None, gene_set=None)\n",
    "        x_val = val_dataset.x\n",
    "        additional_val = val_dataset.additional\n",
    "        y_val = val_dataset.y\n",
    "        model.to('cpu')\n",
    "\n",
    "        pred = model(x_val, additional_val).detach()\n",
    "        auc = util.get_auc(pred, y_val)\n",
    "        val_aucs.append(auc)\n",
    "    canc_spec_auc[train_cancer] = val_aucs"
   ]
  },
  {
   "cell_type": "code",
   "execution_count": null,
   "id": "d3eadd05-9ac7-44b7-a1e8-b597249fc246",
   "metadata": {},
   "outputs": [],
   "source": [
    "cancer_spec_auc_df = pd.DataFrame(canc_spec_auc, index=cancer_types).astype(float)\n",
    "cancer_spec_auc_df.columns = list([x+'_train' for x in canc_spec_auc.keys()])\n",
    "cancer_spec_auc_df.to_csv('/mnt/disks/pancan/pnet/results/ploidy/cancer_spec_ploidy_auc.csv')"
   ]
  },
  {
   "cell_type": "code",
   "execution_count": null,
   "id": "a40a8d42-200c-4634-90f9-1410fc2f44be",
   "metadata": {},
   "outputs": [],
   "source": [
    "sns.clustermap(cancer_spec_auc_df.T, vmin=0, vmax=1, method='ward')"
   ]
  },
  {
   "cell_type": "markdown",
   "id": "05ac9791",
   "metadata": {},
   "source": [
    "##### Multiple runs"
   ]
  },
  {
   "cell_type": "code",
   "execution_count": null,
   "id": "784375cb",
   "metadata": {},
   "outputs": [],
   "source": [
    "def fold_run(x, y, n):\n",
    "    aucs = []\n",
    "    most_imp_genes = []\n",
    "    for r in range(n):\n",
    "        print('run: {}'.format(r))\n",
    "        model, train_scores, test_scores, train_dataset, test_dataset = Pnet.run(x,\n",
    "                                                                             y,\n",
    "                                                                             verbose=False,\n",
    "                                                                             early_stopping=True)\n",
    "\n",
    "        x_train = train_dataset.input_df.astype(float).values\n",
    "        additional_train = train_dataset.additional_data.astype(float).values\n",
    "        y_train = train_dataset.target.astype(float).values.reshape(-1)\n",
    "        x_test = test_dataset.input_df.astype(float).values\n",
    "        additional_test = test_dataset.additional_data.astype(float).values\n",
    "        y_test = test_dataset.target.astype(float).values.reshape(-1)\n",
    "\n",
    "        pred = model(torch.tensor(x_test, dtype=torch.float),\n",
    "                                  torch.tensor(additional_test, dtype=torch.float)\n",
    "                    )\n",
    "        y_pred_proba = pred.detach().numpy().squeeze()\n",
    "        fpr, tpr, _ = metrics.roc_curve(y_test,  y_pred_proba)\n",
    "        test_auc = metrics.roc_auc_score(y_test, pred.detach().numpy().squeeze())\n",
    "\n",
    "        aucs.append(test_auc)\n",
    "\n",
    "        gene_importances, additional_importances = model.deepLIFT(test_dataset)\n",
    "        most_imp_genes.append(gene_importances.sum())\n",
    "    return aucs, most_imp_genes"
   ]
  },
  {
   "cell_type": "code",
   "execution_count": null,
   "id": "81fa3e3f",
   "metadata": {},
   "outputs": [],
   "source": [
    "def fold_run_rf(x, y, n):\n",
    "    aucs = []\n",
    "    most_imp_genes = []\n",
    "    for r in range(n):\n",
    "        print('run: {}'.format(r))\n",
    "        train_dataset, test_dataset = pnet_loader.generate_train_test(x, y, None, None, 0.3, None)\n",
    "        clf = RandomForestClassifier()\n",
    "        clf.fit(train_dataset.input_df.values, train_dataset.target.values.reshape(-1))\n",
    "        \n",
    "        x_train = train_dataset.input_df.astype(float).values\n",
    "        additional_train = train_dataset.additional_data.astype(float).values\n",
    "        y_train = train_dataset.target.astype(float).values.reshape(-1)\n",
    "        x_test = test_dataset.input_df.astype(float).values\n",
    "        additional_test = test_dataset.additional_data.astype(float).values\n",
    "        y_test = test_dataset.target.astype(float).values.reshape(-1)\n",
    "\n",
    "        y_pred_proba = clf.predict_proba(x_test)\n",
    "        fpr, tpr, _ = metrics.roc_curve(y_test,  y_pred_proba[:,1])\n",
    "        test_auc = metrics.roc_auc_score(y_test, y_pred_proba[:,1])\n",
    "\n",
    "        aucs.append(test_auc)\n",
    "\n",
    "        gene_importances = clf.feature_importances_\n",
    "        most_imp_genes.append(pd.DataFrame(clf.feature_importances_, index=test_dataset.input_df.columns))\n",
    "    return aucs, most_imp_genes"
   ]
  },
  {
   "cell_type": "code",
   "execution_count": null,
   "id": "cbb58d17",
   "metadata": {},
   "outputs": [],
   "source": []
  },
  {
   "cell_type": "code",
   "execution_count": null,
   "id": "a8e5b7e4",
   "metadata": {},
   "outputs": [],
   "source": [
    "ploidy_absolut_auc, ploidy_absolut_genes = fold_run(genetic_data, absolute_ploidy_y, 10)\n",
    "ploidy_absolut_auc_rf, ploidy_absolut_genes_rf = fold_run_rf(genetic_data, absolute_ploidy_y, 10)"
   ]
  },
  {
   "cell_type": "code",
   "execution_count": null,
   "id": "95cc6395",
   "metadata": {},
   "outputs": [],
   "source": [
    "data_pnet = [ploidy_absolut_auc]\n",
    "data_rf = [ploidy_absolut_auc_rf]\n",
    "\n",
    "ticks = ['ploidy \\n by absolut']\n",
    "\n",
    "def set_box_color(bp, color):\n",
    "    plt.setp(bp['boxes'], color=color)\n",
    "    plt.setp(bp['whiskers'], color=color)\n",
    "    plt.setp(bp['caps'], color=color)\n",
    "    plt.setp(bp['medians'], color=color)\n",
    "    \n",
    "    \n",
    "bpl = plt.boxplot(data_pnet, positions=np.array(range(len(data_pnet)))*2.0-0.4, sym='', widths=0.6)\n",
    "bpr = plt.boxplot(data_rf, positions=np.array(range(len(data_pnet)))*2.0+0.4, sym='', widths=0.6)\n",
    "set_box_color(bpl, '#D7191C') # colors are from http://colorbrewer2.org/\n",
    "set_box_color(bpr, '#2C7BB6')\n",
    "\n",
    "plt.plot([], c='#D7191C', label='pnet')\n",
    "plt.plot([], c='#2C7BB6', label='rf')\n",
    "plt.legend()\n",
    "\n",
    "plt.xticks(range(0, len(ticks) * 2, 2), ticks)\n",
    "plt.xlim(-2, len(ticks)*2)\n",
    "plt.tight_layout()\n",
    "plt.savefig('absolute_ploidy_auc_pnet_vs_rf.pdf')"
   ]
  },
  {
   "cell_type": "code",
   "execution_count": null,
   "id": "69241f82",
   "metadata": {},
   "outputs": [],
   "source": [
    "ploidy_absolut_genes"
   ]
  },
  {
   "cell_type": "code",
   "execution_count": null,
   "id": "9566b1a6",
   "metadata": {},
   "outputs": [],
   "source": [
    "ploidy_absolut_genes_rf"
   ]
  },
  {
   "cell_type": "code",
   "execution_count": null,
   "id": "cb176b81",
   "metadata": {},
   "outputs": [],
   "source": [
    "gene_order = pd.DataFrame(ploidy_absolut_genes).mean().sort_values(ascending=False).index\n",
    "df_sum = pd.DataFrame(ploidy_absolut_genes)"
   ]
  },
  {
   "cell_type": "code",
   "execution_count": null,
   "id": "358206e2",
   "metadata": {},
   "outputs": [],
   "source": [
    "gene_order_rf = pd.DataFrame([x[0] for x in ploidy_absolut_genes_rf]).mean().sort_values(ascending=False).index\n",
    "df_sum_rf = pd.DataFrame([x[0] for x in ploidy_absolut_genes_rf])"
   ]
  },
  {
   "cell_type": "code",
   "execution_count": null,
   "id": "7a78e012",
   "metadata": {},
   "outputs": [],
   "source": [
    "plt.rcParams[\"figure.figsize\"] = (6,8)\n",
    "df_sum[list(gene_order[:20]) + list(gene_order[-20:])].plot(kind='box', vert=False)\n",
    "plt.savefig('Ploidy_important_genes.pdf')\n",
    "plt.show()"
   ]
  },
  {
   "cell_type": "code",
   "execution_count": null,
   "id": "b51c187d",
   "metadata": {},
   "outputs": [],
   "source": [
    "def check_annotate(x, y):\n",
    "    if y > 1e-3/(x)**1.9 + 1e-3:\n",
    "        return True\n",
    "    else:\n",
    "        return False"
   ]
  },
  {
   "cell_type": "code",
   "execution_count": null,
   "id": "3702d35b",
   "metadata": {},
   "outputs": [],
   "source": [
    "import scipy.stats as ss"
   ]
  },
  {
   "cell_type": "code",
   "execution_count": null,
   "id": "8247a0cf",
   "metadata": {},
   "outputs": [],
   "source": [
    "comb_df['pnet_rank'] = ss.rankdata(comb_df['pnet_imp'])\n",
    "comb_df['rf_rank'] = ss.rankdata(comb_df['rf_imp'])"
   ]
  },
  {
   "cell_type": "code",
   "execution_count": null,
   "id": "aa6e698a",
   "metadata": {},
   "outputs": [],
   "source": [
    "comb_df = pd.DataFrame([df_sum.mean(), df_sum_rf.mean()]).T\n",
    "comb_df.columns = ['pnet_imp', 'rf_imp']\n",
    "comb_df['pnet_rank'] = len(comb_df['pnet_imp']) - ss.rankdata(abs(comb_df['pnet_imp']))\n",
    "comb_df['rf_rank'] = len(comb_df['rf_imp']) - ss.rankdata(abs(comb_df['rf_imp']))\n",
    "comb_df['annotate'] = comb_df.apply(lambda x: x['pnet_rank'] + x['rf_rank'] < 100, axis=1)"
   ]
  },
  {
   "cell_type": "code",
   "execution_count": null,
   "id": "f6e8f8c8",
   "metadata": {},
   "outputs": [],
   "source": [
    "fig, ax = plt.subplots()\n",
    "\n",
    "ax.scatter(comb_df['pnet_imp'], comb_df['rf_imp'], s=10)\n",
    "\n",
    "for i in range(len(comb_df)):\n",
    "    if comb_df.iloc[i]['annotate']:\n",
    "        ax.annotate(comb_df.iloc[i].name, (comb_df.iloc[i]['pnet_imp'], comb_df.iloc[i]['rf_imp']))\n",
    "\n",
    "plt.ylabel('rf importance')\n",
    "plt.xlabel('pnet importance')\n",
    "plt.title('Ploidy classification gene importance')\n",
    "plt.savefig('important_genes_ploidy_scatter.pdf')\n",
    "plt.show()"
   ]
  },
  {
   "cell_type": "code",
   "execution_count": null,
   "id": "9ac3b0f5",
   "metadata": {},
   "outputs": [],
   "source": [
    "import gseapy as gp"
   ]
  },
  {
   "cell_type": "code",
   "execution_count": null,
   "id": "610540ba",
   "metadata": {},
   "outputs": [],
   "source": [
    "def prerank_gsea(gene_importances, gene_list):\n",
    "    gene_sets='../data/reactome/ReactomePathways.gmt'\n",
    "    gene_importance_scores = pd.DataFrame(index=gene_list)\n",
    "    gene_importance_scores['1'] = gene_importances.values.reshape((2,-1)).sum(axis=0)\n",
    "        \n",
    "    pre_res = gp.prerank(rnk=gene_importance_scores,\n",
    "                         gene_sets = gene_sets,\n",
    "                         threads=8,\n",
    "                         min_size=5,\n",
    "                         max_size=1000,\n",
    "                         permutation_num=1000,\n",
    "                         outdir='../prerank_gsea',\n",
    "                         seed=6,\n",
    "                         verbose=True\n",
    "                        )\n",
    "    return pre_res"
   ]
  },
  {
   "cell_type": "code",
   "execution_count": null,
   "id": "a0f2776f",
   "metadata": {},
   "outputs": [],
   "source": [
    "pre_res_rf = prerank_gsea(comb_df['rf_imp'], list(comb_df.iloc[:int(comb_df.shape[0]/2)].index))"
   ]
  },
  {
   "cell_type": "code",
   "execution_count": null,
   "id": "6aefea32",
   "metadata": {},
   "outputs": [],
   "source": [
    "top_hits_rf = list(pre_res_rf.res2d.sort_values('NOM p-val').head(15)['Term'])"
   ]
  },
  {
   "cell_type": "code",
   "execution_count": null,
   "id": "316de11c",
   "metadata": {},
   "outputs": [],
   "source": [
    "top_hits_rf"
   ]
  },
  {
   "cell_type": "code",
   "execution_count": null,
   "id": "abd8123f",
   "metadata": {},
   "outputs": [],
   "source": [
    "pre_res_pnet = prerank_gsea(comb_df['pnet_imp'], list(comb_df.iloc[:int(comb_df.shape[0]/2)].index))"
   ]
  },
  {
   "cell_type": "code",
   "execution_count": null,
   "id": "d74799aa",
   "metadata": {},
   "outputs": [],
   "source": [
    "top_hits_pnet = list(pre_res_pnet.res2d.sort_values('NOM p-val').head(15)['Term'])"
   ]
  },
  {
   "cell_type": "code",
   "execution_count": null,
   "id": "c15f192a",
   "metadata": {},
   "outputs": [],
   "source": [
    "top_hits_pnet"
   ]
  },
  {
   "cell_type": "code",
   "execution_count": null,
   "id": "b550434b",
   "metadata": {},
   "outputs": [],
   "source": []
  }
 ],
 "metadata": {
  "environment": {
   "kernel": "conda-env-pnet-py",
   "name": "pytorch-gpu.1-10.m90",
   "type": "gcloud",
   "uri": "gcr.io/deeplearning-platform-release/pytorch-gpu.1-10:m90"
  },
  "kernelspec": {
   "display_name": "Python [conda env:pnet]",
   "language": "python",
   "name": "conda-env-pnet-py"
  },
  "language_info": {
   "codemirror_mode": {
    "name": "ipython",
    "version": 3
   },
   "file_extension": ".py",
   "mimetype": "text/x-python",
   "name": "python",
   "nbconvert_exporter": "python",
   "pygments_lexer": "ipython3",
   "version": "3.12.1"
  }
 },
 "nbformat": 4,
 "nbformat_minor": 5
}
