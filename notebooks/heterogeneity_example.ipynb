{
 "cells": [
  {
   "cell_type": "code",
   "execution_count": null,
   "id": "145a1aac",
   "metadata": {},
   "outputs": [],
   "source": [
    "from pnet import pnet_loader, Pnet\n",
    "from util import util, sankey_diag\n",
    "\n",
    "import torch\n",
    "import numpy as np\n",
    "import os\n",
    "import random\n",
    "import seaborn as sns\n",
    "import pandas as pd\n",
    "from sklearn import metrics\n",
    "import scipy\n",
    "import matplotlib.pyplot as plt\n",
    "from sklearn.metrics import roc_auc_score\n",
    "from sklearn.ensemble import RandomForestClassifier\n",
    "from sklearn.mixture import GaussianMixture\n",
    "from sklearn.decomposition import PCA\n",
    "\n",
    "%load_ext autoreload\n",
    "%autoreload 2"
   ]
  },
  {
   "cell_type": "code",
   "execution_count": null,
   "id": "9f1ee7aa-8c7e-418b-baea-405c25d0abb8",
   "metadata": {},
   "outputs": [],
   "source": [
    "datapath='/mnt/disks/pancan/data'"
   ]
  },
  {
   "cell_type": "markdown",
   "id": "17ca394c",
   "metadata": {},
   "source": [
    "## Load mutation data"
   ]
  },
  {
   "cell_type": "code",
   "execution_count": null,
   "id": "854cfbc4",
   "metadata": {},
   "outputs": [],
   "source": [
    "maf = pd.read_csv(datapath+'/m1000/M1000_CCF.maf', sep='\\t')\n",
    "survival_data = pd.read_csv(datapath+'/m1000/M1000_survival_data.txt', sep='\\t').set_index('Tumor_Sample_Barcode')\n",
    "clinical_mapping = pd.read_csv(datapath+'/m1000/TCGA_clinical_mapping_and_pathologic_M.txt', sep='\\t').set_index('Tumor_Sample_Barcode')\n",
    "\n",
    "maf = maf[maf['Tumor_Sample_Barcode'].isin(clinical_mapping.index)].copy()\n",
    "maf['Variant_Classification'] = [util.MUTATIONS_DICT[m] for m in maf['Variant_Classification']]\n",
    "maf = maf[maf['Variant_Classification'] != 'Silent'].copy()\n",
    "\n",
    "maf_grouped = maf.groupby('Tumor_Sample_Barcode')['Hugo_Symbol'].apply(set).reset_index(name='mut_list').set_index('Tumor_Sample_Barcode')\n",
    "mutations = pd.DataFrame(columns = maf['Hugo_Symbol'].unique(), index = maf_grouped.index)\n",
    "mutations.fillna(0, inplace = True)\n",
    "\n",
    "for i, p in maf_grouped.iterrows():\n",
    "    for mut in p['mut_list']:\n",
    "        mutations.loc[i][mut] = 1\n",
    "\n",
    "mutations = mutations.join(clinical_mapping[['mapping_patient_id']], how='inner').set_index('mapping_patient_id')"
   ]
  },
  {
   "cell_type": "markdown",
   "id": "4ed71cd7",
   "metadata": {},
   "source": [
    "## Load expression data"
   ]
  },
  {
   "cell_type": "code",
   "execution_count": null,
   "id": "47f6e93c",
   "metadata": {},
   "outputs": [],
   "source": [
    "skcm_exp = pd.read_csv(datapath+'/skcm_tcga_pan_can_atlas_2018/data_mrna_seq_v2_rsem_zscores_ref_all_samples.txt',\n",
    "                       sep='\\t').dropna().set_index('Hugo_Symbol').drop(['Entrez_Gene_Id'], axis=1).T\n",
    "skcm_exp.index = ['-'.join(ind.split('-')[:-1]) for ind in skcm_exp.index]"
   ]
  },
  {
   "cell_type": "code",
   "execution_count": null,
   "id": "5896d547",
   "metadata": {},
   "outputs": [],
   "source": [
    "# non_constant_genes = util.select_non_constant_genes(skcm_exp)\n",
    "# highly_variable_genes = util.select_highly_variable_genes(skcm_exp)['Hugo_Symbol'].values\n",
    "# selected_genes = ['TP53', 'AR', 'PTEN', 'NOTCH1']\n",
    "# genes = list(set(highly_variable_genes).intersection(non_constant_genes)) + selected_genes\n",
    "# skcm_exp = skcm_exp[genes].copy()"
   ]
  },
  {
   "cell_type": "markdown",
   "id": "6e42adf2",
   "metadata": {},
   "source": [
    "## Load prediction target"
   ]
  },
  {
   "cell_type": "code",
   "execution_count": null,
   "id": "f93998e2",
   "metadata": {},
   "outputs": [],
   "source": [
    "mat_TCGA = pd.read_csv(datapath+'/m1000/mat_TCGA.tsv', sep='\\t').set_index('Tumor_Sample_Barcode')\n",
    "\n",
    "mat_TCGA = mat_TCGA.join(clinical_mapping[['mapping_patient_id']], how='inner').set_index('mapping_patient_id')\n",
    "\n",
    "heterogeneity_y = pd.DataFrame(index=mat_TCGA.index, columns=['dichtomized_heterogeneity'],\n",
    "                               data=[int(p > mat_TCGA['heterogeneity'].median()) \n",
    "                                     for p in mat_TCGA['heterogeneity'].values])"
   ]
  },
  {
   "cell_type": "code",
   "execution_count": null,
   "id": "ff552ff3",
   "metadata": {},
   "outputs": [],
   "source": [
    "plt.hist(mat_TCGA['heterogeneity'], bins=80)\n",
    "plt.vlines([mat_TCGA['heterogeneity'].median()], color='r', ymin=0, ymax=mat_TCGA['heterogeneity'].count()/10)\n",
    "plt.show()"
   ]
  },
  {
   "cell_type": "code",
   "execution_count": null,
   "id": "a82040ef",
   "metadata": {},
   "outputs": [],
   "source": [
    "# heterogeneity_y_ex = pd.qcut(mat_TCGA['heterogeneity'], 3, labels=['low', 'mid', 'high'])\n",
    "# heterogeneity_y_ex = heterogeneity_y_ex[heterogeneity_y_ex!='mid']\n",
    "# heterogeneity_y_ex = pd.DataFrame(index=heterogeneity_y_ex.index, columns=['dichtomized_heterogeneity'],\n",
    "#                                data=[int(p == 'high') \n",
    "#                                      for p in heterogeneity_y_ex])"
   ]
  },
  {
   "cell_type": "markdown",
   "id": "9c7c161a-f8c2-4da9-823d-7506bd1a8bd4",
   "metadata": {},
   "source": [
    "## Validation with Liu cohort"
   ]
  },
  {
   "cell_type": "code",
   "execution_count": null,
   "id": "867e5e66-8a69-47d8-a0b4-e0c5b4d0d8e9",
   "metadata": {},
   "outputs": [],
   "source": [
    "sample_mapping = pd.read_csv(datapath+'/mel_dfci_2019/data_clinical_sample.txt', sep='\\t').set_index('#Patient Identifier')\n",
    "liu_heterogeneity = pd.DataFrame(sample_mapping['Heterogeneity']).iloc[4:].astype(float)\n",
    "liu_heterogeneity_y = pd.DataFrame(index=liu_heterogeneity.index, columns=['dichtomized_ploidy'],\n",
    "                               data=[int(p > liu_heterogeneity['Heterogeneity'].median()) \n",
    "                                     for p in liu_heterogeneity['Heterogeneity'].values])"
   ]
  },
  {
   "cell_type": "code",
   "execution_count": null,
   "id": "f21fcead-7a59-4be4-bc7e-36baa07e7dfb",
   "metadata": {},
   "outputs": [],
   "source": [
    "liu_maf = pd.read_csv(datapath+'/mel_dfci_2019/all_muts_12_1_2020_ref_alt_counts_added.maf', sep='\\t')\n",
    "liu_clinical_mapping = pd.read_csv(datapath+'/mel_dfci_2019/data_clinical_sample.txt',\n",
    "                                   sep='\\t').set_index('#Patient Identifier')\n",
    "\n",
    "liu_maf = liu_maf[liu_maf['Patient'].isin(liu_clinical_mapping.index)].copy()\n",
    "liu_maf['Variant_Classification'] = [util.MUTATIONS_DICT[m] for m in liu_maf['Variant_Classification']]\n",
    "liu_maf = liu_maf[liu_maf['Variant_Classification'] != 'Silent'].copy()\n",
    "\n",
    "liu_maf_grouped = liu_maf.groupby('Patient')['Hugo_Symbol'].apply(set).reset_index(name='mut_list').set_index('Patient')\n",
    "liu_mutations = pd.DataFrame(columns = liu_maf['Hugo_Symbol'].unique(), index = liu_maf_grouped.index)\n",
    "liu_mutations.fillna(0, inplace = True)\n",
    "\n",
    "for i, p in liu_maf_grouped.iterrows():\n",
    "    for mut in p['mut_list']:\n",
    "        liu_mutations.loc[i][mut] = 1"
   ]
  },
  {
   "cell_type": "code",
   "execution_count": null,
   "id": "3cec7c04-b2d8-4278-a44e-3e1dfe0b2e0f",
   "metadata": {},
   "outputs": [],
   "source": [
    "liu_rna = pd.read_csv(datapath+'/mel_dfci_2019/data_RNA_Seq_expression_tpm_all_sample_Zscores.txt',\n",
    "                          delimiter='\\t').set_index('Hugo_Symbol').T.drop('Entrez_Gene_Id').dropna(axis=1)\n",
    "liu_rna = sample_mapping[['Sample Identifier']].join(liu_rna, on='Sample Identifier',\n",
    "                                                     how='inner').drop('Sample Identifier', axis=1)\n",
    "canc_genes = list(pd.read_csv('../../pnet_database/genes/cancer_genes.txt').values.reshape(-1))\n",
    "genes = list(set.intersection(set(skcm_exp.columns), set(mutations.columns), set(liu_rna.columns), set(liu_mutations.columns),\n",
    "                              set(canc_genes)))\n",
    "skcm_exp = skcm_exp[genes].copy()\n",
    "liu_rna = liu_rna[genes].copy()"
   ]
  },
  {
   "cell_type": "markdown",
   "id": "1f7fd409-caa3-4c33-b3b2-9f6299e609a7",
   "metadata": {},
   "source": [
    "## Generate folds"
   ]
  },
  {
   "cell_type": "code",
   "execution_count": null,
   "id": "d90681f6-4aa6-41b3-bd70-27b417554f60",
   "metadata": {},
   "outputs": [],
   "source": [
    "genetic_data = {'rna': skcm_exp, 'mut': mutations}"
   ]
  },
  {
   "cell_type": "markdown",
   "id": "91d7412f-a1a6-41ee-97eb-0f853a4eaa42",
   "metadata": {},
   "source": [
    "Run this only if folds do not exist yet:"
   ]
  },
  {
   "cell_type": "code",
   "execution_count": null,
   "id": "37031b44-97b3-47f9-baa6-28265202842a",
   "metadata": {
    "tags": []
   },
   "outputs": [],
   "source": [
    "# melanoma_inds = pnet_loader.get_indicies(genetic_data, heterogeneity_y)\n",
    "# random.shuffle(melanoma_inds)\n",
    "\n",
    "# def chunks(lst, n):\n",
    "#     \"\"\"Yield successive n-sized chunks from lst.\"\"\"\n",
    "#     for i in range(0, len(lst), n):\n",
    "#         yield lst[i:i + n]\n",
    "        \n",
    "# test_splits = chunks(melanoma_inds, int(len(melanoma_inds)/10)+1)\n",
    "# for i, s in enumerate(test_splits):\n",
    "#     train_dataset, test_dataset = pnet_loader.generate_train_test(genetic_data, heterogeneity_y, test_inds=s)\n",
    "#     train_dataset.save_indicies(datapath+'/splits/skcm_heterogeneity/train_set_{}.csv'.format(i))\n",
    "#     test_dataset.save_indicies(datapath+'/splits/skcm_heterogeneity/test_set_{}.csv'.format(i))"
   ]
  },
  {
   "cell_type": "markdown",
   "id": "7736000c",
   "metadata": {},
   "source": [
    "## Train with run()"
   ]
  },
  {
   "cell_type": "code",
   "execution_count": null,
   "id": "d9547e98",
   "metadata": {},
   "outputs": [],
   "source": [
    "genetic_data = {'rna': skcm_exp, 'mut': mutations}\n",
    "val_genetic_data = {'rna': liu_rna, 'mut': liu_mutations}"
   ]
  },
  {
   "cell_type": "code",
   "execution_count": null,
   "id": "839f06af-8049-4583-962c-2abf0740cf38",
   "metadata": {},
   "outputs": [],
   "source": [
    "val_inds = pnet_loader.get_indicies(val_genetic_data, liu_heterogeneity_y)\n",
    "val_dataset = pnet_loader.PnetDataset(val_genetic_data, liu_heterogeneity_y, val_inds)"
   ]
  },
  {
   "cell_type": "code",
   "execution_count": null,
   "id": "3c34a8f6-3455-40ea-8e79-ef005077bd22",
   "metadata": {},
   "outputs": [],
   "source": [
    "for i in range(10):\n",
    "    train_inds = list(pd.read_csv(datapath+'/splits/skcm_heterogeneity/train_set_{}.csv'.format(i))['indicies'])\n",
    "    test_inds = list(pd.read_csv(datapath+'/splits/skcm_heterogeneity/test_set_{}.csv'.format(i))['indicies'])\n",
    "    model, train_scores, test_scores, train_dataset, test_dataset = Pnet.run(genetic_data, heterogeneity_y, seed=0,\n",
    "                                                                             dropout=0.3, lr=1e-4, weight_decay=1,\n",
    "                                                                             batch_size=64, epochs=300, early_stopping=True,\n",
    "                                                                             train_inds=train_inds, test_inds=test_inds)\n",
    "    plt.clf()\n",
    "    Pnet.evaluate_interpret_save(model, test_dataset, '/mnt/disks/pancan/pnet/results/heterogeneity/tcga_skcm/run{}'.format(i))\n",
    "    plt.clf()\n",
    "    Pnet.evaluate_interpret_save(model, val_dataset, '/mnt/disks/pancan/pnet/results/heterogeneity/liu_val_skcm/run{}'.format(i))"
   ]
  },
  {
   "cell_type": "code",
   "execution_count": null,
   "id": "096b829b-be1c-4f70-99c9-831c60ea65fa",
   "metadata": {},
   "outputs": [],
   "source": [
    "tcga_aucs = []\n",
    "for i in range(10):\n",
    "    auc = torch.load('/mnt/disks/pancan/pnet/results/heterogeneity/tcga_skcm/run{}/AUC.pt'.format(i))\n",
    "    tcga_aucs.append(auc.item())"
   ]
  },
  {
   "cell_type": "code",
   "execution_count": null,
   "id": "2be671a4-bb5c-421f-9686-657690a16067",
   "metadata": {},
   "outputs": [],
   "source": [
    "liu_aucs = []\n",
    "for i in range(10):\n",
    "    auc = torch.load('/mnt/disks/pancan/pnet/results/heterogeneity/liu_val_skcm/run{}/AUC.pt'.format(i))\n",
    "    liu_aucs.append(auc.item())"
   ]
  },
  {
   "cell_type": "code",
   "execution_count": null,
   "id": "9a67cea9-11a4-484c-a6d2-b847397d2b9a",
   "metadata": {},
   "outputs": [],
   "source": [
    "plt.rcParams['axes.spines.right'] = False\n",
    "plt.rcParams['axes.spines.top'] = False"
   ]
  },
  {
   "cell_type": "code",
   "execution_count": null,
   "id": "e594ebf5-7f6d-4c46-a8e6-c8771d1b8ae0",
   "metadata": {},
   "outputs": [],
   "source": [
    "plt.clf()\n",
    "auc_df = pd.DataFrame({'TCGA \\n 10 fold CV': tcga_aucs, 'LIU \\n external validation': liu_aucs})\n",
    "auc_df.boxplot(showfliers=False,\n",
    "           color=dict(boxes='grey', whiskers='silver', medians='dimgray', caps='silver'), widths=0.6, patch_artist=True)\n",
    "plt.ylim((0,1))\n",
    "plt.grid(False)\n",
    "plt.legend(['median AUC'], loc='lower right')\n",
    "plt.ylabel('AUC')\n",
    "plt.xlabel('Cohort')\n",
    "plt.axhline(y=0.5, color='silver', linestyle='-')\n",
    "plt.savefig('../figures/SKCM_heterogeneity_TCGA_vs_Liu.pdf')\n",
    "plt.show()"
   ]
  },
  {
   "cell_type": "code",
   "execution_count": null,
   "id": "8dd6f6c7-d9ec-4d51-82ba-1c01424981b3",
   "metadata": {
    "tags": []
   },
   "outputs": [],
   "source": [
    "for i in range(10):\n",
    "    skcm_path = '/mnt/disks/pancan/pnet/results/heterogeneity/tcga_skcm_rf/run{}'.format(i)\n",
    "    val_path = '/mnt/disks/pancan/pnet/results/heterogeneity/liu_val_skcm_rf/run{}'.format(i)\n",
    "    if not os.path.exists(skcm_path):\n",
    "        os.makedirs(skcm_path)\n",
    "    if not os.path.exists(val_path):\n",
    "        os.makedirs(val_path)\n",
    "    train_inds = list(pd.read_csv(datapath+'/splits/skcm_heterogeneity/train_set_{}.csv'.format(i))['indicies'])\n",
    "    test_inds = list(pd.read_csv(datapath+'/splits/skcm_heterogeneity/test_set_{}.csv'.format(i))['indicies'])\n",
    "    train_dataset, test_dataset = pnet_loader.generate_train_test(genetic_data, target=heterogeneity_y, train_inds=train_inds, test_inds=test_inds)\n",
    "    \n",
    "    x_train = train_dataset.x\n",
    "    additional_train = train_dataset.additional\n",
    "    y_train = train_dataset.y.ravel()\n",
    "    x_test = test_dataset.x\n",
    "    additional_test = test_dataset.additional\n",
    "    y_test = test_dataset.y.ravel()\n",
    "    x_val = val_dataset.x\n",
    "    additional_val = val_dataset.additional\n",
    "    y_val = val_dataset.y.ravel()\n",
    "    \n",
    "    rfc = RandomForestClassifier(max_depth=None, random_state=0)\n",
    "    rfc.fit(x_train, y_train)\n",
    "    preds = rfc.predict(x_test)\n",
    "    preds_prob = rfc.predict_proba(x_test)\n",
    "    plt.clf()\n",
    "    auc = util.get_auc(torch.tensor(preds_prob[:,1], dtype=torch.float), y_test, save=skcm_path+'/auc_curve.pdf')\n",
    "    importances = rfc.feature_importances_\n",
    "    forest_importances = pd.Series(importances, index=test_dataset.input_df.columns)\n",
    "    forest_importances.to_csv(skcm_path+'/gene_feature_importances.csv')\n",
    "    torch.save(auc, skcm_path+'/AUC.pt')\n",
    "    \n",
    "    preds = rfc.predict(x_val)\n",
    "    preds_prob = rfc.predict_proba(x_val)\n",
    "    plt.clf()\n",
    "    auc = util.get_auc(torch.tensor(preds_prob[:,1], dtype=torch.float), y_val, save=val_path+'/auc_curve.pdf')\n",
    "    importances = rfc.feature_importances_\n",
    "    forest_importances = pd.Series(importances, index=test_dataset.input_df.columns)\n",
    "    forest_importances.to_csv(val_path+'/gene_feature_importances.csv')\n",
    "    torch.save(auc, val_path+'/AUC.pt')"
   ]
  },
  {
   "cell_type": "code",
   "execution_count": null,
   "id": "dbc8577a-b719-4d90-b436-88c72e8f7c9e",
   "metadata": {},
   "outputs": [],
   "source": [
    "tcga_rf_aucs = []\n",
    "for i in range(10):\n",
    "    auc = torch.load('/mnt/disks/pancan/pnet/results/heterogeneity/tcga_skcm_rf/run{}/AUC.pt'.format(i))\n",
    "    tcga_rf_aucs.append(auc.item())\n",
    "\n",
    "liu_rf_aucs = []\n",
    "for i in range(10):\n",
    "    auc = torch.load('/mnt/disks/pancan/pnet/results/heterogeneity/liu_val_skcm_rf/run{}/AUC.pt'.format(i))\n",
    "    liu_rf_aucs.append(auc.item())\n",
    "    \n",
    "plt.clf()\n",
    "auc_df = pd.DataFrame({'SKCM TCGA \\n 10 fold CV': tcga_aucs, 'Liu 2019 \\n external validation': liu_aucs,\n",
    "                       #'RF TCGA \\n 10 fold CV': tcga_rf_aucs, 'RF LIU \\n external validation': liu_rf_aucs\n",
    "                      })\n",
    "auc_df.boxplot(showfliers=False,\n",
    "           color=dict(boxes='grey', whiskers='silver', medians='dimgray', caps='silver'), widths=0.6, patch_artist=True, showmeans=True, \n",
    "               meanprops={\"marker\":\".\",\"markerfacecolor\":\"gainsboro\", \"markeredgecolor\":\"gainsboro\"})\n",
    "plt.ylim((0,1))\n",
    "plt.axhline(y=0.5, color='silver', linestyle='-')\n",
    "plt.grid(False)\n",
    "plt.ylabel('AUC')\n",
    "plt.xlabel('Cohort')\n",
    "plt.savefig('../figures/SKCM_heterogeneity_TCGA_vs_Liu_rf.pdf', bbox_inches='tight')\n",
    "plt.show()"
   ]
  },
  {
   "cell_type": "code",
   "execution_count": null,
   "id": "30547912-2e49-4278-8a4b-274b9230d8c7",
   "metadata": {},
   "outputs": [],
   "source": [
    "all_imps = pd.DataFrame(columns=['SNR', 'Model', 'Layer', 'imp_mean', 'imp_std'])\n",
    "for m in ['Pnet']:\n",
    "    for l in ['gene_feature', 'gene', 'layer_0', 'layer_1', 'layer_2', 'layer_3']:\n",
    "        df_imps = pd.DataFrame()\n",
    "        df_ranks = pd.DataFrame()\n",
    "        for i in range(10):\n",
    "            imps = pd.read_csv('/mnt/disks/pancan/pnet/results/heterogeneity/tcga_skcm/run{}/{}_importances.csv'.format(i, l)).set_index('Unnamed: 0')\n",
    "            imps = abs(imps.join(heterogeneity_y).groupby('dichtomized_heterogeneity').mean().diff(axis=0).iloc[1])\n",
    "            ranks = imps.rank(ascending=False)\n",
    "            df_imps['run{}'.format(i)] = imps\n",
    "            df_ranks['run{}'.format(i)] = ranks\n",
    "            \n",
    "        imp_mean = df_imps.mean(axis=1)\n",
    "        imp_std = df_imps.std(axis=1)\n",
    "        snr = imp_mean/(imp_std+1e-9)\n",
    "        melted_imps = snr.to_frame('SNR')\n",
    "        melted_imps['imp_mean'] = imp_mean\n",
    "        melted_imps['imp_std'] = imp_std\n",
    "        melted_imps['Model'] = m\n",
    "        melted_imps['Layer'] = l\n",
    "        all_imps = pd.concat([all_imps, melted_imps])\n",
    "\n",
    "        \n",
    "layer_numeric = {'gene_feature':-1, 'gene':0, 'layer_0':1, 'layer_1':2, 'layer_2':3, 'layer_3':4}\n",
    "all_imps['Numeric Layer'] = all_imps['Layer'].apply(lambda x: layer_numeric[x])\n",
    "all_imps['Z'] = all_imps.groupby('Layer')['SNR'].transform(lambda x: (x - x.mean()) / x.std())\n",
    "all_imps['p_val'] = scipy.stats.norm.sf(abs(all_imps['Z']))\n",
    "\n",
    "all_pathway_imps = all_imps[~all_imps['Layer'].isin(['gene_feature', 'gene'])]\n",
    "all_imps[all_imps['Z'] > 3]"
   ]
  },
  {
   "cell_type": "code",
   "execution_count": null,
   "id": "9da9902c-c859-4482-b43c-b561ffcefb9b",
   "metadata": {},
   "outputs": [],
   "source": [
    "rf_df_imp = pd.DataFrame()\n",
    "rf_df_rnk = pd.DataFrame()\n",
    "for i in range(10):\n",
    "    gene_imps = pd.read_csv('/mnt/disks/pancan/pnet/results/heterogeneity/liu_val_skcm_rf/run{}/gene_feature_importances.csv'.format(i))\n",
    "    gene_imps['Unnamed: 0'] = gene_imps['Unnamed: 0'].apply(lambda x: x.split('_')[0])\n",
    "    gene_imps = gene_imps.set_index('Unnamed: 0')\n",
    "    gene_imps = pd.DataFrame(gene_imps.values.reshape((2, int(gene_imps.shape[0]/2))).T.sum(axis=1),\n",
    "                             index=gene_imps.index[:int(gene_imps.shape[0]/2)],\n",
    "                             columns=['gene_imp'])\n",
    "    rf_df_imp['run_{}'.format(i)] = gene_imps\n",
    "    rf_df_rnk['run_{}'.format(i)] = gene_imps.rank(ascending=False)\n",
    "rf_rank_var = rf_df_rnk.loc[rf_df_rnk.mean(axis=1).nsmallest(50).index].std(axis=1).nsmallest(100).median()\n",
    "rf_imps = rf_df_imp.mean(axis=1)"
   ]
  },
  {
   "cell_type": "code",
   "execution_count": null,
   "id": "b348349d-c457-401e-b41a-bcc216af1198",
   "metadata": {},
   "outputs": [],
   "source": [
    "sns.scatterplot(x=all_imps[all_imps['Layer'].isin(['gene'])]['SNR'], y=rf_imps)"
   ]
  },
  {
   "cell_type": "code",
   "execution_count": null,
   "id": "8454ca60-6ee1-40db-820b-b6f4e6924e26",
   "metadata": {},
   "outputs": [],
   "source": [
    "import gseapy as gp\n",
    "ss = gp.ssgsea(data=pd.DataFrame(rf_imps), \n",
    "               gene_sets='/mnt/disks/pancan/pnet/data/reactome/ReactomePathways.gmt', \n",
    "               outdir='/mnt/disks/pancan/pnet/results/heterogeneity/liu_val_skcm/ssgsea')\n",
    "pathway_scores = ss.res2d.pivot(index='Term', columns='Name', values='NES').T"
   ]
  },
  {
   "cell_type": "code",
   "execution_count": null,
   "id": "c6e16807-a292-4972-af93-9ee605a832ad",
   "metadata": {},
   "outputs": [],
   "source": [
    "pathway_scores.T['0'].astype(float).nlargest(20)"
   ]
  },
  {
   "cell_type": "code",
   "execution_count": null,
   "id": "60bf0ade",
   "metadata": {},
   "outputs": [],
   "source": []
  }
 ],
 "metadata": {
  "environment": {
   "kernel": "conda-root-py",
   "name": "pytorch-gpu.1-10.m90",
   "type": "gcloud",
   "uri": "gcr.io/deeplearning-platform-release/pytorch-gpu.1-10:m90"
  },
  "kernelspec": {
   "display_name": "Python [conda env:root] *",
   "language": "python",
   "name": "conda-root-py"
  },
  "language_info": {
   "codemirror_mode": {
    "name": "ipython",
    "version": 3
   },
   "file_extension": ".py",
   "mimetype": "text/x-python",
   "name": "python",
   "nbconvert_exporter": "python",
   "pygments_lexer": "ipython3",
   "version": "3.7.12"
  }
 },
 "nbformat": 4,
 "nbformat_minor": 5
}
