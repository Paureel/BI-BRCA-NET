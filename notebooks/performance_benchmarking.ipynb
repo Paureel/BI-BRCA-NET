{
 "cells": [
  {
   "cell_type": "markdown",
   "id": "6b99104d-cd13-4414-9ce4-ebcc3aaf83e9",
   "metadata": {},
   "source": [
    "We will look at the performance of Pnet against:\n",
    " - an equally sparse but randomly connected feed forward neural network (sparseNN)\n",
    " - a fully connected feed forward neural network (fcNN)\n",
    " - a random forest classifier model (RF)\n",
    " - a svm classifier model (SVM)\n",
    "\n",
    "The benchmarking task is done on the original prostate dataset from the 2019 paper"
   ]
  },
  {
   "cell_type": "markdown",
   "id": "5f9ff9cd-f7ff-41e5-8f27-ca8b94171636",
   "metadata": {},
   "source": [
    "### Loading the data"
   ]
  },
  {
   "cell_type": "code",
   "execution_count": 2,
   "id": "dac7fdef-ab5c-4da2-a50c-e38fce3e4a3c",
   "metadata": {},
   "outputs": [],
   "source": [
    "from pnet import pnet_loader, Pnet\n",
    "from util import util, sankey_diag\n",
    "\n",
    "import torch\n",
    "import random\n",
    "import seaborn as sns\n",
    "import pandas as pd\n",
    "import os\n",
    "from sklearn import metrics\n",
    "import matplotlib.pyplot as plt\n",
    "from sklearn.metrics import roc_auc_score\n",
    "from sklearn.ensemble import RandomForestClassifier\n",
    "from sklearn.datasets import make_classification\n",
    "from sklearn.svm import SVC\n",
    "import torch.nn.functional as F\n",
    "import torch.nn as nn\n",
    "\n",
    "\n",
    "%load_ext autoreload\n",
    "%autoreload 2"
   ]
  },
  {
   "cell_type": "code",
   "execution_count": 2,
   "id": "888a6ca3-db1e-47a7-8f59-7cd360908582",
   "metadata": {},
   "outputs": [],
   "source": [
    "prostate_mutations = pd.read_csv('/mnt/disks/pancan/pnet_database/prostate/processed/P1000_final_analysis_set_cross_important_only.csv')\n",
    "prostate_mutations.set_index('Tumor_Sample_Barcode', inplace=True)\n",
    "\n",
    "prostate_cnv = pd.read_csv('/mnt/disks/pancan/pnet_database/prostate/processed/P1000_data_CNA_paper.csv')\n",
    "prostate_cnv.rename(columns={\"Unnamed: 0\": \"Tumor_Sample_Barcode\"}, inplace=True)\n",
    "prostate_cnv.set_index('Tumor_Sample_Barcode', inplace=True)\n",
    "\n",
    "prostate_response = pd.read_csv('/mnt/disks/pancan/pnet_database/prostate/processed/response_paper.csv')\n",
    "prostate_response.rename(columns={'id': \"Tumor_Sample_Barcode\"}, inplace=True)\n",
    "prostate_response.set_index('Tumor_Sample_Barcode', inplace=True)\n",
    "\n",
    "prostate_genes = pd.read_csv('/mnt/disks/pancan/pnet_database/genes/tcga_prostate_expressed_genes_and_cancer_genes.csv')\n",
    "prostate_genes = list(set(prostate_genes['genes']).intersection(set(prostate_mutations.columns)).intersection(set(prostate_cnv.columns)))\n",
    "\n",
    "# prostate_mutations = pd.read_csv('../../data/pnet_database/prostate/processed/P1000_final_analysis_set_cross_important_only.csv')\n",
    "# prostate_mutations.set_index('Tumor_Sample_Barcode', inplace=True)\n",
    "\n",
    "# prostate_cnv = pd.read_csv('../../data/pnet_database/prostate/processed/P1000_data_CNA_paper.csv')\n",
    "# prostate_cnv.rename(columns={\"Unnamed: 0\": \"Tumor_Sample_Barcode\"}, inplace=True)\n",
    "# prostate_cnv.set_index('Tumor_Sample_Barcode', inplace=True)\n",
    "\n",
    "# prostate_response = pd.read_csv('../../data/pnet_database/prostate/processed/response_paper.csv')\n",
    "# prostate_response.rename(columns={'id': \"Tumor_Sample_Barcode\"}, inplace=True)\n",
    "# prostate_response.set_index('Tumor_Sample_Barcode', inplace=True)\n",
    "\n",
    "# prostate_genes = pd.read_csv('../../data/pnet_database/genes/tcga_prostate_expressed_genes_and_cancer_genes.csv')\n",
    "# prostate_genes = list(set(prostate_genes['genes']).intersection(set(prostate_mutations.columns)).intersection(set(prostate_cnv.columns)))\n",
    "\n",
    "prostate_cnv = prostate_cnv[prostate_genes].copy()\n",
    "prostate_mutations = prostate_mutations[prostate_genes].copy()\n",
    "\n",
    "# prostate_genes = util.select_highly_variable_genes(prostate_mutations)\n",
    "# prostate_genes = prostate_genes['level_1']\n",
    "prostate_mutations = prostate_mutations[list(set(prostate_mutations.columns).intersection(prostate_genes))].copy()\n",
    "prostate_cnv = prostate_cnv[list(set(prostate_cnv.columns).intersection(prostate_genes))].copy()\n",
    "\n",
    "# Regenerate input as specified in prostate_paper\n",
    "prostate_mutations = (prostate_mutations > 0).astype(int)\n",
    "prostate_amp = (prostate_cnv > 1).astype(int)\n",
    "prostate_del = (prostate_cnv < -1).astype(int)\n",
    "\n",
    "genetic_data = {'mut': prostate_mutations, 'amp': prostate_amp, 'del': prostate_del}\n",
    "\n",
    "canc_genes = list(pd.read_csv('../../pnet_database/genes/cancer_genes.txt').values.reshape(-1))"
   ]
  },
  {
   "cell_type": "markdown",
   "id": "d4bb6e50-7bf0-497c-beeb-1159780d2aef",
   "metadata": {},
   "source": [
    "Generate train test splits for 10 fold CV, not to run again if saved splits are available"
   ]
  },
  {
   "cell_type": "code",
   "execution_count": 3,
   "id": "c9c5088c-3b9a-4222-9328-918eeb5cf597",
   "metadata": {
    "tags": []
   },
   "outputs": [],
   "source": [
    "# prostate_inds = pnet_loader.get_indicies(genetic_data, prostate_response)\n",
    "# random.shuffle(prostate_inds)\n",
    "\n",
    "# def chunks(lst, n):\n",
    "#     \"\"\"Yield successive n-sized chunks from lst.\"\"\"\n",
    "#     for i in range(0, len(lst), n):\n",
    "#         yield lst[i:i + n]\n",
    "        \n",
    "# test_splits = chunks(prostate_inds, int(len(prostate_inds)/10)+1)\n",
    "# for i, s in enumerate(test_splits):\n",
    "#     train_dataset, test_dataset = pnet_loader.generate_train_test(genetic_data, prostate_response, test_inds=s)\n",
    "#     train_dataset.save_indicies('../data/splits/train_set_{}.csv'.format(i))\n",
    "#     test_dataset.save_indicies('../data/splits/test_set_{}.csv'.format(i))"
   ]
  },
  {
   "cell_type": "code",
   "execution_count": null,
   "id": "073f20b7-4c66-484b-ac4d-b2956e8071aa",
   "metadata": {},
   "outputs": [],
   "source": [
    "# from sklearn.model_selection import StratifiedKFold\n",
    "\n",
    "# prostate_inds = pnet_loader.get_indicies(genetic_data, prostate_response)\n",
    "# y = list(prostate_response.loc[prostate_inds]['response'])\n",
    "# # Assuming `y` contains the labels for your training data\n",
    "# # and `prostate_inds` contains the indices of the training data\n",
    "# # Make sure `y` and `prostate_inds` have the same length\n",
    "\n",
    "# # Create an instance of StratifiedKFold with 10 splits\n",
    "# skf = StratifiedKFold(n_splits=10)\n",
    "\n",
    "# # Initialize an empty list to store the sublists of indices\n",
    "# sublists = []\n",
    "\n",
    "# # Split the indices into sublists stratified by labels\n",
    "# for train_index, _ in skf.split(prostate_inds, y):\n",
    "#     sublist = [prostate_inds[i] for i in train_index]\n",
    "#     sublists.append(sublist)\n",
    "    \n",
    "# for i, s in enumerate(sublists):\n",
    "#     s_ = [x for x in prostate_inds if x not in s]\n",
    "#     train_dataset, test_dataset = pnet_loader.generate_train_test(genetic_data, prostate_response, train_inds=s, test_inds=s_)\n",
    "#     train_dataset.save_indicies('../data/splits/train_set_{}.csv'.format(i))\n",
    "#     test_dataset.save_indicies('../data/splits/test_set_{}.csv'.format(i))"
   ]
  },
  {
   "cell_type": "code",
   "execution_count": null,
   "id": "bd438f00-45f4-4768-b147-b6ed718fc3e7",
   "metadata": {},
   "outputs": [],
   "source": [
    "class_weights = util.get_class_weights(torch.tensor(prostate_response.values).view(-1))\n",
    "for i in range(10):\n",
    "    train_inds = list(pd.read_csv('../data/splits/train_set_{}.csv'.format(i))['indicies'])\n",
    "    test_inds = list(pd.read_csv('../data/splits/test_set_{}.csv'.format(i))['indicies'])\n",
    "    model, train_scores, test_scores, train_dataset, test_dataset = Pnet.run_geneset(genetic_data, prostate_response, \n",
    "                                                                                     geneset_path='/mnt/disks/pancan/pnet/data/hallmark/h.all.v2022.1.Hs.symbols.gmt',\n",
    "                                                                                     seed=0, dropout=0.2, input_dropout=0.5, lr=1e-3, weight_decay=1e-3,\n",
    "                                                                               batch_size=64, epochs=400, early_stopping=True, train_inds=train_inds,\n",
    "                                                                               test_inds=test_inds, loss_weight=class_weights, \n",
    "                                                                                     save_path='../results/prostate_val_hallmark/model',\n",
    "                                                                             loss_fn=nn.BCEWithLogitsLoss(reduce=None), genes=canc_genes)\n",
    "    plt.clf()\n",
    "    Pnet.evaluate_interpret_save(model, test_dataset, '../results/prostate_val_hallmark/run{}'.format(i))"
   ]
  },
  {
   "cell_type": "code",
   "execution_count": 7,
   "id": "e3a7eda4-4376-41ad-8461-c11d40b7bf4f",
   "metadata": {},
   "outputs": [],
   "source": [
    "# model.interpret_flag=True\n",
    "# cond = captum.attr.LayerConductance(model, model.first_gene_layer)  # ReLU output of masked layer at each level\n",
    "# cond_vals = cond.attribute((test_dataset.x, test_dataset.additional), target=0)\n",
    "# cols = [model.reactome_network.pathway_encoding.set_index('ID').loc[col]['pathway'] for col in model.reactome_network.pathway_layers[0].index]\n",
    "# cond_vals_genomic = pd.DataFrame(cond_vals.detach().numpy(),\n",
    "#                                  columns=cols,\n",
    "#                                  index=test_dataset.input_df.index)\n",
    "# pathway_imp_by_target = cond_vals_genomic\n",
    "# model.interpret_flag=False\n",
    "# pathway_imp_by_target"
   ]
  },
  {
   "cell_type": "code",
   "execution_count": 4,
   "id": "df5cc928-0616-4f81-bc34-71fe492305b2",
   "metadata": {},
   "outputs": [
    {
     "data": {
      "text/plain": [
       "[tensor(0.8932),\n",
       " tensor(0.9004),\n",
       " tensor(0.8196),\n",
       " tensor(0.9140),\n",
       " tensor(0.8957),\n",
       " tensor(0.8870),\n",
       " tensor(0.9332),\n",
       " tensor(0.8632),\n",
       " tensor(0.8770),\n",
       " tensor(0.9189)]"
      ]
     },
     "execution_count": 4,
     "metadata": {},
     "output_type": "execute_result"
    }
   ],
   "source": [
    "pnet_aucs = []\n",
    "for i in range(10):\n",
    "    auc = torch.load('../results/prostate_val_hallmark/run{}/AUC.pt'.format(i))\n",
    "    pnet_aucs.append(auc)\n",
    "pnet_aucs"
   ]
  },
  {
   "cell_type": "markdown",
   "id": "27d193d5-b4f9-4858-945f-cee3f3041003",
   "metadata": {},
   "source": [
    "Pnet performance:"
   ]
  },
  {
   "cell_type": "code",
   "execution_count": null,
   "id": "7e9f4b6f-3e57-455e-be56-8a75c4e684b4",
   "metadata": {},
   "outputs": [
    {
     "name": "stdout",
     "output_type": "stream",
     "text": [
      "Task defined: BC \n",
      " if this is not the intended task please specify task\n",
      "Given 3 Input modalities\n",
      "Found 1011 overlapping indicies\n",
      "Initializing Train Dataset\n",
      "Found 443 overlapping genes\n",
      "generated input DataFrame of size (909, 1329)\n",
      "Initializing Test Dataset\n",
      "Found 443 overlapping genes\n",
      "generated input DataFrame of size (102, 1329)\n",
      "Found 443 overlapping genes\n",
      "We are sending to cuda\n",
      "Hit early stopping criteria\n",
      "Task defined: BC \n",
      " if this is not the intended task please specify task\n",
      "Given 3 Input modalities\n",
      "Found 1011 overlapping indicies\n",
      "Initializing Train Dataset\n",
      "Found 443 overlapping genes\n",
      "generated input DataFrame of size (910, 1329)\n",
      "Initializing Test Dataset\n",
      "Found 443 overlapping genes\n",
      "generated input DataFrame of size (101, 1329)\n",
      "Found 443 overlapping genes\n",
      "We are sending to cuda\n",
      "Hit early stopping criteria\n",
      "Task defined: BC \n",
      " if this is not the intended task please specify task\n",
      "Given 3 Input modalities\n",
      "Found 1011 overlapping indicies\n",
      "Initializing Train Dataset\n",
      "Found 443 overlapping genes\n",
      "generated input DataFrame of size (910, 1329)\n",
      "Initializing Test Dataset\n",
      "Found 443 overlapping genes\n",
      "generated input DataFrame of size (101, 1329)\n",
      "Found 443 overlapping genes\n",
      "We are sending to cuda\n",
      "Hit early stopping criteria\n",
      "Task defined: BC \n",
      " if this is not the intended task please specify task\n",
      "Given 3 Input modalities\n",
      "Found 1011 overlapping indicies\n",
      "Initializing Train Dataset\n",
      "Found 443 overlapping genes\n",
      "generated input DataFrame of size (910, 1329)\n",
      "Initializing Test Dataset\n",
      "Found 443 overlapping genes\n",
      "generated input DataFrame of size (101, 1329)\n",
      "Found 443 overlapping genes\n",
      "We are sending to cuda\n",
      "Hit early stopping criteria\n",
      "Task defined: BC \n",
      " if this is not the intended task please specify task\n",
      "Given 3 Input modalities\n",
      "Found 1011 overlapping indicies\n",
      "Initializing Train Dataset\n",
      "Found 443 overlapping genes\n",
      "generated input DataFrame of size (910, 1329)\n",
      "Initializing Test Dataset\n",
      "Found 443 overlapping genes\n",
      "generated input DataFrame of size (101, 1329)\n",
      "Found 443 overlapping genes\n",
      "We are sending to cuda\n",
      "Hit early stopping criteria\n",
      "Task defined: BC \n",
      " if this is not the intended task please specify task\n",
      "Given 3 Input modalities\n",
      "Found 1011 overlapping indicies\n",
      "Initializing Train Dataset\n",
      "Found 443 overlapping genes\n",
      "generated input DataFrame of size (910, 1329)\n",
      "Initializing Test Dataset\n",
      "Found 443 overlapping genes\n",
      "generated input DataFrame of size (101, 1329)\n",
      "Found 443 overlapping genes\n",
      "We are sending to cuda\n",
      "Hit early stopping criteria\n",
      "Task defined: BC \n",
      " if this is not the intended task please specify task\n",
      "Given 3 Input modalities\n",
      "Found 1011 overlapping indicies\n",
      "Initializing Train Dataset\n",
      "Found 443 overlapping genes\n",
      "generated input DataFrame of size (910, 1329)\n",
      "Initializing Test Dataset\n",
      "Found 443 overlapping genes\n",
      "generated input DataFrame of size (101, 1329)\n",
      "Found 443 overlapping genes\n",
      "We are sending to cuda\n",
      "Hit early stopping criteria\n",
      "Task defined: BC \n",
      " if this is not the intended task please specify task\n",
      "Given 3 Input modalities\n",
      "Found 1011 overlapping indicies\n",
      "Initializing Train Dataset\n",
      "Found 443 overlapping genes\n",
      "generated input DataFrame of size (910, 1329)\n",
      "Initializing Test Dataset\n",
      "Found 443 overlapping genes\n",
      "generated input DataFrame of size (101, 1329)\n",
      "Found 443 overlapping genes\n",
      "We are sending to cuda\n",
      "Hit early stopping criteria\n",
      "Task defined: BC \n",
      " if this is not the intended task please specify task\n",
      "Given 3 Input modalities\n",
      "Found 1011 overlapping indicies\n",
      "Initializing Train Dataset\n",
      "Found 443 overlapping genes\n",
      "generated input DataFrame of size (910, 1329)\n",
      "Initializing Test Dataset\n",
      "Found 443 overlapping genes\n",
      "generated input DataFrame of size (101, 1329)\n",
      "Found 443 overlapping genes\n",
      "We are sending to cuda\n",
      "Hit early stopping criteria\n",
      "Task defined: BC \n",
      " if this is not the intended task please specify task\n",
      "Given 3 Input modalities\n",
      "Found 1011 overlapping indicies\n",
      "Initializing Train Dataset\n",
      "Found 443 overlapping genes\n",
      "generated input DataFrame of size (910, 1329)\n",
      "Initializing Test Dataset\n",
      "Found 443 overlapping genes\n",
      "generated input DataFrame of size (101, 1329)\n",
      "Found 443 overlapping genes\n",
      "We are sending to cuda\n",
      "Hit early stopping criteria\n"
     ]
    }
   ],
   "source": [
    "class_weights = util.get_class_weights(torch.tensor(prostate_response.values).view(-1))\n",
    "for i in range(10):\n",
    "    train_inds = list(pd.read_csv('../data/splits/train_set_{}.csv'.format(i))['indicies'])\n",
    "    test_inds = list(pd.read_csv('../data/splits/test_set_{}.csv'.format(i))['indicies'])\n",
    "    model, train_scores, test_scores, train_dataset, test_dataset = Pnet.run(genetic_data, prostate_response, seed=0, dropout=0.2, input_dropout=0.5, lr=1e-3, weight_decay=1e-3,\n",
    "                                                                               batch_size=64, epochs=400, early_stopping=True, train_inds=train_inds,\n",
    "                                                                               test_inds=test_inds, loss_weight=class_weights, save_path='../results/prostate_val/model',\n",
    "                                                                             loss_fn=nn.BCEWithLogitsLoss(reduce=None), gene_set=canc_genes)\n",
    "    plt.clf()\n",
    "    Pnet.evaluate_interpret_save(model, test_dataset, '../results/prostate_val/run{}'.format(i))"
   ]
  },
  {
   "cell_type": "code",
   "execution_count": 12,
   "id": "0804e8ab-94fd-41a3-a57e-89ca4e847021",
   "metadata": {
    "jupyter": {
     "source_hidden": true
    },
    "tags": []
   },
   "outputs": [],
   "source": [
    "# for i in range(10):\n",
    "#     train_inds = list(pd.read_csv('../data/splits/train_set_{}.csv'.format(i))['indicies'])\n",
    "#     test_inds = list(pd.read_csv('../data/splits/test_set_{}.csv'.format(i))['indicies'])\n",
    "#     model, train_scores, test_scores, train_dataset, test_dataset = Pnet.run(genetic_data, prostate_response, seed=0, dropout=0.2, lr=1e-3, weight_decay=1,\n",
    "#                                                                            batch_size=64, epochs=300, early_stopping=True, train_inds=train_inds,\n",
    "#                                                                            test_inds=test_inds)\n",
    "#     plt.clf()\n",
    "#     Pnet.evaluate_interpret_save(model, test_dataset, '../results/prostate_val/run{}'.format(i))"
   ]
  },
  {
   "cell_type": "code",
   "execution_count": 5,
   "id": "9b72efe4-1729-4b0d-bda7-d61f58c868be",
   "metadata": {},
   "outputs": [
    {
     "data": {
      "text/plain": [
       "[tensor(0.8906),\n",
       " tensor(0.9179),\n",
       " tensor(0.8924),\n",
       " tensor(0.9394),\n",
       " tensor(0.9131),\n",
       " tensor(0.9124),\n",
       " tensor(0.9100),\n",
       " tensor(0.8275),\n",
       " tensor(0.8877),\n",
       " tensor(0.9171)]"
      ]
     },
     "execution_count": 5,
     "metadata": {},
     "output_type": "execute_result"
    }
   ],
   "source": [
    "pnet_aucs = []\n",
    "for i in range(10):\n",
    "    auc = torch.load('../results/prostate_val/run{}/AUC.pt'.format(i))\n",
    "    pnet_aucs.append(auc)\n",
    "pnet_aucs"
   ]
  },
  {
   "cell_type": "markdown",
   "id": "480a1240-781b-41f1-950e-943d9c4f1473",
   "metadata": {},
   "source": [
    "Pnet but with random gene and pathway connections:"
   ]
  },
  {
   "cell_type": "code",
   "execution_count": 20,
   "id": "9de5703c-766d-4339-85ff-e6b93057192b",
   "metadata": {
    "tags": []
   },
   "outputs": [
    {
     "name": "stdout",
     "output_type": "stream",
     "text": [
      "Task defined: BC \n",
      " if this is not the intended task please specify task\n",
      "Given 3 Input modalities\n",
      "Found 1011 overlapping indicies\n",
      "Initializing Train Dataset\n",
      "Found 443 overlapping genes\n",
      "generated input DataFrame of size (909, 1329)\n",
      "Initializing Test Dataset\n",
      "Found 443 overlapping genes\n",
      "generated input DataFrame of size (102, 1329)\n",
      "Found 443 overlapping genes\n",
      "We are sending to cuda\n",
      "Hit early stopping criteria\n",
      "Task defined: BC \n",
      " if this is not the intended task please specify task\n",
      "Given 3 Input modalities\n",
      "Found 1011 overlapping indicies\n",
      "Initializing Train Dataset\n",
      "Found 443 overlapping genes\n",
      "generated input DataFrame of size (910, 1329)\n",
      "Initializing Test Dataset\n",
      "Found 443 overlapping genes\n",
      "generated input DataFrame of size (101, 1329)\n",
      "Found 443 overlapping genes\n",
      "We are sending to cuda\n",
      "Hit early stopping criteria\n",
      "Task defined: BC \n",
      " if this is not the intended task please specify task\n",
      "Given 3 Input modalities\n",
      "Found 1011 overlapping indicies\n",
      "Initializing Train Dataset\n",
      "Found 443 overlapping genes\n",
      "generated input DataFrame of size (910, 1329)\n",
      "Initializing Test Dataset\n",
      "Found 443 overlapping genes\n",
      "generated input DataFrame of size (101, 1329)\n",
      "Found 443 overlapping genes\n",
      "We are sending to cuda\n",
      "Hit early stopping criteria\n",
      "Task defined: BC \n",
      " if this is not the intended task please specify task\n",
      "Given 3 Input modalities\n",
      "Found 1011 overlapping indicies\n",
      "Initializing Train Dataset\n",
      "Found 443 overlapping genes\n",
      "generated input DataFrame of size (910, 1329)\n",
      "Initializing Test Dataset\n",
      "Found 443 overlapping genes\n",
      "generated input DataFrame of size (101, 1329)\n",
      "Found 443 overlapping genes\n",
      "We are sending to cuda\n",
      "Hit early stopping criteria\n",
      "Task defined: BC \n",
      " if this is not the intended task please specify task\n",
      "Given 3 Input modalities\n",
      "Found 1011 overlapping indicies\n",
      "Initializing Train Dataset\n",
      "Found 443 overlapping genes\n",
      "generated input DataFrame of size (910, 1329)\n",
      "Initializing Test Dataset\n",
      "Found 443 overlapping genes\n",
      "generated input DataFrame of size (101, 1329)\n",
      "Found 443 overlapping genes\n",
      "We are sending to cuda\n",
      "Hit early stopping criteria\n",
      "Task defined: BC \n",
      " if this is not the intended task please specify task\n",
      "Given 3 Input modalities\n",
      "Found 1011 overlapping indicies\n",
      "Initializing Train Dataset\n",
      "Found 443 overlapping genes\n",
      "generated input DataFrame of size (910, 1329)\n",
      "Initializing Test Dataset\n",
      "Found 443 overlapping genes\n",
      "generated input DataFrame of size (101, 1329)\n",
      "Found 443 overlapping genes\n",
      "We are sending to cuda\n",
      "Hit early stopping criteria\n",
      "Task defined: BC \n",
      " if this is not the intended task please specify task\n",
      "Given 3 Input modalities\n",
      "Found 1011 overlapping indicies\n",
      "Initializing Train Dataset\n",
      "Found 443 overlapping genes\n",
      "generated input DataFrame of size (910, 1329)\n",
      "Initializing Test Dataset\n",
      "Found 443 overlapping genes\n",
      "generated input DataFrame of size (101, 1329)\n",
      "Found 443 overlapping genes\n",
      "We are sending to cuda\n",
      "Hit early stopping criteria\n",
      "Task defined: BC \n",
      " if this is not the intended task please specify task\n",
      "Given 3 Input modalities\n",
      "Found 1011 overlapping indicies\n",
      "Initializing Train Dataset\n",
      "Found 443 overlapping genes\n",
      "generated input DataFrame of size (910, 1329)\n",
      "Initializing Test Dataset\n",
      "Found 443 overlapping genes\n",
      "generated input DataFrame of size (101, 1329)\n",
      "Found 443 overlapping genes\n",
      "We are sending to cuda\n",
      "Hit early stopping criteria\n",
      "Task defined: BC \n",
      " if this is not the intended task please specify task\n",
      "Given 3 Input modalities\n",
      "Found 1011 overlapping indicies\n",
      "Initializing Train Dataset\n",
      "Found 443 overlapping genes\n",
      "generated input DataFrame of size (910, 1329)\n",
      "Initializing Test Dataset\n",
      "Found 443 overlapping genes\n",
      "generated input DataFrame of size (101, 1329)\n",
      "Found 443 overlapping genes\n",
      "We are sending to cuda\n",
      "Hit early stopping criteria\n",
      "Task defined: BC \n",
      " if this is not the intended task please specify task\n",
      "Given 3 Input modalities\n",
      "Found 1011 overlapping indicies\n",
      "Initializing Train Dataset\n",
      "Found 443 overlapping genes\n",
      "generated input DataFrame of size (910, 1329)\n",
      "Initializing Test Dataset\n",
      "Found 443 overlapping genes\n",
      "generated input DataFrame of size (101, 1329)\n",
      "Found 443 overlapping genes\n",
      "We are sending to cuda\n",
      "Hit early stopping criteria\n"
     ]
    },
    {
     "data": {
      "image/png": "[encoded data removed]",
      "text/plain": [
       "<Figure size 432x288 with 1 Axes>"
      ]
     },
     "metadata": {
      "needs_background": "light"
     },
     "output_type": "display_data"
    }
   ],
   "source": [
    "class_weights = util.get_class_weights(torch.tensor(prostate_response.values).view(-1))\n",
    "for i in range(10):\n",
    "    train_inds = list(pd.read_csv('../data/splits/train_set_{}.csv'.format(i))['indicies'])\n",
    "    test_inds = list(pd.read_csv('../data/splits/test_set_{}.csv'.format(i))['indicies'])\n",
    "    model, train_scores, test_scores, train_dataset, test_dataset = Pnet.run(genetic_data, prostate_response, seed=0, dropout=0.2, input_dropout=0.5, lr=1e-3, weight_decay=1e-3,\n",
    "                                                                               batch_size=64, epochs=400, early_stopping=True, train_inds=train_inds,\n",
    "                                                                               test_inds=test_inds, loss_weight=class_weights, save_path='../results/prostate_val_random_net/model',\n",
    "                                                                             loss_fn=nn.BCEWithLogitsLoss(reduce=None), gene_set=canc_genes, random_network=True)\n",
    "    plt.clf()\n",
    "    Pnet.evaluate_interpret_save(model, test_dataset, '../results/prostate_val_random_net/run{}'.format(i))"
   ]
  },
  {
   "cell_type": "code",
   "execution_count": 21,
   "id": "2d5a994e-8960-443d-b3d3-52a637684cd9",
   "metadata": {},
   "outputs": [
    {
     "data": {
      "text/plain": [
       "[0.8901383876800537,\n",
       " 0.9148375988006592,\n",
       " 0.8792800307273865,\n",
       " 0.936274528503418,\n",
       " 0.8373440504074097,\n",
       " 0.8672013878822327,\n",
       " 0.8899286985397339,\n",
       " 0.8658645153045654,\n",
       " 0.8841354846954346,\n",
       " 0.9117647409439087]"
      ]
     },
     "execution_count": 21,
     "metadata": {},
     "output_type": "execute_result"
    }
   ],
   "source": [
    "pnet_aucs = []\n",
    "for i in range(10):\n",
    "    auc = torch.load('../results/prostate_val_random_net/run{}/AUC.pt'.format(i))\n",
    "    pnet_aucs.append(auc.item())\n",
    "pnet_aucs"
   ]
  },
  {
   "cell_type": "markdown",
   "id": "ba6bb217-724e-4a7f-8167-a37eed41603f",
   "metadata": {},
   "source": [
    "0.8850"
   ]
  },
  {
   "cell_type": "markdown",
   "id": "f0fcf009-564e-493f-8ba0-5d3d33719e68",
   "metadata": {},
   "source": [
    "Pnet but as a fully connected feed forward neural network:"
   ]
  },
  {
   "cell_type": "code",
   "execution_count": 17,
   "id": "4a56500b-51a4-49ec-bfa9-6d7d266504c7",
   "metadata": {
    "tags": []
   },
   "outputs": [
    {
     "name": "stdout",
     "output_type": "stream",
     "text": [
      "Task defined: BC \n",
      " if this is not the intended task please specify task\n",
      "Given 3 Input modalities\n",
      "Found 1011 overlapping indicies\n",
      "Initializing Train Dataset\n",
      "Found 443 overlapping genes\n",
      "generated input DataFrame of size (909, 1329)\n",
      "Initializing Test Dataset\n",
      "Found 443 overlapping genes\n",
      "generated input DataFrame of size (102, 1329)\n",
      "Found 443 overlapping genes\n",
      "We are sending to cuda\n",
      "Hit early stopping criteria\n",
      "Task defined: BC \n",
      " if this is not the intended task please specify task\n",
      "Given 3 Input modalities\n",
      "Found 1011 overlapping indicies\n",
      "Initializing Train Dataset\n",
      "Found 443 overlapping genes\n",
      "generated input DataFrame of size (910, 1329)\n",
      "Initializing Test Dataset\n",
      "Found 443 overlapping genes\n",
      "generated input DataFrame of size (101, 1329)\n",
      "Found 443 overlapping genes\n",
      "We are sending to cuda\n",
      "Hit early stopping criteria\n",
      "Task defined: BC \n",
      " if this is not the intended task please specify task\n",
      "Given 3 Input modalities\n",
      "Found 1011 overlapping indicies\n",
      "Initializing Train Dataset\n",
      "Found 443 overlapping genes\n",
      "generated input DataFrame of size (910, 1329)\n",
      "Initializing Test Dataset\n",
      "Found 443 overlapping genes\n",
      "generated input DataFrame of size (101, 1329)\n",
      "Found 443 overlapping genes\n",
      "We are sending to cuda\n",
      "Hit early stopping criteria\n",
      "Task defined: BC \n",
      " if this is not the intended task please specify task\n",
      "Given 3 Input modalities\n",
      "Found 1011 overlapping indicies\n",
      "Initializing Train Dataset\n",
      "Found 443 overlapping genes\n",
      "generated input DataFrame of size (910, 1329)\n",
      "Initializing Test Dataset\n",
      "Found 443 overlapping genes\n",
      "generated input DataFrame of size (101, 1329)\n",
      "Found 443 overlapping genes\n",
      "We are sending to cuda\n",
      "Hit early stopping criteria\n",
      "Task defined: BC \n",
      " if this is not the intended task please specify task\n",
      "Given 3 Input modalities\n",
      "Found 1011 overlapping indicies\n",
      "Initializing Train Dataset\n",
      "Found 443 overlapping genes\n",
      "generated input DataFrame of size (910, 1329)\n",
      "Initializing Test Dataset\n",
      "Found 443 overlapping genes\n",
      "generated input DataFrame of size (101, 1329)\n",
      "Found 443 overlapping genes\n",
      "We are sending to cuda\n",
      "Hit early stopping criteria\n",
      "Task defined: BC \n",
      " if this is not the intended task please specify task\n",
      "Given 3 Input modalities\n",
      "Found 1011 overlapping indicies\n",
      "Initializing Train Dataset\n",
      "Found 443 overlapping genes\n",
      "generated input DataFrame of size (910, 1329)\n",
      "Initializing Test Dataset\n",
      "Found 443 overlapping genes\n",
      "generated input DataFrame of size (101, 1329)\n",
      "Found 443 overlapping genes\n",
      "We are sending to cuda\n",
      "Hit early stopping criteria\n",
      "Task defined: BC \n",
      " if this is not the intended task please specify task\n",
      "Given 3 Input modalities\n",
      "Found 1011 overlapping indicies\n",
      "Initializing Train Dataset\n",
      "Found 443 overlapping genes\n",
      "generated input DataFrame of size (910, 1329)\n",
      "Initializing Test Dataset\n",
      "Found 443 overlapping genes\n",
      "generated input DataFrame of size (101, 1329)\n",
      "Found 443 overlapping genes\n",
      "We are sending to cuda\n",
      "Hit early stopping criteria\n",
      "Task defined: BC \n",
      " if this is not the intended task please specify task\n",
      "Given 3 Input modalities\n",
      "Found 1011 overlapping indicies\n",
      "Initializing Train Dataset\n",
      "Found 443 overlapping genes\n",
      "generated input DataFrame of size (910, 1329)\n",
      "Initializing Test Dataset\n",
      "Found 443 overlapping genes\n",
      "generated input DataFrame of size (101, 1329)\n",
      "Found 443 overlapping genes\n",
      "We are sending to cuda\n",
      "Hit early stopping criteria\n",
      "Task defined: BC \n",
      " if this is not the intended task please specify task\n",
      "Given 3 Input modalities\n",
      "Found 1011 overlapping indicies\n",
      "Initializing Train Dataset\n",
      "Found 443 overlapping genes\n",
      "generated input DataFrame of size (910, 1329)\n",
      "Initializing Test Dataset\n",
      "Found 443 overlapping genes\n",
      "generated input DataFrame of size (101, 1329)\n",
      "Found 443 overlapping genes\n",
      "We are sending to cuda\n",
      "Hit early stopping criteria\n",
      "Task defined: BC \n",
      " if this is not the intended task please specify task\n",
      "Given 3 Input modalities\n",
      "Found 1011 overlapping indicies\n",
      "Initializing Train Dataset\n",
      "Found 443 overlapping genes\n",
      "generated input DataFrame of size (910, 1329)\n",
      "Initializing Test Dataset\n",
      "Found 443 overlapping genes\n",
      "generated input DataFrame of size (101, 1329)\n",
      "Found 443 overlapping genes\n",
      "We are sending to cuda\n",
      "Hit early stopping criteria\n"
     ]
    },
    {
     "data": {
      "image/png": "[encoded data removed]",
      "text/plain": [
       "<Figure size 432x288 with 1 Axes>"
      ]
     },
     "metadata": {
      "needs_background": "light"
     },
     "output_type": "display_data"
    }
   ],
   "source": [
    "class_weights = util.get_class_weights(torch.tensor(prostate_response.values).view(-1))\n",
    "for i in range(10):\n",
    "    train_inds = list(pd.read_csv('../data/splits/train_set_{}.csv'.format(i))['indicies'])\n",
    "    test_inds = list(pd.read_csv('../data/splits/test_set_{}.csv'.format(i))['indicies'])\n",
    "    model, train_scores, test_scores, train_dataset, test_dataset = Pnet.run(genetic_data, prostate_response, seed=0, dropout=0.2, input_dropout=0.5, lr=1e-3, weight_decay=1e-3,\n",
    "                                                                               batch_size=64, epochs=400, early_stopping=True, train_inds=train_inds,\n",
    "                                                                               test_inds=test_inds, loss_weight=class_weights, save_path='../results/prostate_val_fcnn/model',\n",
    "                                                                             loss_fn=nn.BCEWithLogitsLoss(reduce=None), gene_set=canc_genes, fcnn=True)\n",
    "    plt.clf()\n",
    "    Pnet.evaluate_interpret_save(model, test_dataset, '../results/prostate_val_fcnn/run{}'.format(i))"
   ]
  },
  {
   "cell_type": "code",
   "execution_count": 18,
   "id": "d068a005-d50d-4124-96b5-a7550a6bba89",
   "metadata": {},
   "outputs": [
    {
     "data": {
      "text/plain": [
       "[0.9061418771743774,\n",
       " 0.881913959980011,\n",
       " 0.8353818655014038,\n",
       " 0.7776292562484741,\n",
       " 0.9135472178459167,\n",
       " 0.9106506109237671,\n",
       " 0.9073083400726318,\n",
       " 0.864973247051239,\n",
       " 0.8542781472206116,\n",
       " 0.917557954788208]"
      ]
     },
     "execution_count": 18,
     "metadata": {},
     "output_type": "execute_result"
    }
   ],
   "source": [
    "pnet_aucs = []\n",
    "for i in range(10):\n",
    "    auc = torch.load('../results/prostate_val_fcnn/run{}/AUC.pt'.format(i))\n",
    "    pnet_aucs.append(auc.item())\n",
    "pnet_aucs"
   ]
  },
  {
   "cell_type": "code",
   "execution_count": 76,
   "id": "3fb75a90-fe43-4620-9651-e20891b7842c",
   "metadata": {
    "tags": []
   },
   "outputs": [
    {
     "name": "stdout",
     "output_type": "stream",
     "text": [
      "Given 3 Input modalities\n",
      "Found 1011 overlapping indicies\n",
      "Initializing Train Dataset\n",
      "Found 443 overlapping genes\n",
      "generated input DataFrame of size (909, 1329)\n",
      "Initializing Test Dataset\n",
      "Found 443 overlapping genes\n",
      "generated input DataFrame of size (102, 1329)\n",
      "Given 3 Input modalities\n",
      "Found 1011 overlapping indicies\n",
      "Initializing Train Dataset\n",
      "Found 443 overlapping genes\n",
      "generated input DataFrame of size (910, 1329)\n",
      "Initializing Test Dataset\n",
      "Found 443 overlapping genes\n",
      "generated input DataFrame of size (101, 1329)\n",
      "Given 3 Input modalities\n",
      "Found 1011 overlapping indicies\n",
      "Initializing Train Dataset\n",
      "Found 443 overlapping genes\n",
      "generated input DataFrame of size (910, 1329)\n",
      "Initializing Test Dataset\n",
      "Found 443 overlapping genes\n",
      "generated input DataFrame of size (101, 1329)\n",
      "Given 3 Input modalities\n",
      "Found 1011 overlapping indicies\n",
      "Initializing Train Dataset\n",
      "Found 443 overlapping genes\n",
      "generated input DataFrame of size (910, 1329)\n",
      "Initializing Test Dataset\n",
      "Found 443 overlapping genes\n",
      "generated input DataFrame of size (101, 1329)\n",
      "Given 3 Input modalities\n",
      "Found 1011 overlapping indicies\n",
      "Initializing Train Dataset\n",
      "Found 443 overlapping genes\n",
      "generated input DataFrame of size (910, 1329)\n",
      "Initializing Test Dataset\n",
      "Found 443 overlapping genes\n",
      "generated input DataFrame of size (101, 1329)\n",
      "Given 3 Input modalities\n",
      "Found 1011 overlapping indicies\n",
      "Initializing Train Dataset\n",
      "Found 443 overlapping genes\n",
      "generated input DataFrame of size (910, 1329)\n",
      "Initializing Test Dataset\n",
      "Found 443 overlapping genes\n",
      "generated input DataFrame of size (101, 1329)\n",
      "Given 3 Input modalities\n",
      "Found 1011 overlapping indicies\n",
      "Initializing Train Dataset\n",
      "Found 443 overlapping genes\n",
      "generated input DataFrame of size (910, 1329)\n",
      "Initializing Test Dataset\n",
      "Found 443 overlapping genes\n",
      "generated input DataFrame of size (101, 1329)\n",
      "Given 3 Input modalities\n",
      "Found 1011 overlapping indicies\n",
      "Initializing Train Dataset\n",
      "Found 443 overlapping genes\n",
      "generated input DataFrame of size (910, 1329)\n",
      "Initializing Test Dataset\n",
      "Found 443 overlapping genes\n",
      "generated input DataFrame of size (101, 1329)\n",
      "Given 3 Input modalities\n",
      "Found 1011 overlapping indicies\n",
      "Initializing Train Dataset\n",
      "Found 443 overlapping genes\n",
      "generated input DataFrame of size (910, 1329)\n",
      "Initializing Test Dataset\n",
      "Found 443 overlapping genes\n",
      "generated input DataFrame of size (101, 1329)\n",
      "Given 3 Input modalities\n",
      "Found 1011 overlapping indicies\n",
      "Initializing Train Dataset\n",
      "Found 443 overlapping genes\n",
      "generated input DataFrame of size (910, 1329)\n",
      "Initializing Test Dataset\n",
      "Found 443 overlapping genes\n",
      "generated input DataFrame of size (101, 1329)\n"
     ]
    },
    {
     "data": {
      "image/png": "[encoded data removed]",
      "text/plain": [
       "<Figure size 432x288 with 1 Axes>"
      ]
     },
     "metadata": {
      "needs_background": "light"
     },
     "output_type": "display_data"
    }
   ],
   "source": [
    "for i in range(10):\n",
    "    path = '../results/prostate_val_rf/run{}'.format(i)\n",
    "    if not os.path.exists(path):\n",
    "        os.makedirs(path)\n",
    "    train_inds = list(pd.read_csv('../data/splits/train_set_{}.csv'.format(i))['indicies'])\n",
    "    test_inds = list(pd.read_csv('../data/splits/test_set_{}.csv'.format(i))['indicies'])\n",
    "    train_dataset, test_dataset = pnet_loader.generate_train_test(genetic_data, target=prostate_response, train_inds=train_inds, test_inds=test_inds, gene_set=canc_genes)\n",
    "    \n",
    "    x_train = train_dataset.x\n",
    "    additional_train = train_dataset.additional\n",
    "    y_train = train_dataset.y.ravel()\n",
    "    x_test = test_dataset.x\n",
    "    additional_test = test_dataset.additional\n",
    "    y_test = test_dataset.y.ravel()\n",
    "    \n",
    "    rfc = RandomForestClassifier(max_depth=None, random_state=0)\n",
    "    rfc.fit(x_train, y_train)\n",
    "    preds = rfc.predict(x_test)\n",
    "    preds_prob = rfc.predict_proba(x_test)\n",
    "    plt.clf()\n",
    "    auc = util.get_auc(torch.tensor(preds_prob[:,1], dtype=torch.float), y_test, save=path+'/auc_curve.pdf')\n",
    "    auc_prc = util.get_auc_prc(torch.tensor(preds_prob[:,1], dtype=torch.float), y_test)\n",
    "    f1_score = util.get_f1(torch.tensor(preds, dtype=torch.float), y_test)\n",
    "    importances = rfc.feature_importances_\n",
    "    forest_importances = pd.Series(importances, index=test_dataset.input_df.columns)\n",
    "    forest_importances.to_csv(path+'/gene_feature_importances.csv')\n",
    "    torch.save(auc, path+'/AUC.pt')\n",
    "    torch.save(auc_prc, path+'/AUC_PRC.pt')\n",
    "    torch.save(f1_score, path+'/F1.pt')"
   ]
  },
  {
   "cell_type": "code",
   "execution_count": 77,
   "id": "730881c0-cc2a-4c1d-9493-d29caa38f4c9",
   "metadata": {},
   "outputs": [
    {
     "data": {
      "text/plain": [
       "[0.8990051746368408,\n",
       " 0.8966199159622192,\n",
       " 0.8597453832626343,\n",
       " 0.8747771978378296,\n",
       " 0.8957219123840332,\n",
       " 0.8778966069221497,\n",
       " 0.9097594022750854,\n",
       " 0.8611854314804077,\n",
       " 0.8545008897781372,\n",
       " 0.898172914981842]"
      ]
     },
     "execution_count": 77,
     "metadata": {},
     "output_type": "execute_result"
    }
   ],
   "source": [
    "pnet_aucs = []\n",
    "for i in range(10):\n",
    "    auc = torch.load('../results/prostate_val_rf/run{}/AUC.pt'.format(i))\n",
    "    pnet_aucs.append(auc.item())\n",
    "pnet_aucs"
   ]
  },
  {
   "cell_type": "code",
   "execution_count": 78,
   "id": "049707c6-6b90-4e49-bbf2-e87a38de34ef",
   "metadata": {},
   "outputs": [
    {
     "data": {
      "text/plain": [
       "tensor(0.8779)"
      ]
     },
     "execution_count": 78,
     "metadata": {},
     "output_type": "execute_result"
    }
   ],
   "source": [
    "torch.tensor(pnet_aucs).median()"
   ]
  },
  {
   "cell_type": "code",
   "execution_count": 100,
   "id": "1f566922-0220-49ee-8a3a-9b4c637078a6",
   "metadata": {},
   "outputs": [
    {
     "name": "stdout",
     "output_type": "stream",
     "text": [
      "Given 3 Input modalities\n",
      "Found 1011 overlapping indicies\n",
      "Initializing Train Dataset\n",
      "Found 443 overlapping genes\n",
      "generated input DataFrame of size (909, 1329)\n",
      "Initializing Test Dataset\n",
      "Found 443 overlapping genes\n",
      "generated input DataFrame of size (102, 1329)\n",
      "1329\n",
      "Given 3 Input modalities\n",
      "Found 1011 overlapping indicies\n",
      "Initializing Train Dataset\n",
      "Found 443 overlapping genes\n",
      "generated input DataFrame of size (910, 1329)\n",
      "Initializing Test Dataset\n",
      "Found 443 overlapping genes\n",
      "generated input DataFrame of size (101, 1329)\n",
      "1329\n",
      "Given 3 Input modalities\n",
      "Found 1011 overlapping indicies\n",
      "Initializing Train Dataset\n",
      "Found 443 overlapping genes\n",
      "generated input DataFrame of size (910, 1329)\n",
      "Initializing Test Dataset\n",
      "Found 443 overlapping genes\n",
      "generated input DataFrame of size (101, 1329)\n",
      "1329\n",
      "Given 3 Input modalities\n",
      "Found 1011 overlapping indicies\n",
      "Initializing Train Dataset\n",
      "Found 443 overlapping genes\n",
      "generated input DataFrame of size (910, 1329)\n",
      "Initializing Test Dataset\n",
      "Found 443 overlapping genes\n",
      "generated input DataFrame of size (101, 1329)\n",
      "1329\n",
      "Given 3 Input modalities\n",
      "Found 1011 overlapping indicies\n",
      "Initializing Train Dataset\n",
      "Found 443 overlapping genes\n",
      "generated input DataFrame of size (910, 1329)\n",
      "Initializing Test Dataset\n",
      "Found 443 overlapping genes\n",
      "generated input DataFrame of size (101, 1329)\n",
      "1329\n",
      "Given 3 Input modalities\n",
      "Found 1011 overlapping indicies\n",
      "Initializing Train Dataset\n",
      "Found 443 overlapping genes\n",
      "generated input DataFrame of size (910, 1329)\n",
      "Initializing Test Dataset\n",
      "Found 443 overlapping genes\n",
      "generated input DataFrame of size (101, 1329)\n",
      "1329\n",
      "Given 3 Input modalities\n",
      "Found 1011 overlapping indicies\n",
      "Initializing Train Dataset\n",
      "Found 443 overlapping genes\n",
      "generated input DataFrame of size (910, 1329)\n",
      "Initializing Test Dataset\n",
      "Found 443 overlapping genes\n",
      "generated input DataFrame of size (101, 1329)\n",
      "1329\n",
      "Given 3 Input modalities\n",
      "Found 1011 overlapping indicies\n",
      "Initializing Train Dataset\n",
      "Found 443 overlapping genes\n",
      "generated input DataFrame of size (910, 1329)\n",
      "Initializing Test Dataset\n",
      "Found 443 overlapping genes\n",
      "generated input DataFrame of size (101, 1329)\n",
      "1329\n",
      "Given 3 Input modalities\n",
      "Found 1011 overlapping indicies\n",
      "Initializing Train Dataset\n",
      "Found 443 overlapping genes\n",
      "generated input DataFrame of size (910, 1329)\n",
      "Initializing Test Dataset\n",
      "Found 443 overlapping genes\n",
      "generated input DataFrame of size (101, 1329)\n",
      "1329\n",
      "Given 3 Input modalities\n",
      "Found 1011 overlapping indicies\n",
      "Initializing Train Dataset\n",
      "Found 443 overlapping genes\n",
      "generated input DataFrame of size (910, 1329)\n",
      "Initializing Test Dataset\n",
      "Found 443 overlapping genes\n",
      "generated input DataFrame of size (101, 1329)\n",
      "1329\n"
     ]
    },
    {
     "data": {
      "image/png": "[encoded data removed]",
      "text/plain": [
       "<Figure size 432x288 with 1 Axes>"
      ]
     },
     "metadata": {
      "needs_background": "light"
     },
     "output_type": "display_data"
    }
   ],
   "source": [
    "for i in range(10):\n",
    "    path = '../results/prostate_val_svm/run{}'.format(i)\n",
    "    if not os.path.exists(path):\n",
    "        os.makedirs(path)\n",
    "    train_inds = list(pd.read_csv('../data/splits/train_set_{}.csv'.format(i))['indicies'])\n",
    "    test_inds = list(pd.read_csv('../data/splits/test_set_{}.csv'.format(i))['indicies'])\n",
    "    train_dataset, test_dataset = pnet_loader.generate_train_test(genetic_data, target=prostate_response, train_inds=train_inds, test_inds=test_inds, gene_set=canc_genes)\n",
    "    \n",
    "    x_train = train_dataset.x\n",
    "    additional_train = train_dataset.additional\n",
    "    y_train = train_dataset.y.ravel()\n",
    "    x_test = test_dataset.x\n",
    "    additional_test = test_dataset.additional\n",
    "    y_test = test_dataset.y.ravel()\n",
    "    \n",
    "    svm = SVC(gamma='auto', kernel='linear', probability=True)\n",
    "    svm.fit(x_train, y_train)\n",
    "    \n",
    "    preds = svm.predict(x_test)\n",
    "    preds_prob = svm.predict_proba(x_test)\n",
    "    plt.clf()\n",
    "    auc = util.get_auc(torch.tensor(preds_prob[:,1], dtype=torch.float), y_test, save=path+'/auc_curve.pdf')\n",
    "    auc_prc = util.get_auc_prc(torch.tensor(preds_prob[:,1], dtype=torch.float), y_test)\n",
    "    f1_score = util.get_f1(torch.tensor(preds, dtype=torch.float), y_test)\n",
    "    importances = svm.coef_\n",
    "    print(len(importances[0]))\n",
    "    svm_importances = pd.Series(importances[0], index=test_dataset.input_df.columns)\n",
    "    svm_importances.to_csv(path+'/gene_feature_importances.csv')\n",
    "    torch.save(auc, path+'/AUC.pt')\n",
    "    torch.save(auc_prc, path+'/AUC_PRC.pt')\n",
    "    torch.save(f1_score, path+'/F1.pt')\n",
    "    "
   ]
  },
  {
   "cell_type": "markdown",
   "id": "3bc0a31d-1af6-4d1e-9fb4-6944687fc643",
   "metadata": {},
   "source": [
    "### Generate Figures"
   ]
  },
  {
   "cell_type": "code",
   "execution_count": 29,
   "id": "6e47897d-359c-451c-bad8-772925827bfd",
   "metadata": {},
   "outputs": [],
   "source": [
    "auc_df = pd.DataFrame()\n",
    "models = ['prostate_val', 'prostate_val_fcnn', 'prostate_val_hallmark', 'prostate_val_random_net']\n",
    "for mod in models:\n",
    "    aucs = []\n",
    "    for i in range(10):\n",
    "        auc = torch.load('../results/{}/run{}/AUC.pt'.format(mod, i))\n",
    "        aucs.append(auc.item())\n",
    "    auc_df[mod] = aucs\n",
    "models = ['prostate_val_rf', 'prostate_val_svm']\n",
    "for mod in models:\n",
    "    aucs = []\n",
    "    for i in range(10):\n",
    "        auc = torch.load('../results/{}/run{}/AUC.pt'.format(mod, i))\n",
    "        aucs.append(auc.item())\n",
    "    auc_df[mod] = aucs\n",
    "auc_df\n",
    "\n",
    "auc_df = auc_df[auc_df.mean().sort_values(ascending=False).index]\n",
    "auc_df.rename(columns={'prostate_val': 'P-Net', 'prostate_val_fcnn': 'FCNN', 'prostate_val_hallmark': 'Hallmark', 'prostate_val_random_net': 'Sparse',\n",
    "       'prostate_val_svm': 'SVM', 'prostate_val_rf': 'RF'}, inplace=True)"
   ]
  },
  {
   "cell_type": "code",
   "execution_count": 30,
   "id": "5742eaa8-ca11-4bf4-8a72-5a78a673ef18",
   "metadata": {},
   "outputs": [
    {
     "data": {
      "text/plain": [
       "P-Net       0.900819\n",
       "Hallmark    0.890209\n",
       "Sparse      0.887677\n",
       "RF          0.882738\n",
       "FCNN        0.876938\n",
       "SVM         0.851599\n",
       "dtype: float64"
      ]
     },
     "execution_count": 30,
     "metadata": {},
     "output_type": "execute_result"
    }
   ],
   "source": [
    "auc_df.mean()"
   ]
  },
  {
   "cell_type": "code",
   "execution_count": 31,
   "id": "bc3d4bd5-1e13-4315-a6c0-1392c453e979",
   "metadata": {},
   "outputs": [
    {
     "data": {
      "image/png": "[encoded data removed]",
      "text/plain": [
       "<Figure size 432x288 with 1 Axes>"
      ]
     },
     "metadata": {
      "needs_background": "light"
     },
     "output_type": "display_data"
    }
   ],
   "source": [
    "auc_df.plot(kind='box', showfliers=False, patch_artist=True, boxprops={'facecolor': 'lightgrey', 'color': 'lightgrey'},\n",
    "                      whiskerprops={'color': 'gainsboro'},\n",
    "                      capprops={'color': 'gainsboro'},\n",
    "                      medianprops={'color': 'dimgrey'})\n",
    "ax = plt.gca()\n",
    "\n",
    "ax.spines[['top', 'right']].set_visible(False)\n",
    "plt.axhline(y=auc_df.median().min(), color='coral', linestyle='--', label=f'y_min = {auc_df.median().min()}', alpha=0.5)\n",
    "ax.set_ylabel('AUC', size=14)\n",
    "ax.set_xlabel('Model', size=14)\n",
    "ax.set_ylim((0.5,1))\n",
    "plt.savefig('../figures/pnet_performance_benchmark_AUC.pdf', bbox_inches='tight')"
   ]
  },
  {
   "cell_type": "code",
   "execution_count": 7,
   "id": "130736fa-789e-4d8d-983a-75dd5abbc2ca",
   "metadata": {},
   "outputs": [
    {
     "data": {
      "image/png": "[encoded data removed]",
      "text/plain": [
       "<Figure size 432x288 with 1 Axes>"
      ]
     },
     "metadata": {
      "needs_background": "light"
     },
     "output_type": "display_data"
    }
   ],
   "source": [
    "# auc_df = pd.DataFrame()\n",
    "# models = ['prostate_val', 'prostate_val_fcnn', 'prostate_val_hallmark', 'prostate_val_random_net']\n",
    "# for mod in models:\n",
    "#     aucs = []\n",
    "#     for i in range(10):\n",
    "#         auc = torch.load('../results/{}/run{}/F1.pt'.format(mod, i))\n",
    "#         aucs.append(auc.item())\n",
    "#     auc_df[mod] = aucs\n",
    "# models = ['prostate_val_rf', 'prostate_val_svm']\n",
    "# for mod in models:\n",
    "#     aucs = []\n",
    "#     for i in range(10):\n",
    "#         auc = torch.load('../results/{}/run{}/F1.pt'.format(mod, i))\n",
    "#         aucs.append(auc.item())\n",
    "#     auc_df[mod] = aucs\n",
    "# auc_df\n",
    "\n",
    "# auc_df = auc_df[auc_df.mean().sort_values(ascending=False).index]\n",
    "# auc_df.rename(columns={'prostate_val': 'P-Net', 'prostate_val_fcnn': 'FCNN', 'prostate_val_hallmark': 'Hallmark', 'prostate_val_random_net': 'Sparse',\n",
    "#        'prostate_val_svm': 'SVM', 'prostate_val_rf': 'RF'}, inplace=True)\n",
    "\n",
    "# auc_df.plot(kind='box', showfliers=False, patch_artist=True, boxprops={'facecolor': 'lightgrey', 'color': 'lightgrey'},\n",
    "#                       whiskerprops={'color': 'gainsboro'},\n",
    "#                       capprops={'color': 'gainsboro'},\n",
    "#                       medianprops={'color': 'dimgrey'})\n",
    "# ax = plt.gca()\n",
    "\n",
    "# ax.spines[['top', 'right']].set_visible(False)\n",
    "# plt.axhline(y=auc_df.median().min(), color='coral', linestyle='--', label=f'y_min = {auc_df.median().min()}', alpha=0.5)\n",
    "# ax.set_ylabel('F1', size=14)\n",
    "# ax.set_xlabel('Model', size=14)\n",
    "# ax.set_ylim((0.5,1))\n",
    "# plt.savefig('../figures/pnet_performance_benchmark_F1.pdf', bbox_inches='tight')"
   ]
  },
  {
   "cell_type": "code",
   "execution_count": 8,
   "id": "367beb6a-9c24-4051-9a16-dcdba98fdc2e",
   "metadata": {
    "tags": []
   },
   "outputs": [],
   "source": [
    "df_imps = pd.DataFrame()\n",
    "df_ranks = pd.DataFrame()\n",
    "for i in range(10):\n",
    "    imps = pd.read_csv('../results/prostate_val/run{}/gene_importances.csv'.format(i)).set_index('Unnamed: 0')\n",
    "    imps = imps.join(prostate_response).groupby('response').mean().diff(axis=0).iloc[1]\n",
    "    ranks = imps.rank(ascending=False)\n",
    "    df_imps['run{}'.format(i)] = imps\n",
    "    df_ranks['run{}'.format(i)] = ranks\n",
    "    \n",
    "snr = df_imps.mean(axis=1)/(df_imps.std(axis=1)+1e-9)"
   ]
  },
  {
   "cell_type": "code",
   "execution_count": 9,
   "id": "3ce4a383-32c9-4aec-83f8-43cfc3b4f4e7",
   "metadata": {},
   "outputs": [],
   "source": [
    "df_imps_fcnn = pd.DataFrame()\n",
    "df_ranks_fcnn = pd.DataFrame()\n",
    "for i in range(10):\n",
    "    imps = pd.read_csv('../results/prostate_val_fcnn/run{}/gene_importances.csv'.format(i)).set_index('Unnamed: 0')\n",
    "    imps = imps.join(prostate_response).groupby('response').mean().diff(axis=0).iloc[1]\n",
    "    ranks = imps.rank(ascending=False)\n",
    "    df_imps_fcnn['run{}'.format(i)] = imps\n",
    "    df_ranks_fcnn['run{}'.format(i)] = ranks\n",
    "    \n",
    "snr_fcnn = df_imps_fcnn.mean(axis=1)/df_imps_fcnn.std(axis=1)"
   ]
  },
  {
   "cell_type": "code",
   "execution_count": 10,
   "id": "97ed20a3-0de9-4a08-8e8c-6935ee89fc0f",
   "metadata": {},
   "outputs": [],
   "source": [
    "df_imps_rand = pd.DataFrame()\n",
    "df_ranks_rand = pd.DataFrame()\n",
    "for i in range(10):\n",
    "    imps = pd.read_csv('../results/prostate_val_random_net/run{}/gene_importances.csv'.format(i)).set_index('Unnamed: 0')\n",
    "    imps = imps.join(prostate_response).groupby('response').mean().diff(axis=0).iloc[1]\n",
    "    ranks = imps.rank(ascending=False)\n",
    "    df_imps_rand['run{}'.format(i)] = imps\n",
    "    df_ranks_rand['run{}'.format(i)] = ranks\n",
    "    \n",
    "snr_rand = df_imps_rand.mean(axis=1)/df_imps_rand.std(axis=1)"
   ]
  },
  {
   "cell_type": "code",
   "execution_count": 11,
   "id": "25b0c4a8-1b96-4bde-9775-1f20b2905521",
   "metadata": {},
   "outputs": [],
   "source": [
    "df_imps_rf = pd.DataFrame()\n",
    "df_ranks_rf = pd.DataFrame()\n",
    "for i in range(10):\n",
    "    imps = pd.read_csv('../results/prostate_val_rf/run{}/gene_feature_importances.csv'.format(i)).set_index('Unnamed: 0')\n",
    "    ranks = imps.rank(ascending=False)\n",
    "    df_imps_rf['run{}'.format(i)] = imps\n",
    "    df_ranks_rf['run{}'.format(i)] = ranks\n",
    "    \n",
    "num_sections = 3\n",
    "section_size = len(df_imps_rf) // num_sections\n",
    "\n",
    "# Split the original DataFrame into three sub-sections\n",
    "dfs = [df_imps_rf[i * section_size : (i + 1) * section_size] for i in range(num_sections)]\n",
    "\n",
    "for df in dfs:\n",
    "    df.index = [ind.split('_')[0] for ind in dfs[1].index]\n",
    "\n",
    "# Sum the sub-sections element-wise to obtain the final DataFrame\n",
    "df_imps_rf = dfs[0] + dfs[1] + dfs[2]"
   ]
  },
  {
   "cell_type": "code",
   "execution_count": 12,
   "id": "1bb56c3c-9303-4aeb-96c0-b1564d54ca13",
   "metadata": {},
   "outputs": [
    {
     "data": {
      "image/png": "[encoded data removed]",
      "text/plain": [
       "<Figure size 432x288 with 1 Axes>"
      ]
     },
     "metadata": {
      "needs_background": "light"
     },
     "output_type": "display_data"
    }
   ],
   "source": [
    "plotting_df = pd.DataFrame()\n",
    "custom_colors = {'P-Net': '#41B6E6', 'FCNN': '#00629B', 'RF':'#FFA300'}\n",
    "plotting_df['P-Net'] = df_imps.mean(axis=1).nlargest(10)/df_imps.mean(axis=1).sum()\n",
    "plotting_df['FCNN'] = df_imps_fcnn.loc[df_imps.mean(axis=1).nlargest(10).index].mean(axis=1)/df_imps_fcnn.mean(axis=1).sum()\n",
    "plotting_df['RF'] = df_imps_rf.loc[df_imps.mean(axis=1).nlargest(10).index].mean(axis=1)/df_imps_rf.mean(axis=1).sum()\n",
    "plotting_df.plot(kind='barh', color=custom_colors, width=0.8)\n",
    "sns.despine()\n",
    "plt.gca().invert_yaxis()\n",
    "plt.xlabel('Gene Importance Score', size='14')\n",
    "plt.xscale('log')\n",
    "plt.savefig('../figures/prostate_metastatic_top_genes.pdf')"
   ]
  },
  {
   "cell_type": "code",
   "execution_count": 13,
   "id": "82818e20-675f-4107-89c4-8c32ab4e9446",
   "metadata": {},
   "outputs": [],
   "source": [
    "df_imps = pd.DataFrame()\n",
    "df_ranks = pd.DataFrame()\n",
    "for i in range(10):\n",
    "    imps = pd.read_csv('../results/prostate_val/run{}/gene_feature_importances.csv'.format(i)).set_index('Unnamed: 0')\n",
    "    imps = abs(imps.join(prostate_response).groupby('response').mean().diff(axis=0).iloc[1])\n",
    "    ranks = imps.rank(ascending=False)\n",
    "    df_imps['run{}'.format(i)] = imps\n",
    "    df_ranks['run{}'.format(i)] = ranks"
   ]
  },
  {
   "cell_type": "code",
   "execution_count": 14,
   "id": "cd8eadbc-4dc1-4d09-a33f-e001deb9bbb1",
   "metadata": {},
   "outputs": [],
   "source": [
    "df_imps_fcnn = pd.DataFrame()\n",
    "df_ranks_fcnn = pd.DataFrame()\n",
    "for i in range(10):\n",
    "    imps = pd.read_csv('../results/prostate_val_fcnn/run{}/gene_feature_importances.csv'.format(i)).set_index('Unnamed: 0')\n",
    "    imps = abs(imps.join(prostate_response).groupby('response').mean().diff(axis=0).iloc[1])\n",
    "    ranks = imps.rank(ascending=False)\n",
    "    df_imps_fcnn['run{}'.format(i)] = imps\n",
    "    df_ranks_fcnn['run{}'.format(i)] = ranks"
   ]
  },
  {
   "cell_type": "code",
   "execution_count": 15,
   "id": "9383c3d3-5933-4c3c-94b4-b6e8aff82298",
   "metadata": {},
   "outputs": [],
   "source": [
    "df_imps_rand = pd.DataFrame()\n",
    "df_ranks_rand = pd.DataFrame()\n",
    "for i in range(10):\n",
    "    imps = pd.read_csv('../results/prostate_val_random_net/run{}/gene_feature_importances.csv'.format(i)).set_index('Unnamed: 0')\n",
    "    imps = abs(imps.join(prostate_response).groupby('response').mean().diff(axis=0).iloc[1])\n",
    "    ranks = imps.rank(ascending=False)\n",
    "    df_imps_rand['run{}'.format(i)] = imps\n",
    "    df_ranks_rand['run{}'.format(i)] = ranks"
   ]
  },
  {
   "cell_type": "code",
   "execution_count": 16,
   "id": "b497fab5-65c2-464e-8468-9f27fd85944f",
   "metadata": {},
   "outputs": [],
   "source": [
    "df_imps_hall = pd.DataFrame()\n",
    "df_ranks_hall = pd.DataFrame()\n",
    "for i in range(10):\n",
    "    imps = pd.read_csv('../results/prostate_val_hallmark/run{}/gene_feature_importances.csv'.format(i)).set_index('Unnamed: 0')\n",
    "    imps = abs(imps.join(prostate_response).groupby('response').mean().diff(axis=0).iloc[1])\n",
    "    ranks = imps.rank(ascending=False)\n",
    "    df_imps_hall['run{}'.format(i)] = imps\n",
    "    df_ranks_hall['run{}'.format(i)] = ranks"
   ]
  },
  {
   "cell_type": "code",
   "execution_count": 17,
   "id": "a1920ad0-5401-4e24-842b-1da4d4277182",
   "metadata": {},
   "outputs": [],
   "source": [
    "df_imps_rf = pd.DataFrame()\n",
    "df_ranks_rf = pd.DataFrame()\n",
    "for i in range(10):\n",
    "    imps = pd.read_csv('../results/prostate_val_rf/run{}/gene_feature_importances.csv'.format(i)).set_index('Unnamed: 0')\n",
    "    imps = abs(imps)\n",
    "    ranks = imps.rank(ascending=False)\n",
    "    df_imps_rf['run{}'.format(i)] = imps\n",
    "    df_ranks_rf['run{}'.format(i)] = ranks"
   ]
  },
  {
   "cell_type": "code",
   "execution_count": 18,
   "id": "8a8e69e4-914e-43d9-bfa8-28fdd3749655",
   "metadata": {},
   "outputs": [],
   "source": [
    "df_imps_svm = pd.DataFrame()\n",
    "df_ranks_svm = pd.DataFrame()\n",
    "for i in range(10):\n",
    "    imps = pd.read_csv('../results/prostate_val_svm/run{}/gene_feature_importances.csv'.format(i)).set_index('Unnamed: 0')\n",
    "    imps = abs(imps)\n",
    "    ranks = imps.rank(ascending=False)\n",
    "    df_imps_svm['run{}'.format(i)] = imps\n",
    "    df_ranks_svm['run{}'.format(i)] = ranks"
   ]
  },
  {
   "cell_type": "code",
   "execution_count": 19,
   "id": "b47258f7-6c63-4311-9118-c9747cc73160",
   "metadata": {
    "tags": []
   },
   "outputs": [],
   "source": [
    "import numpy as np"
   ]
  },
  {
   "cell_type": "code",
   "execution_count": 20,
   "id": "05c3e646-90c3-4f36-a73c-ab39969692da",
   "metadata": {},
   "outputs": [],
   "source": [
    "def stability_score_bootstrap(imps, top_n, n_subs, boots):\n",
    "    scores = []\n",
    "    for b in range(boots):\n",
    "        imps_ = imps.sample(n_subs, axis=1)\n",
    "        overlaps = []\n",
    "        for c1 in imps_.columns:\n",
    "            for c2 in imps_.columns:\n",
    "                if c1 > c2:\n",
    "                    overlaps.append(len(set(imps_.nlargest(top_n, c1).index).intersection(set(imps_.nlargest(top_n, c2).index))))\n",
    "        scores.append(sum(overlaps)/(imps_.shape[1]*(imps_.shape[1]-1)/2*top_n))\n",
    "    return np.std(scores)"
   ]
  },
  {
   "cell_type": "code",
   "execution_count": 21,
   "id": "42b05627-1a00-49d7-98bb-15f4f6b4f838",
   "metadata": {},
   "outputs": [],
   "source": [
    "def stability_score(imps, top_n):\n",
    "    overlaps = []\n",
    "    for c1 in imps.columns:\n",
    "        for c2 in imps.columns:\n",
    "            if c1 > c2:\n",
    "                overlaps.append(len(set(imps.nlargest(top_n, c1).index).intersection(set(imps.nlargest(top_n, c2).index))))\n",
    "    return sum(overlaps)/(imps.shape[1]*(imps.shape[1]-1)/2*top_n)"
   ]
  },
  {
   "cell_type": "code",
   "execution_count": 22,
   "id": "c3e9a6d3-7377-42be-acfa-33868eaae086",
   "metadata": {},
   "outputs": [],
   "source": [
    "imps_list = [df_imps, df_imps_fcnn, df_imps_rf, df_imps_svm, df_imps_hall, df_imps_rand]"
   ]
  },
  {
   "cell_type": "code",
   "execution_count": 23,
   "id": "38ef4549-9324-4a33-8aa2-6b70680eabb7",
   "metadata": {},
   "outputs": [],
   "source": [
    "n_genes = [1, 5, 10, 15, 20, 30, 40, 50, 75, 100, 125, 150, 175, 200]\n",
    "p_net_stab = [stability_score(df_imps, n) for n in n_genes]\n",
    "p_net_stab_var = [stability_score_bootstrap(df_imps, n, 4, 100) for n in n_genes]\n",
    "\n",
    "f_net_stab = [stability_score(df_imps_fcnn, n) for n in n_genes]\n",
    "f_net_stab_var = [stability_score_bootstrap(df_imps_fcnn, n, 4, 100) for n in n_genes]\n",
    "\n",
    "rf_stab = [stability_score(df_imps_rf, n) for n in n_genes]\n",
    "rf_stab_var = [stability_score_bootstrap(df_imps_rf, n, 4, 100) for n in n_genes]\n",
    "\n",
    "svm_stab = [stability_score(df_imps_svm, n) for n in n_genes]\n",
    "svm_stab_var = [stability_score_bootstrap(df_imps_svm, n, 4, 100) for n in n_genes]\n",
    "\n",
    "hall_stab = [stability_score(df_imps_hall, n) for n in n_genes]\n",
    "hall_stab_var = [stability_score_bootstrap(df_imps_hall, n, 4, 100) for n in n_genes]\n",
    "\n",
    "rand_stab = [stability_score(df_imps_rand, n) for n in n_genes]\n",
    "rand_stab_var = [stability_score_bootstrap(df_imps_rand, n, 4, 100) for n in n_genes]\n",
    "\n",
    "plt_df = pd.DataFrame(index=n_genes)\n",
    "plt_df['P-Net'] = p_net_stab\n",
    "plt_df['FCNN'] = f_net_stab\n",
    "plt_df['RF'] = rf_stab\n",
    "plt_df['SVM'] = svm_stab\n",
    "plt_df['Hallmark'] = hall_stab\n",
    "plt_df['Sparse'] = rand_stab"
   ]
  },
  {
   "cell_type": "code",
   "execution_count": 24,
   "id": "2535ce97-6555-4782-b625-bfbf1af0ba10",
   "metadata": {},
   "outputs": [
    {
     "data": {
      "image/png": "[encoded data removed]",
      "text/plain": [
       "<Figure size 648x360 with 1 Axes>"
      ]
     },
     "metadata": {
      "needs_background": "light"
     },
     "output_type": "display_data"
    }
   ],
   "source": [
    "error_fcnn = np.array(f_net_stab_var)\n",
    "lower_fcnn = np.array(f_net_stab) - error_fcnn\n",
    "upper_fcnn = np.array(f_net_stab) + error_fcnn\n",
    "\n",
    "error_pnet = np.array(p_net_stab_var)\n",
    "lower_pnet = np.array(p_net_stab) - error_pnet\n",
    "upper_pnet = np.array(p_net_stab) + error_pnet\n",
    "\n",
    "error_rf = np.array(rf_stab_var)\n",
    "lower_rf = np.array(rf_stab) - error_rf\n",
    "upper_rf = np.array(rf_stab) + error_rf\n",
    "\n",
    "error_svm = np.array(svm_stab_var)\n",
    "lower_svm = np.array(svm_stab) - error_svm\n",
    "upper_svm = np.array(svm_stab) + error_svm\n",
    "\n",
    "error_hall = np.array(hall_stab_var)\n",
    "lower_hall = np.array(hall_stab) - error_hall\n",
    "upper_hall = np.array(hall_stab) + error_hall\n",
    "\n",
    "error_rand = np.array(rand_stab_var)\n",
    "lower_rand = np.array(rand_stab) - error_hall\n",
    "upper_rand = np.array(rand_stab) + error_hall\n",
    "\n",
    "fig, ax = plt.subplots(figsize=(9,5))\n",
    "plt_df.plot(ax=ax, color={'RF':'#FFA300', 'P-Net':'#41B6E6', 'FCNN':'#00629B', 'SVM':'#63666A', 'Hallmark':'#6DCDB8', 'Sparse':'#9678D3'})\n",
    "ax.errorbar(n_genes, np.array(rf_stab), error_rf, color='#FFA300', ecolor='#FFA300', capsize=2)\n",
    "ax.errorbar(n_genes, np.array(f_net_stab), error_fcnn, color='#00629B', ecolor='#00629B', capsize=2)\n",
    "ax.errorbar(n_genes, np.array(p_net_stab), error_pnet, color='#41B6E6', ecolor='#41B6E6', capsize=2)\n",
    "ax.errorbar(n_genes, np.array(svm_stab), error_svm, color='#63666A', ecolor='#63666A', capsize=2)\n",
    "ax.errorbar(n_genes, np.array(hall_stab), error_hall, color='#6DCDB8', ecolor='#6DCDB8', capsize=2)\n",
    "ax.errorbar(n_genes, np.array(rand_stab), error_rand, color='#9678D3', ecolor='#9678D3', capsize=2)\n",
    "sns.despine()\n",
    "ax.set_xlabel('Top N genes considered', size=14)\n",
    "ax.set_ylabel('Gene Importance Stability', size=14)\n",
    "ax.legend(bbox_to_anchor=(1., .5), frameon=False, markerscale=2, fontsize=12, title='Model')\n",
    "plt.savefig('../figures/importance_stability_n_genes.pdf', bbox_inches='tight')\n",
    "plt.show()"
   ]
  },
  {
   "cell_type": "code",
   "execution_count": 25,
   "id": "9e1ce9f0-0250-447c-a578-042ae73aeb92",
   "metadata": {},
   "outputs": [
    {
     "data": {
      "text/html": [
       "<div>\n",
       "<style scoped>\n",
       "    .dataframe tbody tr th:only-of-type {\n",
       "        vertical-align: middle;\n",
       "    }\n",
       "\n",
       "    .dataframe tbody tr th {\n",
       "        vertical-align: top;\n",
       "    }\n",
       "\n",
       "    .dataframe thead th {\n",
       "        text-align: right;\n",
       "    }\n",
       "</style>\n",
       "<table border=\"1\" class=\"dataframe\">\n",
       "  <thead>\n",
       "    <tr style=\"text-align: right;\">\n",
       "      <th></th>\n",
       "      <th>P-Net</th>\n",
       "      <th>FCNN</th>\n",
       "      <th>RF</th>\n",
       "      <th>SVM</th>\n",
       "      <th>Hallmark</th>\n",
       "      <th>Sparse</th>\n",
       "    </tr>\n",
       "  </thead>\n",
       "  <tbody>\n",
       "    <tr>\n",
       "      <th>1</th>\n",
       "      <td>1.000000</td>\n",
       "      <td>1.000000</td>\n",
       "      <td>1.000000</td>\n",
       "      <td>1.000000</td>\n",
       "      <td>1.000000</td>\n",
       "      <td>1.000000</td>\n",
       "    </tr>\n",
       "    <tr>\n",
       "      <th>5</th>\n",
       "      <td>0.826667</td>\n",
       "      <td>0.648889</td>\n",
       "      <td>0.880000</td>\n",
       "      <td>0.626667</td>\n",
       "      <td>0.706667</td>\n",
       "      <td>0.804444</td>\n",
       "    </tr>\n",
       "    <tr>\n",
       "      <th>10</th>\n",
       "      <td>0.540000</td>\n",
       "      <td>0.424444</td>\n",
       "      <td>0.795556</td>\n",
       "      <td>0.657778</td>\n",
       "      <td>0.480000</td>\n",
       "      <td>0.517778</td>\n",
       "    </tr>\n",
       "    <tr>\n",
       "      <th>15</th>\n",
       "      <td>0.441481</td>\n",
       "      <td>0.339259</td>\n",
       "      <td>0.777778</td>\n",
       "      <td>0.672593</td>\n",
       "      <td>0.355556</td>\n",
       "      <td>0.459259</td>\n",
       "    </tr>\n",
       "    <tr>\n",
       "      <th>20</th>\n",
       "      <td>0.411111</td>\n",
       "      <td>0.292222</td>\n",
       "      <td>0.724444</td>\n",
       "      <td>0.645556</td>\n",
       "      <td>0.318889</td>\n",
       "      <td>0.434444</td>\n",
       "    </tr>\n",
       "    <tr>\n",
       "      <th>30</th>\n",
       "      <td>0.362963</td>\n",
       "      <td>0.264444</td>\n",
       "      <td>0.716296</td>\n",
       "      <td>0.625185</td>\n",
       "      <td>0.263704</td>\n",
       "      <td>0.386667</td>\n",
       "    </tr>\n",
       "    <tr>\n",
       "      <th>40</th>\n",
       "      <td>0.359444</td>\n",
       "      <td>0.251667</td>\n",
       "      <td>0.710556</td>\n",
       "      <td>0.659444</td>\n",
       "      <td>0.260556</td>\n",
       "      <td>0.388889</td>\n",
       "    </tr>\n",
       "    <tr>\n",
       "      <th>50</th>\n",
       "      <td>0.338222</td>\n",
       "      <td>0.240444</td>\n",
       "      <td>0.713778</td>\n",
       "      <td>0.674667</td>\n",
       "      <td>0.253778</td>\n",
       "      <td>0.374667</td>\n",
       "    </tr>\n",
       "    <tr>\n",
       "      <th>75</th>\n",
       "      <td>0.335704</td>\n",
       "      <td>0.242963</td>\n",
       "      <td>0.728296</td>\n",
       "      <td>0.658370</td>\n",
       "      <td>0.269630</td>\n",
       "      <td>0.381037</td>\n",
       "    </tr>\n",
       "    <tr>\n",
       "      <th>100</th>\n",
       "      <td>0.351556</td>\n",
       "      <td>0.250222</td>\n",
       "      <td>0.740889</td>\n",
       "      <td>0.653778</td>\n",
       "      <td>0.275556</td>\n",
       "      <td>0.383556</td>\n",
       "    </tr>\n",
       "    <tr>\n",
       "      <th>125</th>\n",
       "      <td>0.355911</td>\n",
       "      <td>0.273778</td>\n",
       "      <td>0.755911</td>\n",
       "      <td>0.655822</td>\n",
       "      <td>0.279289</td>\n",
       "      <td>0.397156</td>\n",
       "    </tr>\n",
       "    <tr>\n",
       "      <th>150</th>\n",
       "      <td>0.362667</td>\n",
       "      <td>0.287259</td>\n",
       "      <td>0.765185</td>\n",
       "      <td>0.649926</td>\n",
       "      <td>0.297630</td>\n",
       "      <td>0.413037</td>\n",
       "    </tr>\n",
       "    <tr>\n",
       "      <th>175</th>\n",
       "      <td>0.379810</td>\n",
       "      <td>0.302222</td>\n",
       "      <td>0.766857</td>\n",
       "      <td>0.654730</td>\n",
       "      <td>0.318222</td>\n",
       "      <td>0.420317</td>\n",
       "    </tr>\n",
       "    <tr>\n",
       "      <th>200</th>\n",
       "      <td>0.388778</td>\n",
       "      <td>0.315111</td>\n",
       "      <td>0.782556</td>\n",
       "      <td>0.656111</td>\n",
       "      <td>0.331556</td>\n",
       "      <td>0.434556</td>\n",
       "    </tr>\n",
       "  </tbody>\n",
       "</table>\n",
       "</div>"
      ],
      "text/plain": [
       "        P-Net      FCNN        RF       SVM  Hallmark    Sparse\n",
       "1    1.000000  1.000000  1.000000  1.000000  1.000000  1.000000\n",
       "5    0.826667  0.648889  0.880000  0.626667  0.706667  0.804444\n",
       "10   0.540000  0.424444  0.795556  0.657778  0.480000  0.517778\n",
       "15   0.441481  0.339259  0.777778  0.672593  0.355556  0.459259\n",
       "20   0.411111  0.292222  0.724444  0.645556  0.318889  0.434444\n",
       "30   0.362963  0.264444  0.716296  0.625185  0.263704  0.386667\n",
       "40   0.359444  0.251667  0.710556  0.659444  0.260556  0.388889\n",
       "50   0.338222  0.240444  0.713778  0.674667  0.253778  0.374667\n",
       "75   0.335704  0.242963  0.728296  0.658370  0.269630  0.381037\n",
       "100  0.351556  0.250222  0.740889  0.653778  0.275556  0.383556\n",
       "125  0.355911  0.273778  0.755911  0.655822  0.279289  0.397156\n",
       "150  0.362667  0.287259  0.765185  0.649926  0.297630  0.413037\n",
       "175  0.379810  0.302222  0.766857  0.654730  0.318222  0.420317\n",
       "200  0.388778  0.315111  0.782556  0.656111  0.331556  0.434556"
      ]
     },
     "execution_count": 25,
     "metadata": {},
     "output_type": "execute_result"
    }
   ],
   "source": [
    "plt_df"
   ]
  },
  {
   "cell_type": "code",
   "execution_count": 32,
   "id": "28995d77-be4f-4fe6-b620-8ed31cf0f8c2",
   "metadata": {},
   "outputs": [
    {
     "data": {
      "text/html": [
       "<div>\n",
       "<style scoped>\n",
       "    .dataframe tbody tr th:only-of-type {\n",
       "        vertical-align: middle;\n",
       "    }\n",
       "\n",
       "    .dataframe tbody tr th {\n",
       "        vertical-align: top;\n",
       "    }\n",
       "\n",
       "    .dataframe thead th {\n",
       "        text-align: right;\n",
       "    }\n",
       "</style>\n",
       "<table border=\"1\" class=\"dataframe\">\n",
       "  <thead>\n",
       "    <tr style=\"text-align: right;\">\n",
       "      <th></th>\n",
       "      <th>AUC</th>\n",
       "      <th>Gene Importance Stability</th>\n",
       "    </tr>\n",
       "  </thead>\n",
       "  <tbody>\n",
       "    <tr>\n",
       "      <th>P-Net</th>\n",
       "      <td>0.735100</td>\n",
       "      <td>0.411111</td>\n",
       "    </tr>\n",
       "    <tr>\n",
       "      <th>FCNN</th>\n",
       "      <td>0.632887</td>\n",
       "      <td>0.292222</td>\n",
       "    </tr>\n",
       "    <tr>\n",
       "      <th>RF</th>\n",
       "      <td>0.723925</td>\n",
       "      <td>0.724444</td>\n",
       "    </tr>\n",
       "    <tr>\n",
       "      <th>SVM</th>\n",
       "      <td>0.685879</td>\n",
       "      <td>0.645556</td>\n",
       "    </tr>\n",
       "    <tr>\n",
       "      <th>Hallmark</th>\n",
       "      <td>0.716846</td>\n",
       "      <td>0.318889</td>\n",
       "    </tr>\n",
       "    <tr>\n",
       "      <th>Sparse</th>\n",
       "      <td>0.711253</td>\n",
       "      <td>0.434444</td>\n",
       "    </tr>\n",
       "  </tbody>\n",
       "</table>\n",
       "</div>"
      ],
      "text/plain": [
       "               AUC  Gene Importance Stability\n",
       "P-Net     0.735100                   0.411111\n",
       "FCNN      0.632887                   0.292222\n",
       "RF        0.723925                   0.724444\n",
       "SVM       0.685879                   0.645556\n",
       "Hallmark  0.716846                   0.318889\n",
       "Sparse    0.711253                   0.434444"
      ]
     },
     "execution_count": 32,
     "metadata": {},
     "output_type": "execute_result"
    }
   ],
   "source": [
    "df"
   ]
  },
  {
   "cell_type": "code",
   "execution_count": 33,
   "id": "943d502f-29be-4c7d-bed7-107d13138b0a",
   "metadata": {},
   "outputs": [
    {
     "data": {
      "image/png": "[encoded data removed]",
      "text/plain": [
       "<Figure size 432x288 with 1 Axes>"
      ]
     },
     "metadata": {
      "needs_background": "light"
     },
     "output_type": "display_data"
    }
   ],
   "source": [
    "df = pd.DataFrame(index=['P-Net', 'FCNN', 'RF', 'SVM', 'Hallmark', 'Sparse'])\n",
    "df['AUC'] = auc_df.mean()\n",
    "df['Gene Importance Stability'] = plt_df.loc[20]\n",
    "\n",
    "df.plot(kind='scatter', x='Gene Importance Stability', y='AUC', color='#41B6E6')\n",
    "sns.despine()\n",
    "for index, row in df.iterrows():\n",
    "    plt.annotate(index, (row['Gene Importance Stability'], row['AUC']), xytext=(5, 0), textcoords='offset points', fontsize=12)\n",
    "plt.ylim((0.85, 0.95))\n",
    "plt.xlabel('Gene Importance Rank Stability', fontsize=14)\n",
    "plt.ylabel('AUC', fontsize=14)\n",
    "plt.savefig('../figures/pnet_performance_gene_variance.pdf')\n",
    "plt.show()"
   ]
  },
  {
   "cell_type": "code",
   "execution_count": 399,
   "id": "fdbd25e1-7a2b-4f14-a0de-ca8056810e9b",
   "metadata": {},
   "outputs": [],
   "source": [
    "all_imps = pd.DataFrame(columns=['SNR', 'Model', 'Layer', 'imp_mean', 'imp_std'])\n",
    "for m in ['val', 'val_random_net']:\n",
    "    for l in ['gene_feature', 'gene', 'layer_0', 'layer_1', 'layer_2', 'layer_3']:\n",
    "        df_imps = pd.DataFrame()\n",
    "        df_ranks = pd.DataFrame()\n",
    "        for i in range(10):\n",
    "            imps = pd.read_csv('../results/prostate_{}/run{}/{}_importances.csv'.format(m, i, l)).set_index('Unnamed: 0')\n",
    "            imps = abs(imps.join(prostate_response).groupby('response').mean().diff(axis=0).iloc[1])\n",
    "            ranks = imps.rank(ascending=False)\n",
    "            df_imps['run{}'.format(i)] = imps\n",
    "            df_ranks['run{}'.format(i)] = ranks\n",
    "            \n",
    "        imp_mean = df_imps.mean(axis=1)\n",
    "        imp_std = df_imps.std(axis=1)\n",
    "        snr = imp_mean/(imp_std+1e-9)\n",
    "        melted_imps = snr.to_frame('SNR')\n",
    "        melted_imps['imp_mean'] = imp_mean\n",
    "        melted_imps['imp_std'] = imp_std\n",
    "        melted_imps['Model'] = m\n",
    "        melted_imps['Layer'] = l\n",
    "        all_imps = pd.concat([all_imps, melted_imps])\n",
    "\n",
    "        \n",
    "layer_numeric = {'gene_feature':-1, 'gene':0, 'layer_0':1, 'layer_1':2, 'layer_2':3, 'layer_3':4}\n",
    "model_dict = {'val':'P-Net', 'val_random_net':'Random Sparse Net'}\n",
    "all_imps['Model'] = all_imps['Model'].apply(lambda x: model_dict[x])\n",
    "all_imps['Numeric Layer'] = all_imps['Layer'].apply(lambda x: layer_numeric[x])\n",
    "\n",
    "all_pathway_imps = all_imps[~all_imps['Layer'].isin(['gene_feature', 'gene'])]\n",
    "\n",
    "significant_imps = {}\n",
    "for m in all_pathway_imps['Model'].unique():\n",
    "    for l in all_pathway_imps['Layer'].unique():\n",
    "        outliers = grubbs.max_test_indices(all_pathway_imps[(all_pathway_imps['Layer'] == l) & (all_pathway_imps['Model'] == m)]['SNR'].values, alpha=2e-5)\n",
    "        outliers = all_pathway_imps[(all_pathway_imps['Layer'] == l) & (all_pathway_imps['Model'] == m)]['SNR'].index[outliers]\n",
    "        for o in outliers:\n",
    "            significant_imps[o] = (m, l)"
   ]
  },
  {
   "cell_type": "code",
   "execution_count": 400,
   "id": "e07b7af7-a392-4d80-92a8-f404f44799a6",
   "metadata": {},
   "outputs": [],
   "source": []
  },
  {
   "cell_type": "code",
   "execution_count": 413,
   "id": "73d5d2ec-bd04-4259-bc28-cf3c0763a05d",
   "metadata": {},
   "outputs": [
    {
     "data": {
      "image/png": "[encoded data removed]",
      "text/plain": [
       "<Figure size 432x288 with 1 Axes>"
      ]
     },
     "metadata": {
      "needs_background": "light"
     },
     "output_type": "display_data"
    }
   ],
   "source": [
    "fig = plt.figure()\n",
    "ax = plt.subplot(111)\n",
    "sns.scatterplot(data=all_pathway_imps[all_pathway_imps['Model'] == 'P-Net'], y='imp_mean', x='imp_std', alpha=0.8, s=20, palette=['#41B6E6'], ax=ax)\n",
    "sns.scatterplot(data=all_pathway_imps[all_pathway_imps['Model'] == 'Random Sparse Net'], y='imp_mean', x='imp_std', alpha=0.8, s=20, palette=['#FFA300'], ax=ax)\n",
    "\n",
    "for si in significant_imps:\n",
    "    row = all_pathway_imps[all_pathway_imps['Model'] == significant_imps[si][0]].loc[si]\n",
    "    plt.annotate(si, (row['imp_std'], row['imp_mean']), textcoords=\"offset points\", xytext=(5,5), ha='center')\n",
    "    \n",
    "ax.legend(labels=['P-Net', 'Random\\nSparse\\nNetwork'], loc='center right', frameon=False, markerscale=2, fontsize=12)\n",
    "ax.set_ylabel('Importance score mean', size=14)\n",
    "ax.set_xlabel('Importance score variance', size=14)\n",
    "sns.despine()\n",
    "plt.savefig('../figures/pnet_and_random_importance_scores_mean_v_variance.pdf')"
   ]
  },
  {
   "cell_type": "code",
   "execution_count": 406,
   "id": "f17b03b4-df31-4c1b-81f5-dd818d74a350",
   "metadata": {
    "tags": []
   },
   "outputs": [
    {
     "data": {
      "image/png": "[encoded data removed]",
      "text/plain": [
       "<Figure size 432x288 with 1 Axes>"
      ]
     },
     "metadata": {
      "needs_background": "light"
     },
     "output_type": "display_data"
    }
   ],
   "source": [
    "sns.violinplot(data=all_pathway_imps, y='SNR', x='Numeric Layer', hue='Model', palette=['#41B6E6', '#FFA300'], facet_kws={'legend_out': False})\n",
    "plt.legend(loc='upper right', frameon=False, markerscale=2, fontsize=12)\n",
    "plt.xlabel('Pathway Layer')\n",
    "plt.ylabel('Signal to Noise Ratio')\n",
    "sns.despine()\n",
    "plt.savefig('../figures/pnet_and_random_importance_scores_snr_violin.pdf')"
   ]
  },
  {
   "cell_type": "code",
   "execution_count": 153,
   "id": "5dd7ff99-a271-40dd-86d3-54cd4efffc11",
   "metadata": {},
   "outputs": [],
   "source": [
    "# grpd_df = all_imps.groupby(['Numeric Layer', 'Model']).mean().reset_index()\n",
    "# std_df = all_imps.groupby(['Numeric Layer', 'Model']).std().reset_index()\n",
    "# grpd_df['Importance'] = grpd_df['Importance']/std_df['Importance']"
   ]
  },
  {
   "cell_type": "code",
   "execution_count": 67,
   "id": "376c2c81-6947-4c01-80ad-34faf116dae2",
   "metadata": {},
   "outputs": [],
   "source": [
    "# sns.lineplot(data=grpd_df, x='Numeric Layer', y='Importance', hue='Model')\n",
    "# plt.legend(['P-Net', 'Random Sparse Net'])\n",
    "# plt.ylabel('SNR of Importance Scores', size=14)\n",
    "# plt.xlabel('Network Layer', size=14)\n",
    "# sns.despine()\n",
    "# plt.savefig('../figures/importance_scores_per_layer_SNR.pdf')"
   ]
  },
  {
   "cell_type": "code",
   "execution_count": null,
   "id": "9df4aa59-ec4e-4549-ba47-7114c93c8836",
   "metadata": {},
   "outputs": [],
   "source": []
  },
  {
   "cell_type": "code",
   "execution_count": null,
   "id": "3d7c989f-2413-4cfb-82a3-02c9273d549f",
   "metadata": {},
   "outputs": [],
   "source": [
    "def plot_violin(dataframe, title, ax):\n",
    "    melted_df = dataframe.melt(var_name='Columns', value_name='Values')\n",
    "    sns.violinplot(y='Values', data=melted_df, ax=ax)\n",
    "    ax.set_title(title)\n",
    "    ax.set_xlabel('Columns', size=14)\n",
    "    ax.set_ylabel('Values', size=14)\n",
    "\n",
    "# Create subplots for each violin plot\n",
    "fig, (ax1, ax2) = plt.subplots(1, 2, figsize=(12, 6), sharey=True)\n",
    "\n",
    "ax2.spines[['top','left','right']].set_visible(False)\n",
    "ax1.spines[['top','right']].set_visible(False)\n",
    "ax2.yaxis.set_visible(False)\n",
    "# Plot the first DataFrame as violin plot\n",
    "plot_violin(df_imps, title='P-Net', ax=ax1)\n",
    "\n",
    "# Plot the second DataFrame as violin plot\n",
    "plot_violin(df_imps_rand, title='Sparse-NN', ax=ax2)"
   ]
  },
  {
   "cell_type": "code",
   "execution_count": null,
   "id": "28c4476f-ee52-4992-9fa8-4e1090311558",
   "metadata": {},
   "outputs": [],
   "source": [
    "df_imps_rand.mean(axis=1).nlargest(20)"
   ]
  },
  {
   "cell_type": "code",
   "execution_count": null,
   "id": "822aef6b-ac0f-4339-bbc3-c9a4831f3922",
   "metadata": {},
   "outputs": [],
   "source": []
  },
  {
   "cell_type": "code",
   "execution_count": null,
   "id": "51b600a6-f06f-47cd-b4c2-87ac248a380f",
   "metadata": {},
   "outputs": [],
   "source": []
  }
 ],
 "metadata": {
  "environment": {
   "kernel": "conda-env-pnet-py",
   "name": "pytorch-gpu.1-10.m90",
   "type": "gcloud",
   "uri": "gcr.io/deeplearning-platform-release/pytorch-gpu.1-10:m90"
  },
  "kernelspec": {
   "display_name": "Python [conda env:pnet]",
   "language": "python",
   "name": "conda-env-pnet-py"
  },
  "language_info": {
   "codemirror_mode": {
    "name": "ipython",
    "version": 3
   },
   "file_extension": ".py",
   "mimetype": "text/x-python",
   "name": "python",
   "nbconvert_exporter": "python",
   "pygments_lexer": "ipython3",
   "version": "3.12.1"
  }
 },
 "nbformat": 4,
 "nbformat_minor": 5
}
