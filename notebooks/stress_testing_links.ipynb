{
 "cells": [
  {
   "cell_type": "code",
   "execution_count": 1,
   "id": "b68a97bf-4708-4bd1-95a5-b7e53a77d343",
   "metadata": {},
   "outputs": [
    {
     "name": "stderr",
     "output_type": "stream",
     "text": [
      "/opt/conda/envs/pnet/lib/python3.12/site-packages/tqdm/auto.py:21: TqdmWarning: IProgress not found. Please update jupyter and ipywidgets. See https://ipywidgets.readthedocs.io/en/stable/user_install.html\n",
      "  from .autonotebook import tqdm as notebook_tqdm\n"
     ]
    }
   ],
   "source": [
    "from pnet import pnet_loader, Pnet, ReactomeNetwork\n",
    "from util import util, sankey_diag\n",
    "\n",
    "import torch\n",
    "import seaborn as sns\n",
    "import pandas as pd\n",
    "import numpy as np\n",
    "from sklearn import metrics\n",
    "import matplotlib.pyplot as plt\n",
    "from sklearn.metrics import roc_auc_score\n",
    "import torch.nn as nn\n",
    "from scipy.stats import bernoulli\n",
    "import networkx as nx\n",
    "\n",
    "%load_ext autoreload\n",
    "%autoreload 2"
   ]
  },
  {
   "cell_type": "code",
   "execution_count": 54,
   "id": "2fe566f3-1020-4ede-ad6d-54c831b264ce",
   "metadata": {
    "tags": []
   },
   "outputs": [
    {
     "name": "stderr",
     "output_type": "stream",
     "text": [
      "/opt/conda/lib/python3.7/site-packages/IPython/core/interactiveshell.py:3524: DtypeWarning: Columns (5,21,27,28,29,30,31,32,33) have mixed types.Specify dtype option on import or set low_memory=False.\n",
      "  exec(code_obj, self.user_global_ns, self.user_ns)\n"
     ]
    }
   ],
   "source": [
    "gene_cn = pd.read_csv('/mnt/disks/pancan/CCLE/CCLE_gene_cn.csv').set_index('Unnamed: 0')\n",
    "gene_cn.rename(columns=dict(zip(gene_cn.columns, [x.split(' ')[0] for x in gene_cn.columns])), inplace=True)\n",
    "\n",
    "muts = pd.read_csv('/mnt/disks/pancan/CCLE/CCLE_mutations.csv')\n",
    "muts.dropna(subset=['Variant_Classification'], inplace=True)\n",
    "\n",
    "MUTATIONS_DICT = util.MUTATIONS_DICT\n",
    "\n",
    "grouped_muts = muts[muts['Variant_Classification'].apply(lambda x: MUTATIONS_DICT[x]) != 'Silent'][['Hugo_Symbol',\n",
    "                                                                                                    'Variant_Classification',\n",
    "                                                                                                    'Tumor_Sample_Barcode']].groupby(['Tumor_Sample_Barcode',\n",
    "                                                                                                                                          'Hugo_Symbol']).count()\n",
    "mut = grouped_muts.unstack(level=-1).fillna(0).droplevel(0, axis=1)\n",
    "\n",
    "p53_target = pd.DataFrame(mut['TP53'] > 0).astype(int)\n",
    "p53_target.rename(columns=dict.fromkeys(['TP53'],'TP53_mut'), inplace=True)\n",
    "\n",
    "rna = pd.read_csv('/mnt/disks/pancan/CCLE/CCLE_expression_full.csv').set_index('Unnamed: 0')\n",
    "rna.rename(columns=dict(zip(rna.columns, [x.split(' ')[0] for x in rna.columns])), inplace=True)\n",
    "\n",
    "canc_genes = list(pd.read_csv('../../pnet_database/genes/cancer_genes.txt').values.reshape(-1))\n",
    "canc_genes.remove('TP53')\n",
    "canc_genes.remove('KMT2D')\n",
    "\n",
    "genetic_data = {'rna': rna, 'mut': mut}"
   ]
  },
  {
   "cell_type": "markdown",
   "id": "c06a432d-9dad-4050-a5de-c651f327ef29",
   "metadata": {},
   "source": [
    "Let's see if we can regenerate the important link in 'Deubiquitination (R-HSA-5688426)' in the pathway layer 2. First of all, when we drop the link we should see a slight drop in performance of the network since it was robbed one of it's more important predictors."
   ]
  },
  {
   "cell_type": "code",
   "execution_count": 55,
   "id": "620f0f47-989a-44a6-aebc-5a2f96990435",
   "metadata": {},
   "outputs": [
    {
     "name": "stdout",
     "output_type": "stream",
     "text": [
      "Task defined: BC \n",
      " if this is not the intended task please specify task\n",
      "Given 2 Input modalities\n",
      "Found 1183 overlapping indicies\n",
      "Initializing Train Dataset\n",
      "Found 705 overlapping genes\n",
      "generated input DataFrame of size (1064, 1410)\n",
      "Initializing Test Dataset\n",
      "Found 705 overlapping genes\n",
      "generated input DataFrame of size (119, 1410)\n",
      "Found 705 overlapping genes\n",
      "removed:  Transcriptional Regulation by TP53\n",
      "We are sending to cuda\n",
      "Hit early stopping criteria\n",
      "Task defined: BC \n",
      " if this is not the intended task please specify task\n",
      "Given 2 Input modalities\n",
      "Found 1183 overlapping indicies\n",
      "Initializing Train Dataset\n",
      "Found 705 overlapping genes\n",
      "generated input DataFrame of size (1064, 1410)\n",
      "Initializing Test Dataset\n",
      "Found 705 overlapping genes\n",
      "generated input DataFrame of size (119, 1410)\n",
      "Found 705 overlapping genes\n",
      "removed:  Transcriptional Regulation by TP53\n",
      "We are sending to cuda\n",
      "Hit early stopping criteria\n",
      "Task defined: BC \n",
      " if this is not the intended task please specify task\n",
      "Given 2 Input modalities\n",
      "Found 1183 overlapping indicies\n",
      "Initializing Train Dataset\n",
      "Found 705 overlapping genes\n",
      "generated input DataFrame of size (1064, 1410)\n",
      "Initializing Test Dataset\n",
      "Found 705 overlapping genes\n",
      "generated input DataFrame of size (119, 1410)\n",
      "Found 705 overlapping genes\n",
      "removed:  Transcriptional Regulation by TP53\n",
      "We are sending to cuda\n",
      "Hit early stopping criteria\n",
      "Task defined: BC \n",
      " if this is not the intended task please specify task\n",
      "Given 2 Input modalities\n",
      "Found 1183 overlapping indicies\n",
      "Initializing Train Dataset\n",
      "Found 705 overlapping genes\n",
      "generated input DataFrame of size (1065, 1410)\n",
      "Initializing Test Dataset\n",
      "Found 705 overlapping genes\n",
      "generated input DataFrame of size (118, 1410)\n",
      "Found 705 overlapping genes\n",
      "removed:  Transcriptional Regulation by TP53\n",
      "We are sending to cuda\n",
      "Hit early stopping criteria\n",
      "Task defined: BC \n",
      " if this is not the intended task please specify task\n",
      "Given 2 Input modalities\n",
      "Found 1183 overlapping indicies\n",
      "Initializing Train Dataset\n",
      "Found 705 overlapping genes\n",
      "generated input DataFrame of size (1065, 1410)\n",
      "Initializing Test Dataset\n",
      "Found 705 overlapping genes\n",
      "generated input DataFrame of size (118, 1410)\n",
      "Found 705 overlapping genes\n",
      "removed:  Transcriptional Regulation by TP53\n",
      "We are sending to cuda\n",
      "Hit early stopping criteria\n",
      "Task defined: BC \n",
      " if this is not the intended task please specify task\n",
      "Given 2 Input modalities\n",
      "Found 1183 overlapping indicies\n",
      "Initializing Train Dataset\n",
      "Found 705 overlapping genes\n",
      "generated input DataFrame of size (1065, 1410)\n",
      "Initializing Test Dataset\n",
      "Found 705 overlapping genes\n",
      "generated input DataFrame of size (118, 1410)\n",
      "Found 705 overlapping genes\n",
      "removed:  Transcriptional Regulation by TP53\n",
      "We are sending to cuda\n",
      "Hit early stopping criteria\n",
      "Task defined: BC \n",
      " if this is not the intended task please specify task\n",
      "Given 2 Input modalities\n",
      "Found 1183 overlapping indicies\n",
      "Initializing Train Dataset\n",
      "Found 705 overlapping genes\n",
      "generated input DataFrame of size (1065, 1410)\n",
      "Initializing Test Dataset\n",
      "Found 705 overlapping genes\n",
      "generated input DataFrame of size (118, 1410)\n",
      "Found 705 overlapping genes\n",
      "removed:  Transcriptional Regulation by TP53\n",
      "We are sending to cuda\n",
      "Hit early stopping criteria\n",
      "Task defined: BC \n",
      " if this is not the intended task please specify task\n",
      "Given 2 Input modalities\n",
      "Found 1183 overlapping indicies\n",
      "Initializing Train Dataset\n",
      "Found 705 overlapping genes\n",
      "generated input DataFrame of size (1065, 1410)\n",
      "Initializing Test Dataset\n",
      "Found 705 overlapping genes\n",
      "generated input DataFrame of size (118, 1410)\n",
      "Found 705 overlapping genes\n",
      "removed:  Transcriptional Regulation by TP53\n",
      "We are sending to cuda\n",
      "Hit early stopping criteria\n",
      "Task defined: BC \n",
      " if this is not the intended task please specify task\n",
      "Given 2 Input modalities\n",
      "Found 1183 overlapping indicies\n",
      "Initializing Train Dataset\n",
      "Found 705 overlapping genes\n",
      "generated input DataFrame of size (1065, 1410)\n",
      "Initializing Test Dataset\n",
      "Found 705 overlapping genes\n",
      "generated input DataFrame of size (118, 1410)\n",
      "Found 705 overlapping genes\n",
      "removed:  Transcriptional Regulation by TP53\n",
      "We are sending to cuda\n",
      "Hit early stopping criteria\n",
      "Task defined: BC \n",
      " if this is not the intended task please specify task\n",
      "Given 2 Input modalities\n",
      "Found 1183 overlapping indicies\n",
      "Initializing Train Dataset\n",
      "Found 705 overlapping genes\n",
      "generated input DataFrame of size (1065, 1410)\n",
      "Initializing Test Dataset\n",
      "Found 705 overlapping genes\n",
      "generated input DataFrame of size (118, 1410)\n",
      "Found 705 overlapping genes\n",
      "removed:  Transcriptional Regulation by TP53\n",
      "We are sending to cuda\n",
      "Hit early stopping criteria\n"
     ]
    },
    {
     "data": {
      "image/png": "[encoded data removed]",
      "text/plain": [
       "<Figure size 432x288 with 1 Axes>"
      ]
     },
     "metadata": {
      "needs_background": "light"
     },
     "output_type": "display_data"
    }
   ],
   "source": [
    "class_weights = util.get_class_weights(torch.tensor(p53_target.values).view(-1))\n",
    "for i in range(10):\n",
    "    train_inds = list(pd.read_csv('../data/splits/ccle/train_set_{}.csv'.format(i))['indicies'])\n",
    "    test_inds = list(pd.read_csv('../data/splits/ccle/test_set_{}.csv'.format(i))['indicies'])\n",
    "    model, train_scores, test_scores, train_dataset, test_dataset = Pnet.run(genetic_data, p53_target, seed=0, dropout=0.2, input_dropout=0.5, lr=1e-3,\n",
    "                                                                             weight_decay=1e-3, batch_size=64, epochs=400, early_stopping=True, \n",
    "                                                                             loss_weight=class_weights, train_inds=train_inds, test_inds=test_inds,\n",
    "                                                                             save_path='../results/ccle_pathway_drop/model',\n",
    "                                                                             loss_fn=nn.BCEWithLogitsLoss(reduce=None), gene_set=canc_genes,\n",
    "                                                                             drop_pathways=['Transcriptional Regulation by TP53'])\n",
    "    plt.clf()\n",
    "    Pnet.evaluate_interpret_save(model, test_dataset, '../results/ccle_pathway_drop/run{}'.format(i))"
   ]
  },
  {
   "cell_type": "code",
   "execution_count": null,
   "id": "f6de4656-3e6e-4bed-a7cc-b7633ee91da4",
   "metadata": {},
   "outputs": [],
   "source": []
  },
  {
   "cell_type": "code",
   "execution_count": 57,
   "id": "cfb3760e-c9fd-4da6-806c-644d1058f2ef",
   "metadata": {},
   "outputs": [
    {
     "data": {
      "text/plain": [
       "ccle_pathway_drop    0.912148\n",
       "ccle_val             0.907241\n",
       "dtype: float64"
      ]
     },
     "execution_count": 57,
     "metadata": {},
     "output_type": "execute_result"
    }
   ],
   "source": [
    "auc_df = pd.DataFrame()\n",
    "models = ['ccle_val', 'ccle_pathway_drop']\n",
    "for mod in models:\n",
    "    aucs = []\n",
    "    for i in range(10):\n",
    "        auc = torch.load('../results/{}/run{}/AUC.pt'.format(mod, i))\n",
    "        aucs.append(auc.item())\n",
    "    auc_df[mod] = aucs\n",
    "\n",
    "auc_df = auc_df[auc_df.mean().sort_values(ascending=False).index]\n",
    "auc_df.rename(columns={'prostate_val': 'P-Net', 'pathway_drop': 'P-Net \\n with dropped Pathway'}, inplace=True)\n",
    "\n",
    "auc_df.mean()"
   ]
  },
  {
   "cell_type": "code",
   "execution_count": 58,
   "id": "fbd55853-da30-4dd4-ab7c-f9a3b13248c2",
   "metadata": {},
   "outputs": [
    {
     "data": {
      "image/png": "[encoded data removed]",
      "text/plain": [
       "<Figure size 432x288 with 1 Axes>"
      ]
     },
     "metadata": {
      "needs_background": "light"
     },
     "output_type": "display_data"
    }
   ],
   "source": [
    "auc_df.plot(kind='box', showfliers=False, patch_artist=True, boxprops={'facecolor': 'lightgrey', 'color': 'lightgrey'},\n",
    "                      whiskerprops={'color': 'gainsboro'},\n",
    "                      capprops={'color': 'gainsboro'},\n",
    "                      medianprops={'color': 'dimgrey'})\n",
    "ax = plt.gca()\n",
    "\n",
    "ax.spines[['top', 'right']].set_visible(False)\n",
    "plt.axhline(y=auc_df.median().min(), color='coral', linestyle='--', label=f'y_min = {auc_df.median().min()}', alpha=0.5)\n",
    "ax.set_ylabel('AUC', size=14)\n",
    "ax.set_xlabel('Model', size=14)\n",
    "ax.set_ylim((0.5,1))\n",
    "plt.savefig('../figures/pnet_performance_pathway_drop_AUC.pdf')"
   ]
  },
  {
   "cell_type": "code",
   "execution_count": 60,
   "id": "1f97654c-2eee-439c-af82-3823ff351743",
   "metadata": {},
   "outputs": [
    {
     "name": "stdout",
     "output_type": "stream",
     "text": [
      "Given 2 Input modalities\n",
      "Found 1183 overlapping indicies\n",
      "Initializing Train Dataset\n",
      "Found 705 overlapping genes\n",
      "generated input DataFrame of size (828, 1410)\n",
      "Initializing Test Dataset\n",
      "Found 705 overlapping genes\n",
      "generated input DataFrame of size (355, 1410)\n",
      "Found 705 overlapping genes\n"
     ]
    }
   ],
   "source": [
    "train_dataset, test_dataset = pnet_loader.generate_train_test(genetic_data, p53_target, gene_set=canc_genes)\n",
    "\n",
    "reactome_network = ReactomeNetwork.ReactomeNetwork(train_dataset.get_genes())"
   ]
  },
  {
   "cell_type": "code",
   "execution_count": 71,
   "id": "0dc4cf47-76b7-4f1b-aae0-93445cfec567",
   "metadata": {},
   "outputs": [
    {
     "data": {
      "image/png": "[encoded data removed]",
      "text/plain": [
       "<Figure size 432x288 with 1 Axes>"
      ]
     },
     "metadata": {
      "needs_background": "light"
     },
     "output_type": "display_data"
    }
   ],
   "source": [
    "df_imps_prostate = pd.DataFrame()\n",
    "df_ranks_prostate = pd.DataFrame()\n",
    "for i in range(10):\n",
    "    imps = pd.read_csv('../results/ccle_pathway_drop/run{}/layer_1_importances.csv'.format(i)).set_index('Unnamed: 0')\n",
    "    imps = imps.join(p53_target).groupby('TP53_mut').mean().diff(axis=0).iloc[1]\n",
    "    # imps = imps.mean()\n",
    "    ranks = imps.rank(ascending=False)\n",
    "    df_imps_prostate['run{}'.format(i)] = imps\n",
    "    df_ranks_prostate['run{}'.format(i)] = ranks\n",
    "df_imps_prostate = df_imps_prostate.loc[[i for i in df_imps_prostate.index if i.split('.')[-1] != '1']]    \n",
    "\n",
    "centrality_df = pd.DataFrame.from_dict(nx.degree_centrality(reactome_network.graph), orient='index')\n",
    "enc_dict = reactome_network.pathway_encoding.set_index('ID')['pathway']\n",
    "enc_dict['root'] = 'root'\n",
    "centrality_df.index = centrality_df.index.map(lambda x: enc_dict[x])\n",
    "centrality_df = centrality_df[~centrality_df.index.duplicated(keep='first')]\n",
    "    \n",
    "plotting_df = pd.DataFrame()\n",
    "plotting_df['prostate_imps'] = df_imps_prostate.mean(axis=1)\n",
    "plotting_df['centrality'] = centrality_df.loc[plotting_df.index]\n",
    "\n",
    "sns.scatterplot(data=plotting_df, x='centrality', y='prostate_imps', s=20, alpha=0.7)\n",
    "for index, row in plotting_df.iterrows():\n",
    "    if abs(row['prostate_imps']) > 0.1:\n",
    "        plt.annotate(index, (row['centrality'], row['prostate_imps']), textcoords=\"offset points\", xytext=(5,5), ha='center')\n",
    "\n",
    "sns.despine()\n",
    "plt.legend(['Real labels', 'Random labels'])\n",
    "plt.ylabel('Importance score')\n",
    "plt.xlabel('Pathway centrality')\n",
    "# plt.savefig('../figures/layer1_imp_vs_connections.pdf')\n",
    "plt.show()"
   ]
  },
  {
   "cell_type": "code",
   "execution_count": null,
   "id": "a6b1b46a-953d-48d0-8387-df392006ce00",
   "metadata": {},
   "outputs": [],
   "source": []
  }
 ],
 "metadata": {
  "environment": {
   "kernel": "conda-env-pnet-py",
   "name": "pytorch-gpu.1-10.m90",
   "type": "gcloud",
   "uri": "gcr.io/deeplearning-platform-release/pytorch-gpu.1-10:m90"
  },
  "kernelspec": {
   "display_name": "Python [conda env:pnet]",
   "language": "python",
   "name": "conda-env-pnet-py"
  },
  "language_info": {
   "codemirror_mode": {
    "name": "ipython",
    "version": 3
   },
   "file_extension": ".py",
   "mimetype": "text/x-python",
   "name": "python",
   "nbconvert_exporter": "python",
   "pygments_lexer": "ipython3",
   "version": "3.12.1"
  }
 },
 "nbformat": 4,
 "nbformat_minor": 5
}
